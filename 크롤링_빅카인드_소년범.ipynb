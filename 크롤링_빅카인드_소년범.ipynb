{
 "cells": [
  {
   "cell_type": "markdown",
   "id": "0a1ad061",
   "metadata": {},
   "source": [
    "검색어: 소년범  \n",
    "기간: 2011/07/15 ~ 2021/07/14 (최근 10년)  \n",
    "언론사: 전체  \n",
    "통합분류: 정치, 사회, 문화  \n",
    "사건사고 분류: 범죄, 사회  "
   ]
  },
  {
   "cell_type": "code",
   "execution_count": 1,
   "id": "9ab907ce",
   "metadata": {},
   "outputs": [
    {
     "name": "stdout",
     "output_type": "stream",
     "text": [
      "Requirement already satisfied: selenium in d:\\mydeven\\lib\\site-packages (3.141.0)\n",
      "Requirement already satisfied: urllib3 in d:\\mydeven\\lib\\site-packages (from selenium) (1.26.4)\n"
     ]
    }
   ],
   "source": [
    "!pip install selenium"
   ]
  },
  {
   "cell_type": "code",
   "execution_count": 2,
   "id": "8e58523f",
   "metadata": {},
   "outputs": [],
   "source": [
    "from selenium import webdriver\n",
    "from selenium.webdriver.common.keys import Keys\n",
    "import time"
   ]
  },
  {
   "cell_type": "code",
   "execution_count": 6,
   "id": "9762d5e4",
   "metadata": {},
   "outputs": [],
   "source": [
    "# 웹 드라이버 경로 설정\n",
    "path = './chromedriver.exe'\n",
    "\n",
    "# 크롬 웹 드라이버 객체 생성\n",
    "driver = webdriver.Chrome(path)\n",
    "\n",
    "# url 설정\n",
    "url = 'https://www.bigkinds.or.kr/'\n",
    "\n",
    "# 페이지 열기\n",
    "driver.get(url)"
   ]
  },
  {
   "cell_type": "code",
   "execution_count": 4,
   "id": "d6526fcc",
   "metadata": {},
   "outputs": [],
   "source": [
    "win_size = driver.get_window_size()\n",
    "width = win_size['width']\n",
    "\n",
    "if width <= 1024:\n",
    "    search_logm_btn = driver.find_element_by_class_name('btn-menu')\n",
    "    search_logm_btn.click()\n",
    "    time.sleep(1)\n",
    "    search_logm_btn = driver.find_element_by_css_selector('#header > div.hd-gnb > div.gnb-top > button.btn-login.login-modal-btn.login-area-before')\n",
    "    search_logm_btn.click()\n",
    "\n",
    "else:\n",
    "    search_logd_btn = driver.find_element_by_css_selector('#header > div.hd-top > div > div > button.btn-login.login-modal-btn.login-area-before')\n",
    "    search_logd_btn.click()"
   ]
  },
  {
   "cell_type": "code",
   "execution_count": 5,
   "id": "e39d285e",
   "metadata": {
    "scrolled": true
   },
   "outputs": [
    {
     "ename": "ElementNotInteractableException",
     "evalue": "Message: element not interactable\n  (Session info: chrome=91.0.4472.124)\n",
     "output_type": "error",
     "traceback": [
      "\u001b[1;31m---------------------------------------------------------------------------\u001b[0m",
      "\u001b[1;31mElementNotInteractableException\u001b[0m           Traceback (most recent call last)",
      "\u001b[1;32m<ipython-input-5-7d13b0c54096>\u001b[0m in \u001b[0;36m<module>\u001b[1;34m\u001b[0m\n\u001b[0;32m      1\u001b[0m \u001b[1;31m# 검색키워드 \"소년범\" 입력\u001b[0m\u001b[1;33m\u001b[0m\u001b[1;33m\u001b[0m\u001b[1;33m\u001b[0m\u001b[0m\n\u001b[0;32m      2\u001b[0m \u001b[0minputSearch\u001b[0m \u001b[1;33m=\u001b[0m \u001b[0mdriver\u001b[0m\u001b[1;33m.\u001b[0m\u001b[0mfind_element_by_id\u001b[0m\u001b[1;33m(\u001b[0m\u001b[1;34m'total-search-key'\u001b[0m\u001b[1;33m)\u001b[0m\u001b[1;33m\u001b[0m\u001b[1;33m\u001b[0m\u001b[0m\n\u001b[1;32m----> 3\u001b[1;33m \u001b[0minputSearch\u001b[0m\u001b[1;33m.\u001b[0m\u001b[0msend_keys\u001b[0m\u001b[1;33m(\u001b[0m\u001b[1;34m'소년범'\u001b[0m\u001b[1;33m)\u001b[0m\u001b[1;33m\u001b[0m\u001b[1;33m\u001b[0m\u001b[0m\n\u001b[0m",
      "\u001b[1;32mD:\\mydeven\\lib\\site-packages\\selenium\\webdriver\\remote\\webelement.py\u001b[0m in \u001b[0;36msend_keys\u001b[1;34m(self, *value)\u001b[0m\n\u001b[0;32m    475\u001b[0m                 \u001b[0mvalue\u001b[0m \u001b[1;33m=\u001b[0m \u001b[0mself\u001b[0m\u001b[1;33m.\u001b[0m\u001b[0m_upload\u001b[0m\u001b[1;33m(\u001b[0m\u001b[0mlocal_file\u001b[0m\u001b[1;33m)\u001b[0m\u001b[1;33m\u001b[0m\u001b[1;33m\u001b[0m\u001b[0m\n\u001b[0;32m    476\u001b[0m \u001b[1;33m\u001b[0m\u001b[0m\n\u001b[1;32m--> 477\u001b[1;33m         self._execute(Command.SEND_KEYS_TO_ELEMENT,\n\u001b[0m\u001b[0;32m    478\u001b[0m                       {'text': \"\".join(keys_to_typing(value)),\n\u001b[0;32m    479\u001b[0m                        'value': keys_to_typing(value)})\n",
      "\u001b[1;32mD:\\mydeven\\lib\\site-packages\\selenium\\webdriver\\remote\\webelement.py\u001b[0m in \u001b[0;36m_execute\u001b[1;34m(self, command, params)\u001b[0m\n\u001b[0;32m    631\u001b[0m             \u001b[0mparams\u001b[0m \u001b[1;33m=\u001b[0m \u001b[1;33m{\u001b[0m\u001b[1;33m}\u001b[0m\u001b[1;33m\u001b[0m\u001b[1;33m\u001b[0m\u001b[0m\n\u001b[0;32m    632\u001b[0m         \u001b[0mparams\u001b[0m\u001b[1;33m[\u001b[0m\u001b[1;34m'id'\u001b[0m\u001b[1;33m]\u001b[0m \u001b[1;33m=\u001b[0m \u001b[0mself\u001b[0m\u001b[1;33m.\u001b[0m\u001b[0m_id\u001b[0m\u001b[1;33m\u001b[0m\u001b[1;33m\u001b[0m\u001b[0m\n\u001b[1;32m--> 633\u001b[1;33m         \u001b[1;32mreturn\u001b[0m \u001b[0mself\u001b[0m\u001b[1;33m.\u001b[0m\u001b[0m_parent\u001b[0m\u001b[1;33m.\u001b[0m\u001b[0mexecute\u001b[0m\u001b[1;33m(\u001b[0m\u001b[0mcommand\u001b[0m\u001b[1;33m,\u001b[0m \u001b[0mparams\u001b[0m\u001b[1;33m)\u001b[0m\u001b[1;33m\u001b[0m\u001b[1;33m\u001b[0m\u001b[0m\n\u001b[0m\u001b[0;32m    634\u001b[0m \u001b[1;33m\u001b[0m\u001b[0m\n\u001b[0;32m    635\u001b[0m     \u001b[1;32mdef\u001b[0m \u001b[0mfind_element\u001b[0m\u001b[1;33m(\u001b[0m\u001b[0mself\u001b[0m\u001b[1;33m,\u001b[0m \u001b[0mby\u001b[0m\u001b[1;33m=\u001b[0m\u001b[0mBy\u001b[0m\u001b[1;33m.\u001b[0m\u001b[0mID\u001b[0m\u001b[1;33m,\u001b[0m \u001b[0mvalue\u001b[0m\u001b[1;33m=\u001b[0m\u001b[1;32mNone\u001b[0m\u001b[1;33m)\u001b[0m\u001b[1;33m:\u001b[0m\u001b[1;33m\u001b[0m\u001b[1;33m\u001b[0m\u001b[0m\n",
      "\u001b[1;32mD:\\mydeven\\lib\\site-packages\\selenium\\webdriver\\remote\\webdriver.py\u001b[0m in \u001b[0;36mexecute\u001b[1;34m(self, driver_command, params)\u001b[0m\n\u001b[0;32m    319\u001b[0m         \u001b[0mresponse\u001b[0m \u001b[1;33m=\u001b[0m \u001b[0mself\u001b[0m\u001b[1;33m.\u001b[0m\u001b[0mcommand_executor\u001b[0m\u001b[1;33m.\u001b[0m\u001b[0mexecute\u001b[0m\u001b[1;33m(\u001b[0m\u001b[0mdriver_command\u001b[0m\u001b[1;33m,\u001b[0m \u001b[0mparams\u001b[0m\u001b[1;33m)\u001b[0m\u001b[1;33m\u001b[0m\u001b[1;33m\u001b[0m\u001b[0m\n\u001b[0;32m    320\u001b[0m         \u001b[1;32mif\u001b[0m \u001b[0mresponse\u001b[0m\u001b[1;33m:\u001b[0m\u001b[1;33m\u001b[0m\u001b[1;33m\u001b[0m\u001b[0m\n\u001b[1;32m--> 321\u001b[1;33m             \u001b[0mself\u001b[0m\u001b[1;33m.\u001b[0m\u001b[0merror_handler\u001b[0m\u001b[1;33m.\u001b[0m\u001b[0mcheck_response\u001b[0m\u001b[1;33m(\u001b[0m\u001b[0mresponse\u001b[0m\u001b[1;33m)\u001b[0m\u001b[1;33m\u001b[0m\u001b[1;33m\u001b[0m\u001b[0m\n\u001b[0m\u001b[0;32m    322\u001b[0m             response['value'] = self._unwrap_value(\n\u001b[0;32m    323\u001b[0m                 response.get('value', None))\n",
      "\u001b[1;32mD:\\mydeven\\lib\\site-packages\\selenium\\webdriver\\remote\\errorhandler.py\u001b[0m in \u001b[0;36mcheck_response\u001b[1;34m(self, response)\u001b[0m\n\u001b[0;32m    240\u001b[0m                 \u001b[0malert_text\u001b[0m \u001b[1;33m=\u001b[0m \u001b[0mvalue\u001b[0m\u001b[1;33m[\u001b[0m\u001b[1;34m'alert'\u001b[0m\u001b[1;33m]\u001b[0m\u001b[1;33m.\u001b[0m\u001b[0mget\u001b[0m\u001b[1;33m(\u001b[0m\u001b[1;34m'text'\u001b[0m\u001b[1;33m)\u001b[0m\u001b[1;33m\u001b[0m\u001b[1;33m\u001b[0m\u001b[0m\n\u001b[0;32m    241\u001b[0m             \u001b[1;32mraise\u001b[0m \u001b[0mexception_class\u001b[0m\u001b[1;33m(\u001b[0m\u001b[0mmessage\u001b[0m\u001b[1;33m,\u001b[0m \u001b[0mscreen\u001b[0m\u001b[1;33m,\u001b[0m \u001b[0mstacktrace\u001b[0m\u001b[1;33m,\u001b[0m \u001b[0malert_text\u001b[0m\u001b[1;33m)\u001b[0m\u001b[1;33m\u001b[0m\u001b[1;33m\u001b[0m\u001b[0m\n\u001b[1;32m--> 242\u001b[1;33m         \u001b[1;32mraise\u001b[0m \u001b[0mexception_class\u001b[0m\u001b[1;33m(\u001b[0m\u001b[0mmessage\u001b[0m\u001b[1;33m,\u001b[0m \u001b[0mscreen\u001b[0m\u001b[1;33m,\u001b[0m \u001b[0mstacktrace\u001b[0m\u001b[1;33m)\u001b[0m\u001b[1;33m\u001b[0m\u001b[1;33m\u001b[0m\u001b[0m\n\u001b[0m\u001b[0;32m    243\u001b[0m \u001b[1;33m\u001b[0m\u001b[0m\n\u001b[0;32m    244\u001b[0m     \u001b[1;32mdef\u001b[0m \u001b[0m_value_or_default\u001b[0m\u001b[1;33m(\u001b[0m\u001b[0mself\u001b[0m\u001b[1;33m,\u001b[0m \u001b[0mobj\u001b[0m\u001b[1;33m,\u001b[0m \u001b[0mkey\u001b[0m\u001b[1;33m,\u001b[0m \u001b[0mdefault\u001b[0m\u001b[1;33m)\u001b[0m\u001b[1;33m:\u001b[0m\u001b[1;33m\u001b[0m\u001b[1;33m\u001b[0m\u001b[0m\n",
      "\u001b[1;31mElementNotInteractableException\u001b[0m: Message: element not interactable\n  (Session info: chrome=91.0.4472.124)\n"
     ]
    }
   ],
   "source": [
    "# 검색키워드 \"소년범\" 입력\n",
    "inputSearch = driver.find_element_by_id('total-search-key')\n",
    "inputSearch.send_keys('소년범')"
   ]
  },
  {
   "cell_type": "code",
   "execution_count": 7,
   "id": "f6cb4045",
   "metadata": {},
   "outputs": [],
   "source": [
    "# 상세검색 클릭\n",
    "search_detail_btn = driver.find_element_by_class_name('btn-srchDetail')\n",
    "search_detail_btn.click()"
   ]
  },
  {
   "cell_type": "code",
   "execution_count": 8,
   "id": "8dd4b04a",
   "metadata": {},
   "outputs": [],
   "source": [
    "# 기간 버튼 클릭\n",
    "serach_period_btn = driver.find_element_by_css_selector('.tab1 > a.tab-btn')\n",
    "serach_period_btn.click()\n",
    "\n",
    "# F12에서 오른쪽 버튼 누르고 copy -> copy selector로 가야함 그리고 이것만 있을 고유를 생각해보고 .tab1 > 부터 일거라 예상함\n",
    "#news-search-form > div > div.hd-srch.v2 > div.srch-detail.v2 > div > div.tab-btn-wp1 > div.tab-btn-inner.tab1 > a"
   ]
  },
  {
   "cell_type": "code",
   "execution_count": 9,
   "id": "989550d0",
   "metadata": {},
   "outputs": [],
   "source": [
    "# 날짜 \"20110715\" ~ \"20210716\" 입력\n",
    "inputDateStart = driver.find_element_by_id('search-begin-date')\n",
    "\n",
    "# 1. 백스페이스를 10번정도 눌러줘\n",
    "for i in range(10):\n",
    "    inputDateStart.send_keys(Keys.BACKSPACE)\n",
    "    \n",
    "inputDateStart.send_keys('20110715')\n",
    "inputDateStart.send_keys(Keys.ENTER)\n"
   ]
  },
  {
   "cell_type": "code",
   "execution_count": 10,
   "id": "f184a81f",
   "metadata": {},
   "outputs": [],
   "source": [
    "# 통합분류 클릭            \n",
    "search_cla_btn = driver.find_element_by_css_selector('.tab-btn-inner.tab3 > a')\n",
    "search_cla_btn.click()\n",
    "\n",
    "# news-search-form > div > div.hd-srch.v2 > div.srch-detail.v2 > div > div.tab-btn-wp2 > div."
   ]
  },
  {
   "cell_type": "code",
   "execution_count": 11,
   "id": "c518a367",
   "metadata": {},
   "outputs": [],
   "source": [
    "# 체크박스 통합분류\n",
    "for i in ['1', '3', '4']:\n",
    "    selector = '#srch-tab3 > ul > li:nth-child({}) .gj-checkbox-bootstrap'.format(i)\n",
    "    search_cla_check_box = driver.find_element_by_css_selector(selector)\n",
    "    search_cla_check_box.click()"
   ]
  },
  {
   "cell_type": "code",
   "execution_count": 12,
   "id": "9f7d7c20",
   "metadata": {},
   "outputs": [],
   "source": [
    "# 사건사고 분류 클릭\n",
    "search_acc_btn = driver.find_element_by_css_selector('.tab4 > a')\n",
    "search_acc_btn.click()\n",
    "\n",
    "# news-search-form > div > div.hd-srch.v2 > div.srch-detail.v2 > div > div.tab-btn-wp2 > div.tab-btn-inner.tab4 > a"
   ]
  },
  {
   "cell_type": "code",
   "execution_count": 13,
   "id": "586422f9",
   "metadata": {},
   "outputs": [],
   "source": [
    "# 체크박스 사건사고분류\n",
    "for i in ['1', '2']:\n",
    "    selector = '#srch-tab4 > ul > li:nth-child({}) .gj-checkbox-bootstrap'.format(i)\n",
    "    search_acc_check_box = driver.find_element_by_css_selector(selector)\n",
    "    search_acc_check_box.click() \n",
    "    "
   ]
  },
  {
   "cell_type": "code",
   "execution_count": 14,
   "id": "bccdaea9",
   "metadata": {},
   "outputs": [],
   "source": [
    "# 적용하기 버튼\n",
    "search_app_btn = driver.find_element_by_css_selector('.news-report-search-btn')\n",
    "search_app_btn.click()"
   ]
  },
  {
   "cell_type": "code",
   "execution_count": 15,
   "id": "04c1644e",
   "metadata": {},
   "outputs": [
    {
     "name": "stdout",
     "output_type": "stream",
     "text": [
      "error\n"
     ]
    },
    {
     "name": "stderr",
     "output_type": "stream",
     "text": [
      "<ipython-input-15-f869d0303095>:13: DeprecationWarning: use driver.switch_to.alert instead\n",
      "  result = driver.switch_to_alert()\n"
     ]
    }
   ],
   "source": [
    "step3 = driver.find_element_by_id('collapse-step-3')\n",
    "step3.click()\n",
    "\n",
    "time.sleep(5)\n",
    "\n",
    "download = driver.find_element_by_css_selector('#analytics-data-download > div.btm-btn-wrp > button')\n",
    "download.click()\n",
    "\n",
    "time.sleep(3)\n",
    "\n",
    "try:\n",
    "    # alert 에 확인 누르기\n",
    "    result = driver.switch_to_alert()\n",
    "    result.accept()\n",
    "    result.dismiss()\n",
    "except:\n",
    "    print('error')"
   ]
  }
 ],
 "metadata": {
  "kernelspec": {
   "display_name": "Python 3",
   "language": "python",
   "name": "python3"
  },
  "language_info": {
   "codemirror_mode": {
    "name": "ipython",
    "version": 3
   },
   "file_extension": ".py",
   "mimetype": "text/x-python",
   "name": "python",
   "nbconvert_exporter": "python",
   "pygments_lexer": "ipython3",
   "version": "3.8.8"
  }
 },
 "nbformat": 4,
 "nbformat_minor": 5
}
