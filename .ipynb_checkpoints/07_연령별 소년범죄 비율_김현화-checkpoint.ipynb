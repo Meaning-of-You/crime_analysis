{
 "cells": [
  {
   "cell_type": "markdown",
   "id": "b0bc38f2",
   "metadata": {},
   "source": [
    "### 데이터\n",
    "- 07_연령별 소년범죄 비율_김현화_1: 연령별 소년 범죄자 수\n",
    "  - 사이트: https://www.crimestats.or.kr/portal/stat/easyStatPage.do  \n",
    "  - 통계표 이름: 「범죄분석」DB 범죄자 연령  \n",
    "  - 일괄설정  \n",
    "    - 항목: 소년  \n",
    "    - 분류: 전체  \n",
    "    - 검색기간: 2019년  \n",
    "\n",
    "- 07_연령별 소년범죄 비율_김현화_2: 연령별 소년 인구 수\n",
    "  - 사이트: https://kosis.kr/search/search.do \n",
    "  - 통계표 이름: 주민등록인구현황:행정구역(시군구)별/1세별 주민등록인구\n",
    "  - 일괄설정  \n",
    "    - 항목: 총인구수 \n",
    "    - 행정구역: 전국\n",
    "    - 연령별: 전체  \n",
    "    - 시점: 2019년  "
   ]
  },
  {
   "cell_type": "code",
   "execution_count": 1,
   "id": "4764e6eb",
   "metadata": {},
   "outputs": [],
   "source": [
    "import numpy as np\n",
    "import pandas as pd\n",
    "import matplotlib as mp\n",
    "import matplotlib.pyplot as plt\n",
    "import seaborn as sns"
   ]
  },
  {
   "cell_type": "code",
   "execution_count": 2,
   "id": "3f58a56b",
   "metadata": {},
   "outputs": [],
   "source": [
    "fm = mp.font_manager.FontManager()         # 한글화\n",
    "plt.rcParams['font.family'] = 'Malgun Gothic'\n",
    "mp.rcParams['axes.unicode_minus'] = False # '-' 에러 방지"
   ]
  },
  {
   "cell_type": "code",
   "execution_count": 3,
   "id": "b65b7ccc",
   "metadata": {},
   "outputs": [
    {
     "data": {
      "text/html": [
       "<div>\n",
       "<style scoped>\n",
       "    .dataframe tbody tr th:only-of-type {\n",
       "        vertical-align: middle;\n",
       "    }\n",
       "\n",
       "    .dataframe tbody tr th {\n",
       "        vertical-align: top;\n",
       "    }\n",
       "\n",
       "    .dataframe thead th {\n",
       "        text-align: right;\n",
       "    }\n",
       "</style>\n",
       "<table border=\"1\" class=\"dataframe\">\n",
       "  <thead>\n",
       "    <tr style=\"text-align: right;\">\n",
       "      <th></th>\n",
       "      <th>No</th>\n",
       "      <th>자료시점</th>\n",
       "      <th>분류</th>\n",
       "      <th>분류.1</th>\n",
       "      <th>분류.2</th>\n",
       "      <th>소년(소계)</th>\n",
       "      <th>14세미만</th>\n",
       "      <th>14세</th>\n",
       "      <th>15세</th>\n",
       "      <th>16세</th>\n",
       "      <th>17세</th>\n",
       "      <th>18세</th>\n",
       "    </tr>\n",
       "  </thead>\n",
       "  <tbody>\n",
       "    <tr>\n",
       "      <th>0</th>\n",
       "      <td>1</td>\n",
       "      <td>2019년</td>\n",
       "      <td>계</td>\n",
       "      <td>계[입력치]</td>\n",
       "      <td>계[입력치]</td>\n",
       "      <td>66247.0</td>\n",
       "      <td>NaN</td>\n",
       "      <td>9053.0</td>\n",
       "      <td>11730.0</td>\n",
       "      <td>13548.0</td>\n",
       "      <td>14338.0</td>\n",
       "      <td>17578.0</td>\n",
       "    </tr>\n",
       "    <tr>\n",
       "      <th>1</th>\n",
       "      <td>2</td>\n",
       "      <td>2019년</td>\n",
       "      <td>형법범</td>\n",
       "      <td>형법범계[입력치]</td>\n",
       "      <td>형법범계[입력치]</td>\n",
       "      <td>54497.0</td>\n",
       "      <td>NaN</td>\n",
       "      <td>8322.0</td>\n",
       "      <td>10399.0</td>\n",
       "      <td>11105.0</td>\n",
       "      <td>11090.0</td>\n",
       "      <td>13581.0</td>\n",
       "    </tr>\n",
       "    <tr>\n",
       "      <th>2</th>\n",
       "      <td>3</td>\n",
       "      <td>2019년</td>\n",
       "      <td>형법범</td>\n",
       "      <td>재산범죄</td>\n",
       "      <td>재산범죄의 계[입력치]</td>\n",
       "      <td>27809.0</td>\n",
       "      <td>NaN</td>\n",
       "      <td>5077.0</td>\n",
       "      <td>5802.0</td>\n",
       "      <td>6202.0</td>\n",
       "      <td>5274.0</td>\n",
       "      <td>5454.0</td>\n",
       "    </tr>\n",
       "    <tr>\n",
       "      <th>3</th>\n",
       "      <td>4</td>\n",
       "      <td>2019년</td>\n",
       "      <td>형법범</td>\n",
       "      <td>재산범죄</td>\n",
       "      <td>배임</td>\n",
       "      <td>1.0</td>\n",
       "      <td>NaN</td>\n",
       "      <td>0.0</td>\n",
       "      <td>0.0</td>\n",
       "      <td>0.0</td>\n",
       "      <td>0.0</td>\n",
       "      <td>1.0</td>\n",
       "    </tr>\n",
       "    <tr>\n",
       "      <th>4</th>\n",
       "      <td>5</td>\n",
       "      <td>2019년</td>\n",
       "      <td>형법범</td>\n",
       "      <td>재산범죄</td>\n",
       "      <td>사기</td>\n",
       "      <td>8088.0</td>\n",
       "      <td>NaN</td>\n",
       "      <td>609.0</td>\n",
       "      <td>1023.0</td>\n",
       "      <td>1762.0</td>\n",
       "      <td>2044.0</td>\n",
       "      <td>2650.0</td>\n",
       "    </tr>\n",
       "  </tbody>\n",
       "</table>\n",
       "</div>"
      ],
      "text/plain": [
       "   No   자료시점   분류       분류.1          분류.2   소년(소계)  14세미만     14세      15세  \\\n",
       "0   1  2019년    계     계[입력치]        계[입력치]  66247.0    NaN  9053.0  11730.0   \n",
       "1   2  2019년  형법범  형법범계[입력치]     형법범계[입력치]  54497.0    NaN  8322.0  10399.0   \n",
       "2   3  2019년  형법범       재산범죄  재산범죄의 계[입력치]  27809.0    NaN  5077.0   5802.0   \n",
       "3   4  2019년  형법범       재산범죄            배임      1.0    NaN     0.0      0.0   \n",
       "4   5  2019년  형법범       재산범죄            사기   8088.0    NaN   609.0   1023.0   \n",
       "\n",
       "       16세      17세      18세  \n",
       "0  13548.0  14338.0  17578.0  \n",
       "1  11105.0  11090.0  13581.0  \n",
       "2   6202.0   5274.0   5454.0  \n",
       "3      0.0      0.0      1.0  \n",
       "4   1762.0   2044.0   2650.0  "
      ]
     },
     "execution_count": 3,
     "metadata": {},
     "output_type": "execute_result"
    }
   ],
   "source": [
    "# 데이터 불러오기\n",
    "df1 = pd.read_csv('Data/07_연령별 소년범죄 비율_김현화_1.csv', sep = ',', thousands = ',') \n",
    "df2 = pd.read_csv('Data/07_연령별 소년범죄 비율_김현화_2.csv') \n",
    "df1.head()"
   ]
  },
  {
   "cell_type": "code",
   "execution_count": 4,
   "id": "0bb03e38",
   "metadata": {},
   "outputs": [
    {
     "data": {
      "text/plain": [
       "No          int64\n",
       "자료시점       object\n",
       "분류         object\n",
       "분류.1       object\n",
       "분류.2       object\n",
       "소년(소계)    float64\n",
       "14세미만     float64\n",
       "14세       float64\n",
       "15세       float64\n",
       "16세       float64\n",
       "17세       float64\n",
       "18세       float64\n",
       "dtype: object"
      ]
     },
     "execution_count": 4,
     "metadata": {},
     "output_type": "execute_result"
    }
   ],
   "source": [
    "df1.dtypes"
   ]
  },
  {
   "cell_type": "code",
   "execution_count": 5,
   "id": "9a6c9525",
   "metadata": {},
   "outputs": [
    {
     "data": {
      "text/html": [
       "<div>\n",
       "<style scoped>\n",
       "    .dataframe tbody tr th:only-of-type {\n",
       "        vertical-align: middle;\n",
       "    }\n",
       "\n",
       "    .dataframe tbody tr th {\n",
       "        vertical-align: top;\n",
       "    }\n",
       "\n",
       "    .dataframe thead th {\n",
       "        text-align: right;\n",
       "    }\n",
       "</style>\n",
       "<table border=\"1\" class=\"dataframe\">\n",
       "  <thead>\n",
       "    <tr style=\"text-align: right;\">\n",
       "      <th></th>\n",
       "      <th>분류.2</th>\n",
       "      <th>소년(소계)</th>\n",
       "      <th>14세</th>\n",
       "      <th>15세</th>\n",
       "      <th>16세</th>\n",
       "      <th>17세</th>\n",
       "      <th>18세</th>\n",
       "    </tr>\n",
       "  </thead>\n",
       "  <tbody>\n",
       "    <tr>\n",
       "      <th>0</th>\n",
       "      <td>계[입력치]</td>\n",
       "      <td>66247.0</td>\n",
       "      <td>9053.0</td>\n",
       "      <td>11730.0</td>\n",
       "      <td>13548.0</td>\n",
       "      <td>14338.0</td>\n",
       "      <td>17578.0</td>\n",
       "    </tr>\n",
       "    <tr>\n",
       "      <th>1</th>\n",
       "      <td>형법범계[입력치]</td>\n",
       "      <td>54497.0</td>\n",
       "      <td>8322.0</td>\n",
       "      <td>10399.0</td>\n",
       "      <td>11105.0</td>\n",
       "      <td>11090.0</td>\n",
       "      <td>13581.0</td>\n",
       "    </tr>\n",
       "    <tr>\n",
       "      <th>2</th>\n",
       "      <td>재산범죄의 계[입력치]</td>\n",
       "      <td>27809.0</td>\n",
       "      <td>5077.0</td>\n",
       "      <td>5802.0</td>\n",
       "      <td>6202.0</td>\n",
       "      <td>5274.0</td>\n",
       "      <td>5454.0</td>\n",
       "    </tr>\n",
       "    <tr>\n",
       "      <th>3</th>\n",
       "      <td>배임</td>\n",
       "      <td>1.0</td>\n",
       "      <td>0.0</td>\n",
       "      <td>0.0</td>\n",
       "      <td>0.0</td>\n",
       "      <td>0.0</td>\n",
       "      <td>1.0</td>\n",
       "    </tr>\n",
       "    <tr>\n",
       "      <th>4</th>\n",
       "      <td>사기</td>\n",
       "      <td>8088.0</td>\n",
       "      <td>609.0</td>\n",
       "      <td>1023.0</td>\n",
       "      <td>1762.0</td>\n",
       "      <td>2044.0</td>\n",
       "      <td>2650.0</td>\n",
       "    </tr>\n",
       "  </tbody>\n",
       "</table>\n",
       "</div>"
      ],
      "text/plain": [
       "           분류.2   소년(소계)     14세      15세      16세      17세      18세\n",
       "0        계[입력치]  66247.0  9053.0  11730.0  13548.0  14338.0  17578.0\n",
       "1     형법범계[입력치]  54497.0  8322.0  10399.0  11105.0  11090.0  13581.0\n",
       "2  재산범죄의 계[입력치]  27809.0  5077.0   5802.0   6202.0   5274.0   5454.0\n",
       "3            배임      1.0     0.0      0.0      0.0      0.0      1.0\n",
       "4            사기   8088.0   609.0   1023.0   1762.0   2044.0   2650.0"
      ]
     },
     "execution_count": 5,
     "metadata": {},
     "output_type": "execute_result"
    }
   ],
   "source": [
    "# 필요없는 컬럼 제거\n",
    "df1 = df1.drop(['No','자료시점','분류','분류.1','14세미만'], axis=1).copy()\n",
    "df1.head()"
   ]
  },
  {
   "cell_type": "code",
   "execution_count": 6,
   "id": "de509a54",
   "metadata": {},
   "outputs": [],
   "source": [
    "# 컬럼명 변경\n",
    "df1.rename(columns={'분류.2':'범죄유형', '소년(소계)':'소계'}, inplace=True)"
   ]
  },
  {
   "cell_type": "code",
   "execution_count": 7,
   "id": "3ab22891",
   "metadata": {},
   "outputs": [
    {
     "data": {
      "text/plain": [
       "범죄유형    0\n",
       "소계      1\n",
       "14세     1\n",
       "15세     1\n",
       "16세     1\n",
       "17세     1\n",
       "18세     1\n",
       "dtype: int64"
      ]
     },
     "execution_count": 7,
     "metadata": {},
     "output_type": "execute_result"
    }
   ],
   "source": [
    "df1.isnull().sum()"
   ]
  },
  {
   "cell_type": "code",
   "execution_count": 8,
   "id": "85bdb396",
   "metadata": {},
   "outputs": [],
   "source": [
    "df1 = df1.dropna() # 결측치 제거"
   ]
  },
  {
   "cell_type": "code",
   "execution_count": 9,
   "id": "1ea4cd0a",
   "metadata": {},
   "outputs": [
    {
     "data": {
      "text/html": [
       "<div>\n",
       "<style scoped>\n",
       "    .dataframe tbody tr th:only-of-type {\n",
       "        vertical-align: middle;\n",
       "    }\n",
       "\n",
       "    .dataframe tbody tr th {\n",
       "        vertical-align: top;\n",
       "    }\n",
       "\n",
       "    .dataframe thead th {\n",
       "        text-align: right;\n",
       "    }\n",
       "</style>\n",
       "<table border=\"1\" class=\"dataframe\">\n",
       "  <thead>\n",
       "    <tr style=\"text-align: right;\">\n",
       "      <th></th>\n",
       "      <th>범죄유형</th>\n",
       "      <th>소계</th>\n",
       "      <th>14세</th>\n",
       "      <th>15세</th>\n",
       "      <th>16세</th>\n",
       "      <th>17세</th>\n",
       "      <th>18세</th>\n",
       "    </tr>\n",
       "  </thead>\n",
       "  <tbody>\n",
       "    <tr>\n",
       "      <th>0</th>\n",
       "      <td>계[입력치]</td>\n",
       "      <td>66247.0</td>\n",
       "      <td>9053.0</td>\n",
       "      <td>11730.0</td>\n",
       "      <td>13548.0</td>\n",
       "      <td>14338.0</td>\n",
       "      <td>17578.0</td>\n",
       "    </tr>\n",
       "  </tbody>\n",
       "</table>\n",
       "</div>"
      ],
      "text/plain": [
       "     범죄유형       소계     14세      15세      16세      17세      18세\n",
       "0  계[입력치]  66247.0  9053.0  11730.0  13548.0  14338.0  17578.0"
      ]
     },
     "execution_count": 9,
     "metadata": {},
     "output_type": "execute_result"
    }
   ],
   "source": [
    "# 연령별 계만 추출\n",
    "df1_sum = df1.loc[[0], :] # []안의 행 자리에 선택할 행의 index list, 열자리에 ':'\n",
    "df1_sum"
   ]
  },
  {
   "cell_type": "code",
   "execution_count": 10,
   "id": "0d6813dd",
   "metadata": {},
   "outputs": [
    {
     "data": {
      "text/plain": [
       "66247.0"
      ]
     },
     "execution_count": 10,
     "metadata": {},
     "output_type": "execute_result"
    }
   ],
   "source": [
    "df1_sum.iloc[0, 1]"
   ]
  },
  {
   "cell_type": "markdown",
   "id": "0e639578",
   "metadata": {},
   "source": [
    "### 시각화하기"
   ]
  },
  {
   "cell_type": "markdown",
   "id": "edb4bc7f",
   "metadata": {},
   "source": [
    "### 1. 연령별 소년범죄 비율 (18세>17세>16세>15세>14세)"
   ]
  },
  {
   "cell_type": "markdown",
   "id": "e601a67d",
   "metadata": {},
   "source": [
    "(1) 연령별 소년범죄자 수"
   ]
  },
  {
   "cell_type": "code",
   "execution_count": 11,
   "id": "a0a4dbdc",
   "metadata": {},
   "outputs": [
    {
     "data": {
      "image/png": "[encoded data removed]",
      "text/plain": [
       "<Figure size 720x216 with 1 Axes>"
      ]
     },
     "metadata": {
      "needs_background": "light"
     },
     "output_type": "display_data"
    }
   ],
   "source": [
    "# 차트 크기 설정\n",
    "plt.rcParams[\"figure.figsize\"] = (14,8)\n",
    "# 폰트 크기 설정\n",
    "plt.rcParams[\"font.size\"] = 13\n",
    "\n",
    "# 선 그래프\n",
    "df1_sum.iloc[0][2:].plot(kind='line', rot=0, figsize=(10, 3))\n",
    "plt.show()"
   ]
  },
  {
   "cell_type": "markdown",
   "id": "add11385",
   "metadata": {},
   "source": [
    "(2) 연령별 소년범죄자 비율"
   ]
  },
  {
   "cell_type": "code",
   "execution_count": 12,
   "id": "bbab6af1",
   "metadata": {},
   "outputs": [
    {
     "name": "stdout",
     "output_type": "stream",
     "text": [
      "[13.665524476580071, 17.706462179419447, 20.450737391881894, 21.64324422237988, 26.534031729738704]\n"
     ]
    }
   ],
   "source": [
    "# 연령별 소년범죄 비율 리스트화\n",
    "\n",
    "sum = df1_sum.iloc[0, 1]\n",
    "\n",
    "\n",
    "ratio = []\n",
    "\n",
    "for i in df1_sum.iloc[0][2:]:\n",
    "    ratio.append(i/sum*100)\n",
    "    \n",
    "print(ratio)"
   ]
  },
  {
   "cell_type": "code",
   "execution_count": 13,
   "id": "631a9cfc",
   "metadata": {},
   "outputs": [
    {
     "data": {
      "image/png": "[encoded data removed]",
      "text/plain": [
       "<Figure size 1008x576 with 1 Axes>"
      ]
     },
     "metadata": {},
     "output_type": "display_data"
    }
   ],
   "source": [
    "# 파이 그래프\n",
    "# plt.pie(데이터, 라벨, autopct(전체대비비율)=소수점표시, startangle(부채꼴 시작 각도), shadow(그림자 효과 유무), explode(돌출))\n",
    "\n",
    "labels = df1_sum.columns[2:].tolist() # 컬럼명 리스트로 추출\n",
    "explode = [0.05, 0.05, 0.05, 0.05, 0.05]\n",
    "# colors = ['#ff9999', '#ffc000', '#8fd9b6', '#d395d0', '#ADD8E6'] # 다홍, 노랑, 민트, 연보라, 하늘색\n",
    "colors = ['#D9FAE9', '#D6EEE0', '#B8D0C3', '#A3B7AC', '#85938B'] # 그라데이션\n",
    "wedgeprops={'width': 0.7, 'edgecolor': 'w', 'linewidth': 5}\n",
    "\n",
    "# wedgeprops: 부채꼴 영역의 스타일 설정\n",
    "# width’: 도넛 모양의 그래프에서 중심부의 크기\n",
    "#'edgecolor’:각 조각의 테두리 색\n",
    "#'linewidth’: 각 조각의 테두리 두께\n",
    "\n",
    "\n",
    "plt.pie(ratio, labels=labels, autopct='%.1f%%', startangle=200, counterclock=False, explode=explode, colors=colors, wedgeprops=wedgeprops)\n",
    "plt.show()"
   ]
  },
  {
   "cell_type": "markdown",
   "id": "b8329456",
   "metadata": {},
   "source": [
    "(3) 연령별 소년 인구수 대비 소년 범죄자 비율"
   ]
  },
  {
   "cell_type": "code",
   "execution_count": 14,
   "id": "075fc2b2",
   "metadata": {},
   "outputs": [
    {
     "data": {
      "text/html": [
       "<div>\n",
       "<style scoped>\n",
       "    .dataframe tbody tr th:only-of-type {\n",
       "        vertical-align: middle;\n",
       "    }\n",
       "\n",
       "    .dataframe tbody tr th {\n",
       "        vertical-align: top;\n",
       "    }\n",
       "\n",
       "    .dataframe thead th {\n",
       "        text-align: right;\n",
       "    }\n",
       "</style>\n",
       "<table border=\"1\" class=\"dataframe\">\n",
       "  <thead>\n",
       "    <tr style=\"text-align: right;\">\n",
       "      <th></th>\n",
       "      <th>행정구역(시군구)별</th>\n",
       "      <th>연령별</th>\n",
       "      <th>2019</th>\n",
       "    </tr>\n",
       "  </thead>\n",
       "  <tbody>\n",
       "    <tr>\n",
       "      <th>0</th>\n",
       "      <td>행정구역(시군구)별</td>\n",
       "      <td>연령별</td>\n",
       "      <td>총인구수 (명)</td>\n",
       "    </tr>\n",
       "    <tr>\n",
       "      <th>1</th>\n",
       "      <td>전국</td>\n",
       "      <td>계</td>\n",
       "      <td>51849861</td>\n",
       "    </tr>\n",
       "    <tr>\n",
       "      <th>2</th>\n",
       "      <td>전국</td>\n",
       "      <td>0세</td>\n",
       "      <td>295132</td>\n",
       "    </tr>\n",
       "    <tr>\n",
       "      <th>3</th>\n",
       "      <td>전국</td>\n",
       "      <td>1세</td>\n",
       "      <td>330970</td>\n",
       "    </tr>\n",
       "    <tr>\n",
       "      <th>4</th>\n",
       "      <td>전국</td>\n",
       "      <td>2세</td>\n",
       "      <td>362900</td>\n",
       "    </tr>\n",
       "  </tbody>\n",
       "</table>\n",
       "</div>"
      ],
      "text/plain": [
       "   행정구역(시군구)별  연령별      2019\n",
       "0  행정구역(시군구)별  연령별  총인구수 (명)\n",
       "1          전국    계  51849861\n",
       "2          전국   0세    295132\n",
       "3          전국   1세    330970\n",
       "4          전국   2세    362900"
      ]
     },
     "execution_count": 14,
     "metadata": {},
     "output_type": "execute_result"
    }
   ],
   "source": [
    "df2.head()"
   ]
  },
  {
   "cell_type": "code",
   "execution_count": 15,
   "id": "67d477ab",
   "metadata": {},
   "outputs": [
    {
     "data": {
      "text/html": [
       "<div>\n",
       "<style scoped>\n",
       "    .dataframe tbody tr th:only-of-type {\n",
       "        vertical-align: middle;\n",
       "    }\n",
       "\n",
       "    .dataframe tbody tr th {\n",
       "        vertical-align: top;\n",
       "    }\n",
       "\n",
       "    .dataframe thead th {\n",
       "        text-align: right;\n",
       "    }\n",
       "</style>\n",
       "<table border=\"1\" class=\"dataframe\">\n",
       "  <thead>\n",
       "    <tr style=\"text-align: right;\">\n",
       "      <th></th>\n",
       "      <th>연령</th>\n",
       "      <th>인구 수</th>\n",
       "    </tr>\n",
       "  </thead>\n",
       "  <tbody>\n",
       "    <tr>\n",
       "      <th>1</th>\n",
       "      <td>계</td>\n",
       "      <td>51849861</td>\n",
       "    </tr>\n",
       "    <tr>\n",
       "      <th>2</th>\n",
       "      <td>0세</td>\n",
       "      <td>295132</td>\n",
       "    </tr>\n",
       "    <tr>\n",
       "      <th>3</th>\n",
       "      <td>1세</td>\n",
       "      <td>330970</td>\n",
       "    </tr>\n",
       "    <tr>\n",
       "      <th>4</th>\n",
       "      <td>2세</td>\n",
       "      <td>362900</td>\n",
       "    </tr>\n",
       "    <tr>\n",
       "      <th>5</th>\n",
       "      <td>3세</td>\n",
       "      <td>412018</td>\n",
       "    </tr>\n",
       "    <tr>\n",
       "      <th>...</th>\n",
       "      <td>...</td>\n",
       "      <td>...</td>\n",
       "    </tr>\n",
       "    <tr>\n",
       "      <th>98</th>\n",
       "      <td>96세</td>\n",
       "      <td>12811</td>\n",
       "    </tr>\n",
       "    <tr>\n",
       "      <th>99</th>\n",
       "      <td>97세</td>\n",
       "      <td>9225</td>\n",
       "    </tr>\n",
       "    <tr>\n",
       "      <th>100</th>\n",
       "      <td>98세</td>\n",
       "      <td>5993</td>\n",
       "    </tr>\n",
       "    <tr>\n",
       "      <th>101</th>\n",
       "      <td>99세</td>\n",
       "      <td>4274</td>\n",
       "    </tr>\n",
       "    <tr>\n",
       "      <th>102</th>\n",
       "      <td>100세 이상</td>\n",
       "      <td>20160</td>\n",
       "    </tr>\n",
       "  </tbody>\n",
       "</table>\n",
       "<p>102 rows × 2 columns</p>\n",
       "</div>"
      ],
      "text/plain": [
       "          연령      인구 수\n",
       "1          계  51849861\n",
       "2         0세    295132\n",
       "3         1세    330970\n",
       "4         2세    362900\n",
       "5         3세    412018\n",
       "..       ...       ...\n",
       "98       96세     12811\n",
       "99       97세      9225\n",
       "100      98세      5993\n",
       "101      99세      4274\n",
       "102  100세 이상     20160\n",
       "\n",
       "[102 rows x 2 columns]"
      ]
     },
     "execution_count": 15,
     "metadata": {},
     "output_type": "execute_result"
    }
   ],
   "source": [
    "# 필요없는 컬럼 삭제\n",
    "df2 = df2.drop(['행정구역(시군구)별'], axis=1)\n",
    "# 필요없는 행 삭제\n",
    "df2 = df2.drop(0)\n",
    "# 컬럼명 변경\n",
    "df2.columns = ['연령', '인구 수']\n",
    "df2"
   ]
  },
  {
   "cell_type": "code",
   "execution_count": 16,
   "id": "d858e1fe",
   "metadata": {},
   "outputs": [
    {
     "data": {
      "text/html": [
       "<div>\n",
       "<style scoped>\n",
       "    .dataframe tbody tr th:only-of-type {\n",
       "        vertical-align: middle;\n",
       "    }\n",
       "\n",
       "    .dataframe tbody tr th {\n",
       "        vertical-align: top;\n",
       "    }\n",
       "\n",
       "    .dataframe thead th {\n",
       "        text-align: right;\n",
       "    }\n",
       "</style>\n",
       "<table border=\"1\" class=\"dataframe\">\n",
       "  <thead>\n",
       "    <tr style=\"text-align: right;\">\n",
       "      <th></th>\n",
       "      <th>연령</th>\n",
       "      <th>인구 수</th>\n",
       "    </tr>\n",
       "  </thead>\n",
       "  <tbody>\n",
       "    <tr>\n",
       "      <th>16</th>\n",
       "      <td>14세</td>\n",
       "      <td>436418</td>\n",
       "    </tr>\n",
       "    <tr>\n",
       "      <th>17</th>\n",
       "      <td>15세</td>\n",
       "      <td>474123</td>\n",
       "    </tr>\n",
       "    <tr>\n",
       "      <th>18</th>\n",
       "      <td>16세</td>\n",
       "      <td>493389</td>\n",
       "    </tr>\n",
       "    <tr>\n",
       "      <th>19</th>\n",
       "      <td>17세</td>\n",
       "      <td>494523</td>\n",
       "    </tr>\n",
       "    <tr>\n",
       "      <th>20</th>\n",
       "      <td>18세</td>\n",
       "      <td>558704</td>\n",
       "    </tr>\n",
       "  </tbody>\n",
       "</table>\n",
       "</div>"
      ],
      "text/plain": [
       "     연령    인구 수\n",
       "16  14세  436418\n",
       "17  15세  474123\n",
       "18  16세  493389\n",
       "19  17세  494523\n",
       "20  18세  558704"
      ]
     },
     "execution_count": 16,
     "metadata": {},
     "output_type": "execute_result"
    }
   ],
   "source": [
    "# 14~18세 인구 수 추출\n",
    "df2_juvenile = df2.iloc[15:20, :]\n",
    "df2_juvenile"
   ]
  },
  {
   "cell_type": "code",
   "execution_count": 17,
   "id": "2b23f88a",
   "metadata": {},
   "outputs": [
    {
     "data": {
      "text/html": [
       "<div>\n",
       "<style scoped>\n",
       "    .dataframe tbody tr th:only-of-type {\n",
       "        vertical-align: middle;\n",
       "    }\n",
       "\n",
       "    .dataframe tbody tr th {\n",
       "        vertical-align: top;\n",
       "    }\n",
       "\n",
       "    .dataframe thead th {\n",
       "        text-align: right;\n",
       "    }\n",
       "</style>\n",
       "<table border=\"1\" class=\"dataframe\">\n",
       "  <thead>\n",
       "    <tr style=\"text-align: right;\">\n",
       "      <th></th>\n",
       "      <th>0</th>\n",
       "    </tr>\n",
       "  </thead>\n",
       "  <tbody>\n",
       "    <tr>\n",
       "      <th>범죄유형</th>\n",
       "      <td>계[입력치]</td>\n",
       "    </tr>\n",
       "    <tr>\n",
       "      <th>소계</th>\n",
       "      <td>66247.0</td>\n",
       "    </tr>\n",
       "    <tr>\n",
       "      <th>14세</th>\n",
       "      <td>9053.0</td>\n",
       "    </tr>\n",
       "    <tr>\n",
       "      <th>15세</th>\n",
       "      <td>11730.0</td>\n",
       "    </tr>\n",
       "    <tr>\n",
       "      <th>16세</th>\n",
       "      <td>13548.0</td>\n",
       "    </tr>\n",
       "    <tr>\n",
       "      <th>17세</th>\n",
       "      <td>14338.0</td>\n",
       "    </tr>\n",
       "    <tr>\n",
       "      <th>18세</th>\n",
       "      <td>17578.0</td>\n",
       "    </tr>\n",
       "  </tbody>\n",
       "</table>\n",
       "</div>"
      ],
      "text/plain": [
       "            0\n",
       "범죄유형   계[입력치]\n",
       "소계    66247.0\n",
       "14세    9053.0\n",
       "15세   11730.0\n",
       "16세   13548.0\n",
       "17세   14338.0\n",
       "18세   17578.0"
      ]
     },
     "execution_count": 17,
     "metadata": {},
     "output_type": "execute_result"
    }
   ],
   "source": [
    "# 14세~18세 범죄자 수\n",
    "df1_sum_T = df1_sum.T\n",
    "df1_sum_T"
   ]
  },
  {
   "cell_type": "code",
   "execution_count": 24,
   "id": "d09590ec",
   "metadata": {},
   "outputs": [
    {
     "data": {
      "text/html": [
       "<div>\n",
       "<style scoped>\n",
       "    .dataframe tbody tr th:only-of-type {\n",
       "        vertical-align: middle;\n",
       "    }\n",
       "\n",
       "    .dataframe tbody tr th {\n",
       "        vertical-align: top;\n",
       "    }\n",
       "\n",
       "    .dataframe thead th {\n",
       "        text-align: right;\n",
       "    }\n",
       "</style>\n",
       "<table border=\"1\" class=\"dataframe\">\n",
       "  <thead>\n",
       "    <tr style=\"text-align: right;\">\n",
       "      <th></th>\n",
       "      <th>index</th>\n",
       "      <th>0</th>\n",
       "    </tr>\n",
       "  </thead>\n",
       "  <tbody>\n",
       "    <tr>\n",
       "      <th>0</th>\n",
       "      <td>범죄유형</td>\n",
       "      <td>계[입력치]</td>\n",
       "    </tr>\n",
       "    <tr>\n",
       "      <th>1</th>\n",
       "      <td>소계</td>\n",
       "      <td>66247.0</td>\n",
       "    </tr>\n",
       "    <tr>\n",
       "      <th>2</th>\n",
       "      <td>14세</td>\n",
       "      <td>9053.0</td>\n",
       "    </tr>\n",
       "    <tr>\n",
       "      <th>3</th>\n",
       "      <td>15세</td>\n",
       "      <td>11730.0</td>\n",
       "    </tr>\n",
       "    <tr>\n",
       "      <th>4</th>\n",
       "      <td>16세</td>\n",
       "      <td>13548.0</td>\n",
       "    </tr>\n",
       "    <tr>\n",
       "      <th>5</th>\n",
       "      <td>17세</td>\n",
       "      <td>14338.0</td>\n",
       "    </tr>\n",
       "    <tr>\n",
       "      <th>6</th>\n",
       "      <td>18세</td>\n",
       "      <td>17578.0</td>\n",
       "    </tr>\n",
       "  </tbody>\n",
       "</table>\n",
       "</div>"
      ],
      "text/plain": [
       "  index        0\n",
       "0  범죄유형   계[입력치]\n",
       "1    소계  66247.0\n",
       "2   14세   9053.0\n",
       "3   15세  11730.0\n",
       "4   16세  13548.0\n",
       "5   17세  14338.0\n",
       "6   18세  17578.0"
      ]
     },
     "execution_count": 24,
     "metadata": {},
     "output_type": "execute_result"
    }
   ],
   "source": [
    "# 인덱스 초기화\n",
    "df1_sum_T.reset_index(drop=False, inplace=True)\n",
    "df1_sum_T"
   ]
  },
  {
   "cell_type": "code",
   "execution_count": 25,
   "id": "fd440bc8",
   "metadata": {},
   "outputs": [
    {
     "data": {
      "text/html": [
       "<div>\n",
       "<style scoped>\n",
       "    .dataframe tbody tr th:only-of-type {\n",
       "        vertical-align: middle;\n",
       "    }\n",
       "\n",
       "    .dataframe tbody tr th {\n",
       "        vertical-align: top;\n",
       "    }\n",
       "\n",
       "    .dataframe thead th {\n",
       "        text-align: right;\n",
       "    }\n",
       "</style>\n",
       "<table border=\"1\" class=\"dataframe\">\n",
       "  <thead>\n",
       "    <tr style=\"text-align: right;\">\n",
       "      <th></th>\n",
       "      <th>index</th>\n",
       "      <th>0</th>\n",
       "    </tr>\n",
       "  </thead>\n",
       "  <tbody>\n",
       "    <tr>\n",
       "      <th>2</th>\n",
       "      <td>14세</td>\n",
       "      <td>9053.0</td>\n",
       "    </tr>\n",
       "    <tr>\n",
       "      <th>3</th>\n",
       "      <td>15세</td>\n",
       "      <td>11730.0</td>\n",
       "    </tr>\n",
       "    <tr>\n",
       "      <th>4</th>\n",
       "      <td>16세</td>\n",
       "      <td>13548.0</td>\n",
       "    </tr>\n",
       "    <tr>\n",
       "      <th>5</th>\n",
       "      <td>17세</td>\n",
       "      <td>14338.0</td>\n",
       "    </tr>\n",
       "    <tr>\n",
       "      <th>6</th>\n",
       "      <td>18세</td>\n",
       "      <td>17578.0</td>\n",
       "    </tr>\n",
       "  </tbody>\n",
       "</table>\n",
       "</div>"
      ],
      "text/plain": [
       "  index        0\n",
       "2   14세   9053.0\n",
       "3   15세  11730.0\n",
       "4   16세  13548.0\n",
       "5   17세  14338.0\n",
       "6   18세  17578.0"
      ]
     },
     "execution_count": 25,
     "metadata": {},
     "output_type": "execute_result"
    }
   ],
   "source": [
    "# 필요없는 행 삭제\n",
    "df2_juvenile_crime = df1_sum_T.drop([0, 1])\n",
    "df2_juvenile_crime"
   ]
  },
  {
   "cell_type": "code",
   "execution_count": 26,
   "id": "e66549bd",
   "metadata": {},
   "outputs": [
    {
     "data": {
      "text/html": [
       "<div>\n",
       "<style scoped>\n",
       "    .dataframe tbody tr th:only-of-type {\n",
       "        vertical-align: middle;\n",
       "    }\n",
       "\n",
       "    .dataframe tbody tr th {\n",
       "        vertical-align: top;\n",
       "    }\n",
       "\n",
       "    .dataframe thead th {\n",
       "        text-align: right;\n",
       "    }\n",
       "</style>\n",
       "<table border=\"1\" class=\"dataframe\">\n",
       "  <thead>\n",
       "    <tr style=\"text-align: right;\">\n",
       "      <th></th>\n",
       "      <th>연령</th>\n",
       "      <th>범죄자 수</th>\n",
       "    </tr>\n",
       "  </thead>\n",
       "  <tbody>\n",
       "    <tr>\n",
       "      <th>2</th>\n",
       "      <td>14세</td>\n",
       "      <td>9053.0</td>\n",
       "    </tr>\n",
       "    <tr>\n",
       "      <th>3</th>\n",
       "      <td>15세</td>\n",
       "      <td>11730.0</td>\n",
       "    </tr>\n",
       "    <tr>\n",
       "      <th>4</th>\n",
       "      <td>16세</td>\n",
       "      <td>13548.0</td>\n",
       "    </tr>\n",
       "    <tr>\n",
       "      <th>5</th>\n",
       "      <td>17세</td>\n",
       "      <td>14338.0</td>\n",
       "    </tr>\n",
       "    <tr>\n",
       "      <th>6</th>\n",
       "      <td>18세</td>\n",
       "      <td>17578.0</td>\n",
       "    </tr>\n",
       "  </tbody>\n",
       "</table>\n",
       "</div>"
      ],
      "text/plain": [
       "    연령    범죄자 수\n",
       "2  14세   9053.0\n",
       "3  15세  11730.0\n",
       "4  16세  13548.0\n",
       "5  17세  14338.0\n",
       "6  18세  17578.0"
      ]
     },
     "execution_count": 26,
     "metadata": {},
     "output_type": "execute_result"
    }
   ],
   "source": [
    "# 컬럼명 변경\n",
    "df2_juvenile_crime.columns = ['연령', '범죄자 수']\n",
    "df2_juvenile_crime"
   ]
  },
  {
   "cell_type": "code",
   "execution_count": 27,
   "id": "27caab78",
   "metadata": {},
   "outputs": [
    {
     "data": {
      "text/html": [
       "<div>\n",
       "<style scoped>\n",
       "    .dataframe tbody tr th:only-of-type {\n",
       "        vertical-align: middle;\n",
       "    }\n",
       "\n",
       "    .dataframe tbody tr th {\n",
       "        vertical-align: top;\n",
       "    }\n",
       "\n",
       "    .dataframe thead th {\n",
       "        text-align: right;\n",
       "    }\n",
       "</style>\n",
       "<table border=\"1\" class=\"dataframe\">\n",
       "  <thead>\n",
       "    <tr style=\"text-align: right;\">\n",
       "      <th></th>\n",
       "      <th>연령</th>\n",
       "      <th>인구 수</th>\n",
       "      <th>범죄자 수</th>\n",
       "    </tr>\n",
       "  </thead>\n",
       "  <tbody>\n",
       "    <tr>\n",
       "      <th>0</th>\n",
       "      <td>14세</td>\n",
       "      <td>436418</td>\n",
       "      <td>9053.0</td>\n",
       "    </tr>\n",
       "    <tr>\n",
       "      <th>1</th>\n",
       "      <td>15세</td>\n",
       "      <td>474123</td>\n",
       "      <td>11730.0</td>\n",
       "    </tr>\n",
       "    <tr>\n",
       "      <th>2</th>\n",
       "      <td>16세</td>\n",
       "      <td>493389</td>\n",
       "      <td>13548.0</td>\n",
       "    </tr>\n",
       "    <tr>\n",
       "      <th>3</th>\n",
       "      <td>17세</td>\n",
       "      <td>494523</td>\n",
       "      <td>14338.0</td>\n",
       "    </tr>\n",
       "    <tr>\n",
       "      <th>4</th>\n",
       "      <td>18세</td>\n",
       "      <td>558704</td>\n",
       "      <td>17578.0</td>\n",
       "    </tr>\n",
       "  </tbody>\n",
       "</table>\n",
       "</div>"
      ],
      "text/plain": [
       "    연령    인구 수    범죄자 수\n",
       "0  14세  436418   9053.0\n",
       "1  15세  474123  11730.0\n",
       "2  16세  493389  13548.0\n",
       "3  17세  494523  14338.0\n",
       "4  18세  558704  17578.0"
      ]
     },
     "execution_count": 27,
     "metadata": {},
     "output_type": "execute_result"
    }
   ],
   "source": [
    "# df_merge_col = pd.merge(df_row, df3, on='id')\n",
    "df_merge = pd.merge(df2_juvenile, df2_juvenile_crime, on='연령')\n",
    "df_merge"
   ]
  },
  {
   "cell_type": "code",
   "execution_count": 33,
   "id": "ef54037e",
   "metadata": {},
   "outputs": [],
   "source": [
    "# '연령'을 인덱스로 설정\n",
    "df_merge.set_index(\"연령\", inplace = True)\n",
    "# 데이터 타입 변경\n",
    "df_merge = df_merge.apply(pd.to_numeric)"
   ]
  },
  {
   "cell_type": "code",
   "execution_count": 34,
   "id": "2fade488",
   "metadata": {},
   "outputs": [
    {
     "data": {
      "text/html": [
       "<div>\n",
       "<style scoped>\n",
       "    .dataframe tbody tr th:only-of-type {\n",
       "        vertical-align: middle;\n",
       "    }\n",
       "\n",
       "    .dataframe tbody tr th {\n",
       "        vertical-align: top;\n",
       "    }\n",
       "\n",
       "    .dataframe thead th {\n",
       "        text-align: right;\n",
       "    }\n",
       "</style>\n",
       "<table border=\"1\" class=\"dataframe\">\n",
       "  <thead>\n",
       "    <tr style=\"text-align: right;\">\n",
       "      <th></th>\n",
       "      <th>인구 수</th>\n",
       "      <th>범죄자 수</th>\n",
       "      <th>비율</th>\n",
       "    </tr>\n",
       "    <tr>\n",
       "      <th>연령</th>\n",
       "      <th></th>\n",
       "      <th></th>\n",
       "      <th></th>\n",
       "    </tr>\n",
       "  </thead>\n",
       "  <tbody>\n",
       "    <tr>\n",
       "      <th>14세</th>\n",
       "      <td>436418</td>\n",
       "      <td>9053.0</td>\n",
       "      <td>2.1</td>\n",
       "    </tr>\n",
       "    <tr>\n",
       "      <th>15세</th>\n",
       "      <td>474123</td>\n",
       "      <td>11730.0</td>\n",
       "      <td>2.5</td>\n",
       "    </tr>\n",
       "    <tr>\n",
       "      <th>16세</th>\n",
       "      <td>493389</td>\n",
       "      <td>13548.0</td>\n",
       "      <td>2.7</td>\n",
       "    </tr>\n",
       "    <tr>\n",
       "      <th>17세</th>\n",
       "      <td>494523</td>\n",
       "      <td>14338.0</td>\n",
       "      <td>2.9</td>\n",
       "    </tr>\n",
       "    <tr>\n",
       "      <th>18세</th>\n",
       "      <td>558704</td>\n",
       "      <td>17578.0</td>\n",
       "      <td>3.1</td>\n",
       "    </tr>\n",
       "  </tbody>\n",
       "</table>\n",
       "</div>"
      ],
      "text/plain": [
       "       인구 수    범죄자 수   비율\n",
       "연령                       \n",
       "14세  436418   9053.0  2.1\n",
       "15세  474123  11730.0  2.5\n",
       "16세  493389  13548.0  2.7\n",
       "17세  494523  14338.0  2.9\n",
       "18세  558704  17578.0  3.1"
      ]
     },
     "execution_count": 34,
     "metadata": {},
     "output_type": "execute_result"
    }
   ],
   "source": [
    "# 컬럼끼리 연산하여 비율 컬럼 추가\n",
    "# x는 df_re를 입력변수(매개변수)로 받음, axis = 1은 열 방향으로 칼럼의 연산을 적용하라는 의미 \n",
    "df_merge['비율'] = df_merge.apply(lambda x: x['범죄자 수']/x['인구 수']*100, axis=1).round(1).copy()\n",
    "df_merge"
   ]
  },
  {
   "cell_type": "code",
   "execution_count": 37,
   "id": "174b9fed",
   "metadata": {},
   "outputs": [
    {
     "data": {
      "image/png": "[encoded data removed]",
      "text/plain": [
       "<Figure size 720x216 with 1 Axes>"
      ]
     },
     "metadata": {
      "needs_background": "light"
     },
     "output_type": "display_data"
    }
   ],
   "source": [
    "df_merge['비율'].plot(kind='line', rot=0, figsize=(10, 3))\n",
    "plt.show()"
   ]
  },
  {
   "cell_type": "markdown",
   "id": "27b0dca6",
   "metadata": {},
   "source": [
    "(3) 연령별 소년 범죄자 수와 소년 범죄자 비율"
   ]
  },
  {
   "cell_type": "code",
   "execution_count": 61,
   "id": "e3253c0d",
   "metadata": {},
   "outputs": [
    {
     "data": {
      "text/plain": [
       "<matplotlib.legend.Legend at 0x1fb017d4250>"
      ]
     },
     "execution_count": 61,
     "metadata": {},
     "output_type": "execute_result"
    },
    {
     "data": {
      "image/png": "[encoded data removed]",
      "text/plain": [
       "<Figure size 720x360 with 2 Axes>"
      ]
     },
     "metadata": {},
     "output_type": "display_data"
    }
   ],
   "source": [
    "plt.style.use('ggplot')\n",
    "# plt.style.use('dark_background')\n",
    "\n",
    "fig, ax1 = plt.subplots()\n",
    "#plt.title('연령별 소년 범죄자 수와 소년 범죄자 비율')\n",
    "ax2 = ax1.twinx()\n",
    "gr1 = df1_sum.iloc[0][2:]\n",
    "gr2 = df_merge['비율']\n",
    "gr1.plot(kind='bar', ax=ax1, color='green', label='소년 범죄자 수', rot=0, figsize=(10, 5), width=0.4)\n",
    "gr2.plot(kind='line', ax=ax2, color='deeppink', label='소년 범죄자 비율')\n",
    "ax1.legend(bbox_to_anchor =(0.75, 1.15), ncol = 2)\n",
    "ax2.legend(bbox_to_anchor =(1.0, 1.15), ncol = 2)"
   ]
  },
  {
   "cell_type": "code",
   "execution_count": null,
   "id": "a3256b60",
   "metadata": {},
   "outputs": [],
   "source": [
    "plt.style.use('ggplot')\n",
    "# plt.style.use('dark_background')\n",
    "\n",
    "fig, ax1 = plt.subplots()\n",
    "#plt.title('연령별 소년 범죄자 수와 소년 범죄자 비율')\n",
    "ax2 = ax1.twinx()\n",
    "gr1 = df1_sum.iloc[0][2:]\n",
    "gr2 = df_merge['비율']\n",
    "gr1.plot(kind='bar', ax=ax1, color='green', label='소년 범죄자 수', rot=0, figsize=(10, 5), width=0.4)\n",
    "gr2.plot(kind='line', ax=ax2, color='deeppink', label='소년 범죄자 비율')\n",
    "ax1.legend(bbox_to_anchor =(0.75, 1.15), ncol = 2)\n",
    "ax2.legend(bbox_to_anchor =(1.0, 1.15), ncol = 2)"
   ]
  },
  {
   "cell_type": "markdown",
   "id": "b898b48d",
   "metadata": {},
   "source": [
    "### 2. 연령별 가장 많이 저지른 범죄 유형"
   ]
  },
  {
   "cell_type": "code",
   "execution_count": 14,
   "id": "ab024269",
   "metadata": {},
   "outputs": [
    {
     "data": {
      "text/html": [
       "<div>\n",
       "<style scoped>\n",
       "    .dataframe tbody tr th:only-of-type {\n",
       "        vertical-align: middle;\n",
       "    }\n",
       "\n",
       "    .dataframe tbody tr th {\n",
       "        vertical-align: top;\n",
       "    }\n",
       "\n",
       "    .dataframe thead th {\n",
       "        text-align: right;\n",
       "    }\n",
       "</style>\n",
       "<table border=\"1\" class=\"dataframe\">\n",
       "  <thead>\n",
       "    <tr style=\"text-align: right;\">\n",
       "      <th></th>\n",
       "      <th>소계</th>\n",
       "      <th>14세</th>\n",
       "      <th>15세</th>\n",
       "      <th>16세</th>\n",
       "      <th>17세</th>\n",
       "      <th>18세</th>\n",
       "    </tr>\n",
       "    <tr>\n",
       "      <th>범죄유형</th>\n",
       "      <th></th>\n",
       "      <th></th>\n",
       "      <th></th>\n",
       "      <th></th>\n",
       "      <th></th>\n",
       "      <th></th>\n",
       "    </tr>\n",
       "  </thead>\n",
       "  <tbody>\n",
       "    <tr>\n",
       "      <th>배임</th>\n",
       "      <td>1.0</td>\n",
       "      <td>0.0</td>\n",
       "      <td>0.0</td>\n",
       "      <td>0.0</td>\n",
       "      <td>0.0</td>\n",
       "      <td>1.0</td>\n",
       "    </tr>\n",
       "    <tr>\n",
       "      <th>사기</th>\n",
       "      <td>8088.0</td>\n",
       "      <td>609.0</td>\n",
       "      <td>1023.0</td>\n",
       "      <td>1762.0</td>\n",
       "      <td>2044.0</td>\n",
       "      <td>2650.0</td>\n",
       "    </tr>\n",
       "    <tr>\n",
       "      <th>손괴</th>\n",
       "      <td>1124.0</td>\n",
       "      <td>138.0</td>\n",
       "      <td>169.0</td>\n",
       "      <td>219.0</td>\n",
       "      <td>218.0</td>\n",
       "      <td>380.0</td>\n",
       "    </tr>\n",
       "    <tr>\n",
       "      <th>장물</th>\n",
       "      <td>175.0</td>\n",
       "      <td>29.0</td>\n",
       "      <td>28.0</td>\n",
       "      <td>48.0</td>\n",
       "      <td>36.0</td>\n",
       "      <td>34.0</td>\n",
       "    </tr>\n",
       "    <tr>\n",
       "      <th>절도</th>\n",
       "      <td>17141.0</td>\n",
       "      <td>4175.0</td>\n",
       "      <td>4390.0</td>\n",
       "      <td>3885.0</td>\n",
       "      <td>2631.0</td>\n",
       "      <td>2060.0</td>\n",
       "    </tr>\n",
       "  </tbody>\n",
       "</table>\n",
       "</div>"
      ],
      "text/plain": [
       "           소계     14세     15세     16세     17세     18세\n",
       "범죄유형                                                 \n",
       "배임        1.0     0.0     0.0     0.0     0.0     1.0\n",
       "사기     8088.0   609.0  1023.0  1762.0  2044.0  2650.0\n",
       "손괴     1124.0   138.0   169.0   219.0   218.0   380.0\n",
       "장물      175.0    29.0    28.0    48.0    36.0    34.0\n",
       "절도    17141.0  4175.0  4390.0  3885.0  2631.0  2060.0"
      ]
     },
     "execution_count": 14,
     "metadata": {},
     "output_type": "execute_result"
    }
   ],
   "source": [
    "# '계'가 들어 있지 않은 행만 추출\n",
    "df1 = df1[~df1.범죄유형.str.contains('계')].copy()\n",
    "\n",
    "# '범죄유형'를 인덱스로 설정\n",
    "df1.set_index(\"범죄유형\", inplace = True)\n",
    "df1.head()"
   ]
  },
  {
   "cell_type": "markdown",
   "id": "fac704c7",
   "metadata": {},
   "source": [
    "### (1) 14세 (절도>폭행>상해>사기>성폭력)\n",
    "- 재산범죄: 절도, 사기 (52.8%)\n",
    "- 강력범죄(폭력): 폭행, 상해 (19.6%)"
   ]
  },
  {
   "cell_type": "code",
   "execution_count": 15,
   "id": "2f04fce1",
   "metadata": {},
   "outputs": [
    {
     "data": {
      "text/html": [
       "<div>\n",
       "<style scoped>\n",
       "    .dataframe tbody tr th:only-of-type {\n",
       "        vertical-align: middle;\n",
       "    }\n",
       "\n",
       "    .dataframe tbody tr th {\n",
       "        vertical-align: top;\n",
       "    }\n",
       "\n",
       "    .dataframe thead th {\n",
       "        text-align: right;\n",
       "    }\n",
       "</style>\n",
       "<table border=\"1\" class=\"dataframe\">\n",
       "  <thead>\n",
       "    <tr style=\"text-align: right;\">\n",
       "      <th></th>\n",
       "      <th>14세</th>\n",
       "    </tr>\n",
       "    <tr>\n",
       "      <th>범죄유형</th>\n",
       "      <th></th>\n",
       "    </tr>\n",
       "  </thead>\n",
       "  <tbody>\n",
       "    <tr>\n",
       "      <th>배임</th>\n",
       "      <td>0.0</td>\n",
       "    </tr>\n",
       "    <tr>\n",
       "      <th>사기</th>\n",
       "      <td>609.0</td>\n",
       "    </tr>\n",
       "    <tr>\n",
       "      <th>손괴</th>\n",
       "      <td>138.0</td>\n",
       "    </tr>\n",
       "    <tr>\n",
       "      <th>장물</th>\n",
       "      <td>29.0</td>\n",
       "    </tr>\n",
       "    <tr>\n",
       "      <th>절도</th>\n",
       "      <td>4175.0</td>\n",
       "    </tr>\n",
       "  </tbody>\n",
       "</table>\n",
       "</div>"
      ],
      "text/plain": [
       "         14세\n",
       "범죄유형        \n",
       "배임       0.0\n",
       "사기     609.0\n",
       "손괴     138.0\n",
       "장물      29.0\n",
       "절도    4175.0"
      ]
     },
     "execution_count": 15,
     "metadata": {},
     "output_type": "execute_result"
    }
   ],
   "source": [
    "age14 = df1[['14세']]\n",
    "age14.head()"
   ]
  },
  {
   "cell_type": "code",
   "execution_count": 16,
   "id": "84de4ad3",
   "metadata": {},
   "outputs": [
    {
     "data": {
      "text/html": [
       "<div>\n",
       "<style scoped>\n",
       "    .dataframe tbody tr th:only-of-type {\n",
       "        vertical-align: middle;\n",
       "    }\n",
       "\n",
       "    .dataframe tbody tr th {\n",
       "        vertical-align: top;\n",
       "    }\n",
       "\n",
       "    .dataframe thead th {\n",
       "        text-align: right;\n",
       "    }\n",
       "</style>\n",
       "<table border=\"1\" class=\"dataframe\">\n",
       "  <thead>\n",
       "    <tr style=\"text-align: right;\">\n",
       "      <th></th>\n",
       "      <th>14세</th>\n",
       "    </tr>\n",
       "    <tr>\n",
       "      <th>범죄유형</th>\n",
       "      <th></th>\n",
       "    </tr>\n",
       "  </thead>\n",
       "  <tbody>\n",
       "    <tr>\n",
       "      <th>절도</th>\n",
       "      <td>4175.0</td>\n",
       "    </tr>\n",
       "    <tr>\n",
       "      <th>폭행</th>\n",
       "      <td>1110.0</td>\n",
       "    </tr>\n",
       "    <tr>\n",
       "      <th>상해</th>\n",
       "      <td>664.0</td>\n",
       "    </tr>\n",
       "    <tr>\n",
       "      <th>사기</th>\n",
       "      <td>609.0</td>\n",
       "    </tr>\n",
       "    <tr>\n",
       "      <th>성폭력</th>\n",
       "      <td>416.0</td>\n",
       "    </tr>\n",
       "  </tbody>\n",
       "</table>\n",
       "</div>"
      ],
      "text/plain": [
       "         14세\n",
       "범죄유형        \n",
       "절도    4175.0\n",
       "폭행    1110.0\n",
       "상해     664.0\n",
       "사기     609.0\n",
       "성폭력    416.0"
      ]
     },
     "execution_count": 16,
     "metadata": {},
     "output_type": "execute_result"
    }
   ],
   "source": [
    "# 내림차순 정렬\n",
    "age14_top5 = age14.sort_values('14세',ascending=False).head()\n",
    "age14_top5"
   ]
  },
  {
   "cell_type": "code",
   "execution_count": 17,
   "id": "e3759a1a",
   "metadata": {},
   "outputs": [
    {
     "data": {
      "text/html": [
       "<div>\n",
       "<style scoped>\n",
       "    .dataframe tbody tr th:only-of-type {\n",
       "        vertical-align: middle;\n",
       "    }\n",
       "\n",
       "    .dataframe tbody tr th {\n",
       "        vertical-align: top;\n",
       "    }\n",
       "\n",
       "    .dataframe thead th {\n",
       "        text-align: right;\n",
       "    }\n",
       "</style>\n",
       "<table border=\"1\" class=\"dataframe\">\n",
       "  <thead>\n",
       "    <tr style=\"text-align: right;\">\n",
       "      <th></th>\n",
       "      <th>14세</th>\n",
       "    </tr>\n",
       "    <tr>\n",
       "      <th>범죄유형</th>\n",
       "      <th></th>\n",
       "    </tr>\n",
       "  </thead>\n",
       "  <tbody>\n",
       "    <tr>\n",
       "      <th>절도</th>\n",
       "      <td>4175.0</td>\n",
       "    </tr>\n",
       "    <tr>\n",
       "      <th>폭행</th>\n",
       "      <td>1110.0</td>\n",
       "    </tr>\n",
       "    <tr>\n",
       "      <th>상해</th>\n",
       "      <td>664.0</td>\n",
       "    </tr>\n",
       "    <tr>\n",
       "      <th>사기</th>\n",
       "      <td>609.0</td>\n",
       "    </tr>\n",
       "    <tr>\n",
       "      <th>성폭력</th>\n",
       "      <td>416.0</td>\n",
       "    </tr>\n",
       "    <tr>\n",
       "      <th>기타</th>\n",
       "      <td>2079.0</td>\n",
       "    </tr>\n",
       "  </tbody>\n",
       "</table>\n",
       "</div>"
      ],
      "text/plain": [
       "         14세\n",
       "범죄유형        \n",
       "절도    4175.0\n",
       "폭행    1110.0\n",
       "상해     664.0\n",
       "사기     609.0\n",
       "성폭력    416.0\n",
       "기타    2079.0"
      ]
     },
     "execution_count": 17,
     "metadata": {},
     "output_type": "execute_result"
    }
   ],
   "source": [
    "sum14 = age14['14세'].sum()\n",
    "\n",
    "# '기타' 행 추가\n",
    "age14_top5.loc['기타'] = sum14 - age14_top5['14세'].sum()\n",
    "age14_top5"
   ]
  },
  {
   "cell_type": "code",
   "execution_count": 18,
   "id": "c8e62bac",
   "metadata": {},
   "outputs": [
    {
     "name": "stdout",
     "output_type": "stream",
     "text": [
      "[46.11730917927759, 12.26112890754446, 7.334585220368939, 6.72705180603115, 4.5951618248094555, 22.96476306196841]\n"
     ]
    }
   ],
   "source": [
    "ratio14 = []\n",
    "\n",
    "for i in age14_top5['14세']:\n",
    "    ratio14.append(i/sum14*100)\n",
    "\n",
    "print(ratio14)"
   ]
  },
  {
   "cell_type": "code",
   "execution_count": 19,
   "id": "e58cc0e5",
   "metadata": {},
   "outputs": [
    {
     "data": {
      "image/png": "[encoded data removed]",
      "text/plain": [
       "<Figure size 1008x576 with 1 Axes>"
      ]
     },
     "metadata": {},
     "output_type": "display_data"
    }
   ],
   "source": [
    "labels14 = age14_top5.index.tolist() # 인덱스 리스트로 추출\n",
    "\n",
    "explode = [0.05, 0.05, 0.05, 0.05, 0.05, 0.05]\n",
    "colors = ['#ff9999', '#ffc000', '#8fd9b6', '#d395d0', '#ADD8E6', '#D4DBE1'] # 다홍, 노랑, 민트, 연보라, 하늘색, 회색\n",
    "wedgeprops={'width': 0.7, 'edgecolor': 'w', 'linewidth': 5}\n",
    "\n",
    "\n",
    "plt.pie(ratio14, labels=labels14, autopct='%.1f%%', startangle=90, counterclock=False, explode=explode, colors=colors, wedgeprops=wedgeprops)\n",
    "plt.show()"
   ]
  },
  {
   "cell_type": "markdown",
   "id": "09d0f96e",
   "metadata": {},
   "source": [
    "### (2) 15세 (절도>폭행>사기>상해>도로교통법(무면허운전))\n",
    "- 재산범죄: 절도, 사기 (46.1%)\n",
    "- 강력범죄(폭력): 폭행, 상해 (21.9%)"
   ]
  },
  {
   "cell_type": "code",
   "execution_count": 20,
   "id": "5fa92d11",
   "metadata": {},
   "outputs": [
    {
     "data": {
      "text/html": [
       "<div>\n",
       "<style scoped>\n",
       "    .dataframe tbody tr th:only-of-type {\n",
       "        vertical-align: middle;\n",
       "    }\n",
       "\n",
       "    .dataframe tbody tr th {\n",
       "        vertical-align: top;\n",
       "    }\n",
       "\n",
       "    .dataframe thead th {\n",
       "        text-align: right;\n",
       "    }\n",
       "</style>\n",
       "<table border=\"1\" class=\"dataframe\">\n",
       "  <thead>\n",
       "    <tr style=\"text-align: right;\">\n",
       "      <th></th>\n",
       "      <th>15세</th>\n",
       "    </tr>\n",
       "    <tr>\n",
       "      <th>범죄유형</th>\n",
       "      <th></th>\n",
       "    </tr>\n",
       "  </thead>\n",
       "  <tbody>\n",
       "    <tr>\n",
       "      <th>배임</th>\n",
       "      <td>0.0</td>\n",
       "    </tr>\n",
       "    <tr>\n",
       "      <th>사기</th>\n",
       "      <td>1023.0</td>\n",
       "    </tr>\n",
       "    <tr>\n",
       "      <th>손괴</th>\n",
       "      <td>169.0</td>\n",
       "    </tr>\n",
       "    <tr>\n",
       "      <th>장물</th>\n",
       "      <td>28.0</td>\n",
       "    </tr>\n",
       "    <tr>\n",
       "      <th>절도</th>\n",
       "      <td>4390.0</td>\n",
       "    </tr>\n",
       "  </tbody>\n",
       "</table>\n",
       "</div>"
      ],
      "text/plain": [
       "         15세\n",
       "범죄유형        \n",
       "배임       0.0\n",
       "사기    1023.0\n",
       "손괴     169.0\n",
       "장물      28.0\n",
       "절도    4390.0"
      ]
     },
     "execution_count": 20,
     "metadata": {},
     "output_type": "execute_result"
    }
   ],
   "source": [
    "age15 = df1[['15세']]\n",
    "age15.head()"
   ]
  },
  {
   "cell_type": "code",
   "execution_count": 21,
   "id": "d29e0e8a",
   "metadata": {},
   "outputs": [
    {
     "data": {
      "text/html": [
       "<div>\n",
       "<style scoped>\n",
       "    .dataframe tbody tr th:only-of-type {\n",
       "        vertical-align: middle;\n",
       "    }\n",
       "\n",
       "    .dataframe tbody tr th {\n",
       "        vertical-align: top;\n",
       "    }\n",
       "\n",
       "    .dataframe thead th {\n",
       "        text-align: right;\n",
       "    }\n",
       "</style>\n",
       "<table border=\"1\" class=\"dataframe\">\n",
       "  <thead>\n",
       "    <tr style=\"text-align: right;\">\n",
       "      <th></th>\n",
       "      <th>15세</th>\n",
       "    </tr>\n",
       "    <tr>\n",
       "      <th>범죄유형</th>\n",
       "      <th></th>\n",
       "    </tr>\n",
       "  </thead>\n",
       "  <tbody>\n",
       "    <tr>\n",
       "      <th>절도</th>\n",
       "      <td>4390.0</td>\n",
       "    </tr>\n",
       "    <tr>\n",
       "      <th>폭행</th>\n",
       "      <td>1654.0</td>\n",
       "    </tr>\n",
       "    <tr>\n",
       "      <th>사기</th>\n",
       "      <td>1023.0</td>\n",
       "    </tr>\n",
       "    <tr>\n",
       "      <th>상해</th>\n",
       "      <td>917.0</td>\n",
       "    </tr>\n",
       "    <tr>\n",
       "      <th>도로교통법(무면허운전)</th>\n",
       "      <td>673.0</td>\n",
       "    </tr>\n",
       "  </tbody>\n",
       "</table>\n",
       "</div>"
      ],
      "text/plain": [
       "                 15세\n",
       "범죄유형                \n",
       "절도            4390.0\n",
       "폭행            1654.0\n",
       "사기            1023.0\n",
       "상해             917.0\n",
       "도로교통법(무면허운전)   673.0"
      ]
     },
     "execution_count": 21,
     "metadata": {},
     "output_type": "execute_result"
    }
   ],
   "source": [
    "# 내림차순 정렬\n",
    "age15_top5 = age15.sort_values('15세',ascending=False).head()\n",
    "age15_top5"
   ]
  },
  {
   "cell_type": "code",
   "execution_count": 22,
   "id": "72a890a4",
   "metadata": {},
   "outputs": [
    {
     "data": {
      "text/html": [
       "<div>\n",
       "<style scoped>\n",
       "    .dataframe tbody tr th:only-of-type {\n",
       "        vertical-align: middle;\n",
       "    }\n",
       "\n",
       "    .dataframe tbody tr th {\n",
       "        vertical-align: top;\n",
       "    }\n",
       "\n",
       "    .dataframe thead th {\n",
       "        text-align: right;\n",
       "    }\n",
       "</style>\n",
       "<table border=\"1\" class=\"dataframe\">\n",
       "  <thead>\n",
       "    <tr style=\"text-align: right;\">\n",
       "      <th></th>\n",
       "      <th>15세</th>\n",
       "    </tr>\n",
       "    <tr>\n",
       "      <th>범죄유형</th>\n",
       "      <th></th>\n",
       "    </tr>\n",
       "  </thead>\n",
       "  <tbody>\n",
       "    <tr>\n",
       "      <th>절도</th>\n",
       "      <td>4390.0</td>\n",
       "    </tr>\n",
       "    <tr>\n",
       "      <th>폭행</th>\n",
       "      <td>1654.0</td>\n",
       "    </tr>\n",
       "    <tr>\n",
       "      <th>사기</th>\n",
       "      <td>1023.0</td>\n",
       "    </tr>\n",
       "    <tr>\n",
       "      <th>상해</th>\n",
       "      <td>917.0</td>\n",
       "    </tr>\n",
       "    <tr>\n",
       "      <th>도로교통법(무면허운전)</th>\n",
       "      <td>673.0</td>\n",
       "    </tr>\n",
       "    <tr>\n",
       "      <th>기타</th>\n",
       "      <td>3073.0</td>\n",
       "    </tr>\n",
       "  </tbody>\n",
       "</table>\n",
       "</div>"
      ],
      "text/plain": [
       "                 15세\n",
       "범죄유형                \n",
       "절도            4390.0\n",
       "폭행            1654.0\n",
       "사기            1023.0\n",
       "상해             917.0\n",
       "도로교통법(무면허운전)   673.0\n",
       "기타            3073.0"
      ]
     },
     "execution_count": 22,
     "metadata": {},
     "output_type": "execute_result"
    }
   ],
   "source": [
    "sum15 = age15['15세'].sum()\n",
    "\n",
    "# '기타' 행 추가\n",
    "age15_top5.loc['기타'] = sum15 - age15_top5['15세'].sum()\n",
    "age15_top5"
   ]
  },
  {
   "cell_type": "code",
   "execution_count": 23,
   "id": "bf1475c6",
   "metadata": {},
   "outputs": [
    {
     "name": "stdout",
     "output_type": "stream",
     "text": [
      "[37.42540494458653, 14.100596760443306, 8.721227621483376, 7.817561807331629, 5.737425404944586, 26.197783461210573]\n"
     ]
    }
   ],
   "source": [
    "ratio15 = []\n",
    "\n",
    "for i in age15_top5['15세']:\n",
    "    ratio15.append(i/sum15*100)\n",
    "\n",
    "print(ratio15)"
   ]
  },
  {
   "cell_type": "code",
   "execution_count": 24,
   "id": "af04fd52",
   "metadata": {},
   "outputs": [
    {
     "data": {
      "image/png": "[encoded data removed]",
      "text/plain": [
       "<Figure size 1008x576 with 1 Axes>"
      ]
     },
     "metadata": {},
     "output_type": "display_data"
    }
   ],
   "source": [
    "labels15 = age15_top5.index.tolist()\n",
    "\n",
    "explode = [0.05, 0.05, 0.05, 0.05, 0.05, 0.05]\n",
    "colors = ['#ff9999', '#ffc000', '#8fd9b6', '#d395d0', '#ADD8E6', '#D4DBE1'] # 다홍, 노랑, 민트, 연보라, 하늘색, 회색\n",
    "wedgeprops={'width': 0.7, 'edgecolor': 'w', 'linewidth': 5}\n",
    "\n",
    "\n",
    "plt.pie(ratio15, labels=labels15, autopct='%.1f%%', startangle=90, counterclock=False, explode=explode, colors=colors, wedgeprops=wedgeprops)\n",
    "plt.show()"
   ]
  },
  {
   "cell_type": "markdown",
   "id": "2fd308b0",
   "metadata": {},
   "source": [
    "### (3) 16세 (절도>사기>폭행>도로교통법(무면허운전)>상해)\n",
    "- 재산범죄: 절도, 사기 (41.7%)\n",
    "- 강력범죄(폭력): 폭행, 상해 (19.1%)"
   ]
  },
  {
   "cell_type": "code",
   "execution_count": 25,
   "id": "ef5fd01c",
   "metadata": {},
   "outputs": [
    {
     "data": {
      "text/html": [
       "<div>\n",
       "<style scoped>\n",
       "    .dataframe tbody tr th:only-of-type {\n",
       "        vertical-align: middle;\n",
       "    }\n",
       "\n",
       "    .dataframe tbody tr th {\n",
       "        vertical-align: top;\n",
       "    }\n",
       "\n",
       "    .dataframe thead th {\n",
       "        text-align: right;\n",
       "    }\n",
       "</style>\n",
       "<table border=\"1\" class=\"dataframe\">\n",
       "  <thead>\n",
       "    <tr style=\"text-align: right;\">\n",
       "      <th></th>\n",
       "      <th>16세</th>\n",
       "    </tr>\n",
       "    <tr>\n",
       "      <th>범죄유형</th>\n",
       "      <th></th>\n",
       "    </tr>\n",
       "  </thead>\n",
       "  <tbody>\n",
       "    <tr>\n",
       "      <th>배임</th>\n",
       "      <td>0.0</td>\n",
       "    </tr>\n",
       "    <tr>\n",
       "      <th>사기</th>\n",
       "      <td>1762.0</td>\n",
       "    </tr>\n",
       "    <tr>\n",
       "      <th>손괴</th>\n",
       "      <td>219.0</td>\n",
       "    </tr>\n",
       "    <tr>\n",
       "      <th>장물</th>\n",
       "      <td>48.0</td>\n",
       "    </tr>\n",
       "    <tr>\n",
       "      <th>절도</th>\n",
       "      <td>3885.0</td>\n",
       "    </tr>\n",
       "  </tbody>\n",
       "</table>\n",
       "</div>"
      ],
      "text/plain": [
       "         16세\n",
       "범죄유형        \n",
       "배임       0.0\n",
       "사기    1762.0\n",
       "손괴     219.0\n",
       "장물      48.0\n",
       "절도    3885.0"
      ]
     },
     "execution_count": 25,
     "metadata": {},
     "output_type": "execute_result"
    }
   ],
   "source": [
    "age16 = df1[['16세']]\n",
    "age16.head()"
   ]
  },
  {
   "cell_type": "code",
   "execution_count": 26,
   "id": "6de71618",
   "metadata": {},
   "outputs": [
    {
     "data": {
      "text/html": [
       "<div>\n",
       "<style scoped>\n",
       "    .dataframe tbody tr th:only-of-type {\n",
       "        vertical-align: middle;\n",
       "    }\n",
       "\n",
       "    .dataframe tbody tr th {\n",
       "        vertical-align: top;\n",
       "    }\n",
       "\n",
       "    .dataframe thead th {\n",
       "        text-align: right;\n",
       "    }\n",
       "</style>\n",
       "<table border=\"1\" class=\"dataframe\">\n",
       "  <thead>\n",
       "    <tr style=\"text-align: right;\">\n",
       "      <th></th>\n",
       "      <th>16세</th>\n",
       "    </tr>\n",
       "    <tr>\n",
       "      <th>범죄유형</th>\n",
       "      <th></th>\n",
       "    </tr>\n",
       "  </thead>\n",
       "  <tbody>\n",
       "    <tr>\n",
       "      <th>절도</th>\n",
       "      <td>3885.0</td>\n",
       "    </tr>\n",
       "    <tr>\n",
       "      <th>사기</th>\n",
       "      <td>1762.0</td>\n",
       "    </tr>\n",
       "    <tr>\n",
       "      <th>폭행</th>\n",
       "      <td>1711.0</td>\n",
       "    </tr>\n",
       "    <tr>\n",
       "      <th>도로교통법(무면허운전)</th>\n",
       "      <td>919.0</td>\n",
       "    </tr>\n",
       "    <tr>\n",
       "      <th>상해</th>\n",
       "      <td>880.0</td>\n",
       "    </tr>\n",
       "  </tbody>\n",
       "</table>\n",
       "</div>"
      ],
      "text/plain": [
       "                 16세\n",
       "범죄유형                \n",
       "절도            3885.0\n",
       "사기            1762.0\n",
       "폭행            1711.0\n",
       "도로교통법(무면허운전)   919.0\n",
       "상해             880.0"
      ]
     },
     "execution_count": 26,
     "metadata": {},
     "output_type": "execute_result"
    }
   ],
   "source": [
    "# 내림차순 정렬\n",
    "age16_top5 = age16.sort_values('16세',ascending=False).head()\n",
    "age16_top5"
   ]
  },
  {
   "cell_type": "code",
   "execution_count": 27,
   "id": "53ed73d7",
   "metadata": {},
   "outputs": [
    {
     "data": {
      "text/html": [
       "<div>\n",
       "<style scoped>\n",
       "    .dataframe tbody tr th:only-of-type {\n",
       "        vertical-align: middle;\n",
       "    }\n",
       "\n",
       "    .dataframe tbody tr th {\n",
       "        vertical-align: top;\n",
       "    }\n",
       "\n",
       "    .dataframe thead th {\n",
       "        text-align: right;\n",
       "    }\n",
       "</style>\n",
       "<table border=\"1\" class=\"dataframe\">\n",
       "  <thead>\n",
       "    <tr style=\"text-align: right;\">\n",
       "      <th></th>\n",
       "      <th>16세</th>\n",
       "    </tr>\n",
       "    <tr>\n",
       "      <th>범죄유형</th>\n",
       "      <th></th>\n",
       "    </tr>\n",
       "  </thead>\n",
       "  <tbody>\n",
       "    <tr>\n",
       "      <th>절도</th>\n",
       "      <td>3885.0</td>\n",
       "    </tr>\n",
       "    <tr>\n",
       "      <th>사기</th>\n",
       "      <td>1762.0</td>\n",
       "    </tr>\n",
       "    <tr>\n",
       "      <th>폭행</th>\n",
       "      <td>1711.0</td>\n",
       "    </tr>\n",
       "    <tr>\n",
       "      <th>도로교통법(무면허운전)</th>\n",
       "      <td>919.0</td>\n",
       "    </tr>\n",
       "    <tr>\n",
       "      <th>상해</th>\n",
       "      <td>880.0</td>\n",
       "    </tr>\n",
       "    <tr>\n",
       "      <th>기타</th>\n",
       "      <td>4391.0</td>\n",
       "    </tr>\n",
       "  </tbody>\n",
       "</table>\n",
       "</div>"
      ],
      "text/plain": [
       "                 16세\n",
       "범죄유형                \n",
       "절도            3885.0\n",
       "사기            1762.0\n",
       "폭행            1711.0\n",
       "도로교통법(무면허운전)   919.0\n",
       "상해             880.0\n",
       "기타            4391.0"
      ]
     },
     "execution_count": 27,
     "metadata": {},
     "output_type": "execute_result"
    }
   ],
   "source": [
    "sum16 = age16['16세'].sum()\n",
    "\n",
    "# '기타' 행 추가\n",
    "age16_top5.loc['기타'] = sum16 - age16_top5['16세'].sum()\n",
    "age16_top5"
   ]
  },
  {
   "cell_type": "code",
   "execution_count": 28,
   "id": "a1f73199",
   "metadata": {},
   "outputs": [
    {
     "name": "stdout",
     "output_type": "stream",
     "text": [
      "[28.675819309123117, 13.005609684086211, 12.6291703572483, 6.783289046353705, 6.495423678771775, 32.410687924416884]\n"
     ]
    }
   ],
   "source": [
    "ratio16 = []\n",
    "\n",
    "for i in age16_top5['16세']:\n",
    "    ratio16.append(i/sum16*100)\n",
    "\n",
    "print(ratio16)"
   ]
  },
  {
   "cell_type": "code",
   "execution_count": 29,
   "id": "7ebdfdbf",
   "metadata": {},
   "outputs": [
    {
     "data": {
      "image/png": "[encoded data removed]",
      "text/plain": [
       "<Figure size 1008x576 with 1 Axes>"
      ]
     },
     "metadata": {},
     "output_type": "display_data"
    }
   ],
   "source": [
    "labels16 = age16_top5.index.tolist()\n",
    "\n",
    "explode = [0.05, 0.05, 0.05, 0.05, 0.05, 0.05]\n",
    "colors = ['#ff9999', '#ffc000', '#8fd9b6', '#d395d0', '#ADD8E6', '#D4DBE1'] # 다홍, 노랑, 민트, 연보라, 하늘색, 회색\n",
    "wedgeprops={'width': 0.7, 'edgecolor': 'w', 'linewidth': 5}\n",
    "\n",
    "\n",
    "plt.pie(ratio16, labels=labels16, autopct='%.1f%%', startangle=90, counterclock=False, explode=explode, colors=colors, wedgeprops=wedgeprops)\n",
    "plt.show()"
   ]
  },
  {
   "cell_type": "markdown",
   "id": "43bd3b6d",
   "metadata": {},
   "source": [
    "### (4) 17세 (절도>폭행>사기>상해>도로교통법(무면허운전))\n",
    "- 재산범죄: 절도, 사기 (32.6%)\n",
    "- 강력범죄(폭력): 폭행, 상해 (22.2%)"
   ]
  },
  {
   "cell_type": "code",
   "execution_count": 30,
   "id": "11074563",
   "metadata": {},
   "outputs": [
    {
     "data": {
      "text/html": [
       "<div>\n",
       "<style scoped>\n",
       "    .dataframe tbody tr th:only-of-type {\n",
       "        vertical-align: middle;\n",
       "    }\n",
       "\n",
       "    .dataframe tbody tr th {\n",
       "        vertical-align: top;\n",
       "    }\n",
       "\n",
       "    .dataframe thead th {\n",
       "        text-align: right;\n",
       "    }\n",
       "</style>\n",
       "<table border=\"1\" class=\"dataframe\">\n",
       "  <thead>\n",
       "    <tr style=\"text-align: right;\">\n",
       "      <th></th>\n",
       "      <th>17세</th>\n",
       "    </tr>\n",
       "    <tr>\n",
       "      <th>범죄유형</th>\n",
       "      <th></th>\n",
       "    </tr>\n",
       "  </thead>\n",
       "  <tbody>\n",
       "    <tr>\n",
       "      <th>배임</th>\n",
       "      <td>0.0</td>\n",
       "    </tr>\n",
       "    <tr>\n",
       "      <th>사기</th>\n",
       "      <td>2044.0</td>\n",
       "    </tr>\n",
       "    <tr>\n",
       "      <th>손괴</th>\n",
       "      <td>218.0</td>\n",
       "    </tr>\n",
       "    <tr>\n",
       "      <th>장물</th>\n",
       "      <td>36.0</td>\n",
       "    </tr>\n",
       "    <tr>\n",
       "      <th>절도</th>\n",
       "      <td>2631.0</td>\n",
       "    </tr>\n",
       "  </tbody>\n",
       "</table>\n",
       "</div>"
      ],
      "text/plain": [
       "         17세\n",
       "범죄유형        \n",
       "배임       0.0\n",
       "사기    2044.0\n",
       "손괴     218.0\n",
       "장물      36.0\n",
       "절도    2631.0"
      ]
     },
     "execution_count": 30,
     "metadata": {},
     "output_type": "execute_result"
    }
   ],
   "source": [
    "age17 = df1[['17세']]\n",
    "age17.head()"
   ]
  },
  {
   "cell_type": "code",
   "execution_count": 31,
   "id": "924535bc",
   "metadata": {},
   "outputs": [
    {
     "data": {
      "text/html": [
       "<div>\n",
       "<style scoped>\n",
       "    .dataframe tbody tr th:only-of-type {\n",
       "        vertical-align: middle;\n",
       "    }\n",
       "\n",
       "    .dataframe tbody tr th {\n",
       "        vertical-align: top;\n",
       "    }\n",
       "\n",
       "    .dataframe thead th {\n",
       "        text-align: right;\n",
       "    }\n",
       "</style>\n",
       "<table border=\"1\" class=\"dataframe\">\n",
       "  <thead>\n",
       "    <tr style=\"text-align: right;\">\n",
       "      <th></th>\n",
       "      <th>17세</th>\n",
       "    </tr>\n",
       "    <tr>\n",
       "      <th>범죄유형</th>\n",
       "      <th></th>\n",
       "    </tr>\n",
       "  </thead>\n",
       "  <tbody>\n",
       "    <tr>\n",
       "      <th>절도</th>\n",
       "      <td>2631.0</td>\n",
       "    </tr>\n",
       "    <tr>\n",
       "      <th>폭행</th>\n",
       "      <td>2074.0</td>\n",
       "    </tr>\n",
       "    <tr>\n",
       "      <th>사기</th>\n",
       "      <td>2044.0</td>\n",
       "    </tr>\n",
       "    <tr>\n",
       "      <th>상해</th>\n",
       "      <td>1110.0</td>\n",
       "    </tr>\n",
       "    <tr>\n",
       "      <th>도로교통법(무면허운전)</th>\n",
       "      <td>809.0</td>\n",
       "    </tr>\n",
       "  </tbody>\n",
       "</table>\n",
       "</div>"
      ],
      "text/plain": [
       "                 17세\n",
       "범죄유형                \n",
       "절도            2631.0\n",
       "폭행            2074.0\n",
       "사기            2044.0\n",
       "상해            1110.0\n",
       "도로교통법(무면허운전)   809.0"
      ]
     },
     "execution_count": 31,
     "metadata": {},
     "output_type": "execute_result"
    }
   ],
   "source": [
    "# 내림차순 정렬\n",
    "age17_top5 = age17.sort_values('17세',ascending=False).head()\n",
    "age17_top5"
   ]
  },
  {
   "cell_type": "code",
   "execution_count": 32,
   "id": "bfd178d0",
   "metadata": {},
   "outputs": [
    {
     "data": {
      "text/html": [
       "<div>\n",
       "<style scoped>\n",
       "    .dataframe tbody tr th:only-of-type {\n",
       "        vertical-align: middle;\n",
       "    }\n",
       "\n",
       "    .dataframe tbody tr th {\n",
       "        vertical-align: top;\n",
       "    }\n",
       "\n",
       "    .dataframe thead th {\n",
       "        text-align: right;\n",
       "    }\n",
       "</style>\n",
       "<table border=\"1\" class=\"dataframe\">\n",
       "  <thead>\n",
       "    <tr style=\"text-align: right;\">\n",
       "      <th></th>\n",
       "      <th>17세</th>\n",
       "    </tr>\n",
       "    <tr>\n",
       "      <th>범죄유형</th>\n",
       "      <th></th>\n",
       "    </tr>\n",
       "  </thead>\n",
       "  <tbody>\n",
       "    <tr>\n",
       "      <th>절도</th>\n",
       "      <td>2631.0</td>\n",
       "    </tr>\n",
       "    <tr>\n",
       "      <th>폭행</th>\n",
       "      <td>2074.0</td>\n",
       "    </tr>\n",
       "    <tr>\n",
       "      <th>사기</th>\n",
       "      <td>2044.0</td>\n",
       "    </tr>\n",
       "    <tr>\n",
       "      <th>상해</th>\n",
       "      <td>1110.0</td>\n",
       "    </tr>\n",
       "    <tr>\n",
       "      <th>도로교통법(무면허운전)</th>\n",
       "      <td>809.0</td>\n",
       "    </tr>\n",
       "    <tr>\n",
       "      <th>기타</th>\n",
       "      <td>5670.0</td>\n",
       "    </tr>\n",
       "  </tbody>\n",
       "</table>\n",
       "</div>"
      ],
      "text/plain": [
       "                 17세\n",
       "범죄유형                \n",
       "절도            2631.0\n",
       "폭행            2074.0\n",
       "사기            2044.0\n",
       "상해            1110.0\n",
       "도로교통법(무면허운전)   809.0\n",
       "기타            5670.0"
      ]
     },
     "execution_count": 32,
     "metadata": {},
     "output_type": "execute_result"
    }
   ],
   "source": [
    "sum17 = age17['17세'].sum()\n",
    "\n",
    "# '기타' 행 추가\n",
    "age17_top5.loc['기타'] = sum17 - age17_top5['17세'].sum()\n",
    "age17_top5"
   ]
  },
  {
   "cell_type": "code",
   "execution_count": 33,
   "id": "d7744809",
   "metadata": {},
   "outputs": [
    {
     "name": "stdout",
     "output_type": "stream",
     "text": [
      "[18.349839587111173, 14.465057888129445, 14.255823685311759, 7.741665504254429, 5.6423490026503, 39.54526433254289]\n"
     ]
    }
   ],
   "source": [
    "ratio17 = []\n",
    "\n",
    "for i in age17_top5['17세']:\n",
    "    ratio17.append(i/sum17*100)\n",
    "\n",
    "print(ratio17)"
   ]
  },
  {
   "cell_type": "code",
   "execution_count": 34,
   "id": "911774b3",
   "metadata": {},
   "outputs": [
    {
     "data": {
      "image/png": "[encoded data removed]",
      "text/plain": [
       "<Figure size 1008x576 with 1 Axes>"
      ]
     },
     "metadata": {},
     "output_type": "display_data"
    }
   ],
   "source": [
    "labels17 = age17_top5.index.tolist()\n",
    "\n",
    "explode = [0.05, 0.05, 0.05, 0.05, 0.05, 0.05]\n",
    "colors = ['#ff9999', '#ffc000', '#8fd9b6', '#d395d0', '#ADD8E6', '#D4DBE1'] # 다홍, 노랑, 민트, 연보라, 하늘색, 회색\n",
    "wedgeprops={'width': 0.7, 'edgecolor': 'w', 'linewidth': 5}\n",
    "\n",
    "\n",
    "plt.pie(ratio17, labels=labels17, autopct='%.1f%%', startangle=90, counterclock=False, explode=explode, colors=colors, wedgeprops=wedgeprops)\n",
    "plt.show()"
   ]
  },
  {
   "cell_type": "markdown",
   "id": "6fd21353",
   "metadata": {},
   "source": [
    "### (5) 18세 (폭행>사기>절도>상해>교통사고처리특례법)\n",
    "- 강력범죄(폭력): 폭행, 상해 (28.5%)\n",
    "- 재산범죄: 사기, 절도 (26.8%)"
   ]
  },
  {
   "cell_type": "code",
   "execution_count": 35,
   "id": "b285dc8d",
   "metadata": {},
   "outputs": [
    {
     "data": {
      "text/html": [
       "<div>\n",
       "<style scoped>\n",
       "    .dataframe tbody tr th:only-of-type {\n",
       "        vertical-align: middle;\n",
       "    }\n",
       "\n",
       "    .dataframe tbody tr th {\n",
       "        vertical-align: top;\n",
       "    }\n",
       "\n",
       "    .dataframe thead th {\n",
       "        text-align: right;\n",
       "    }\n",
       "</style>\n",
       "<table border=\"1\" class=\"dataframe\">\n",
       "  <thead>\n",
       "    <tr style=\"text-align: right;\">\n",
       "      <th></th>\n",
       "      <th>18세</th>\n",
       "    </tr>\n",
       "    <tr>\n",
       "      <th>범죄유형</th>\n",
       "      <th></th>\n",
       "    </tr>\n",
       "  </thead>\n",
       "  <tbody>\n",
       "    <tr>\n",
       "      <th>배임</th>\n",
       "      <td>1.0</td>\n",
       "    </tr>\n",
       "    <tr>\n",
       "      <th>사기</th>\n",
       "      <td>2650.0</td>\n",
       "    </tr>\n",
       "    <tr>\n",
       "      <th>손괴</th>\n",
       "      <td>380.0</td>\n",
       "    </tr>\n",
       "    <tr>\n",
       "      <th>장물</th>\n",
       "      <td>34.0</td>\n",
       "    </tr>\n",
       "    <tr>\n",
       "      <th>절도</th>\n",
       "      <td>2060.0</td>\n",
       "    </tr>\n",
       "  </tbody>\n",
       "</table>\n",
       "</div>"
      ],
      "text/plain": [
       "         18세\n",
       "범죄유형        \n",
       "배임       1.0\n",
       "사기    2650.0\n",
       "손괴     380.0\n",
       "장물      34.0\n",
       "절도    2060.0"
      ]
     },
     "execution_count": 35,
     "metadata": {},
     "output_type": "execute_result"
    }
   ],
   "source": [
    "age18 = df1[['18세']]\n",
    "age18.head()"
   ]
  },
  {
   "cell_type": "code",
   "execution_count": 36,
   "id": "92d5e26f",
   "metadata": {},
   "outputs": [
    {
     "data": {
      "text/html": [
       "<div>\n",
       "<style scoped>\n",
       "    .dataframe tbody tr th:only-of-type {\n",
       "        vertical-align: middle;\n",
       "    }\n",
       "\n",
       "    .dataframe tbody tr th {\n",
       "        vertical-align: top;\n",
       "    }\n",
       "\n",
       "    .dataframe thead th {\n",
       "        text-align: right;\n",
       "    }\n",
       "</style>\n",
       "<table border=\"1\" class=\"dataframe\">\n",
       "  <thead>\n",
       "    <tr style=\"text-align: right;\">\n",
       "      <th></th>\n",
       "      <th>18세</th>\n",
       "    </tr>\n",
       "    <tr>\n",
       "      <th>범죄유형</th>\n",
       "      <th></th>\n",
       "    </tr>\n",
       "  </thead>\n",
       "  <tbody>\n",
       "    <tr>\n",
       "      <th>폭행</th>\n",
       "      <td>3590.0</td>\n",
       "    </tr>\n",
       "    <tr>\n",
       "      <th>사기</th>\n",
       "      <td>2650.0</td>\n",
       "    </tr>\n",
       "    <tr>\n",
       "      <th>절도</th>\n",
       "      <td>2060.0</td>\n",
       "    </tr>\n",
       "    <tr>\n",
       "      <th>상해</th>\n",
       "      <td>1424.0</td>\n",
       "    </tr>\n",
       "    <tr>\n",
       "      <th>교통사고처리특례법</th>\n",
       "      <td>1035.0</td>\n",
       "    </tr>\n",
       "  </tbody>\n",
       "</table>\n",
       "</div>"
      ],
      "text/plain": [
       "              18세\n",
       "범죄유형             \n",
       "폭행         3590.0\n",
       "사기         2650.0\n",
       "절도         2060.0\n",
       "상해         1424.0\n",
       "교통사고처리특례법  1035.0"
      ]
     },
     "execution_count": 36,
     "metadata": {},
     "output_type": "execute_result"
    }
   ],
   "source": [
    "# 내림차순 정렬\n",
    "age18_top5 = age18.sort_values('18세',ascending=False).head()\n",
    "age18_top5"
   ]
  },
  {
   "cell_type": "code",
   "execution_count": 37,
   "id": "6221e023",
   "metadata": {},
   "outputs": [
    {
     "data": {
      "text/html": [
       "<div>\n",
       "<style scoped>\n",
       "    .dataframe tbody tr th:only-of-type {\n",
       "        vertical-align: middle;\n",
       "    }\n",
       "\n",
       "    .dataframe tbody tr th {\n",
       "        vertical-align: top;\n",
       "    }\n",
       "\n",
       "    .dataframe thead th {\n",
       "        text-align: right;\n",
       "    }\n",
       "</style>\n",
       "<table border=\"1\" class=\"dataframe\">\n",
       "  <thead>\n",
       "    <tr style=\"text-align: right;\">\n",
       "      <th></th>\n",
       "      <th>18세</th>\n",
       "    </tr>\n",
       "    <tr>\n",
       "      <th>범죄유형</th>\n",
       "      <th></th>\n",
       "    </tr>\n",
       "  </thead>\n",
       "  <tbody>\n",
       "    <tr>\n",
       "      <th>폭행</th>\n",
       "      <td>3590.0</td>\n",
       "    </tr>\n",
       "    <tr>\n",
       "      <th>사기</th>\n",
       "      <td>2650.0</td>\n",
       "    </tr>\n",
       "    <tr>\n",
       "      <th>절도</th>\n",
       "      <td>2060.0</td>\n",
       "    </tr>\n",
       "    <tr>\n",
       "      <th>상해</th>\n",
       "      <td>1424.0</td>\n",
       "    </tr>\n",
       "    <tr>\n",
       "      <th>교통사고처리특례법</th>\n",
       "      <td>1035.0</td>\n",
       "    </tr>\n",
       "    <tr>\n",
       "      <th>기타</th>\n",
       "      <td>6819.0</td>\n",
       "    </tr>\n",
       "  </tbody>\n",
       "</table>\n",
       "</div>"
      ],
      "text/plain": [
       "              18세\n",
       "범죄유형             \n",
       "폭행         3590.0\n",
       "사기         2650.0\n",
       "절도         2060.0\n",
       "상해         1424.0\n",
       "교통사고처리특례법  1035.0\n",
       "기타         6819.0"
      ]
     },
     "execution_count": 37,
     "metadata": {},
     "output_type": "execute_result"
    }
   ],
   "source": [
    "sum18 = age18['18세'].sum()\n",
    "\n",
    "# '기타' 행 추가\n",
    "age18_top5.loc['기타'] = sum18 - age18_top5['18세'].sum()\n",
    "age18_top5"
   ]
  },
  {
   "cell_type": "code",
   "execution_count": 38,
   "id": "8a451e7f",
   "metadata": {},
   "outputs": [
    {
     "name": "stdout",
     "output_type": "stream",
     "text": [
      "[20.42325634315622, 15.075662760268518, 11.719194447604961, 8.101035385140516, 5.888041870519968, 38.79206376147982]\n"
     ]
    }
   ],
   "source": [
    "ratio18 = []\n",
    "\n",
    "for i in age18_top5['18세']:\n",
    "    ratio18.append(i/sum18*100)\n",
    "\n",
    "print(ratio18)"
   ]
  },
  {
   "cell_type": "code",
   "execution_count": 39,
   "id": "75be0800",
   "metadata": {},
   "outputs": [
    {
     "data": {
      "image/png": "[encoded data removed]",
      "text/plain": [
       "<Figure size 1008x576 with 1 Axes>"
      ]
     },
     "metadata": {},
     "output_type": "display_data"
    }
   ],
   "source": [
    "labels18 = age18_top5.index.tolist()\n",
    "\n",
    "explode = [0.05, 0.05, 0.05, 0.05, 0.05, 0.05]\n",
    "colors = ['#ff9999', '#ffc000', '#8fd9b6', '#d395d0', '#ADD8E6', '#D4DBE1'] # 다홍, 노랑, 민트, 연보라, 하늘색, 회색\n",
    "wedgeprops={'width': 0.7, 'edgecolor': 'w', 'linewidth': 5}\n",
    "\n",
    "\n",
    "plt.pie(ratio18, labels=labels18, autopct='%.1f%%', startangle=90, counterclock=False, explode=explode, colors=colors, wedgeprops=wedgeprops)\n",
    "plt.show()"
   ]
  },
  {
   "cell_type": "code",
   "execution_count": null,
   "id": "803c6423",
   "metadata": {},
   "outputs": [],
   "source": []
  }
 ],
 "metadata": {
  "kernelspec": {
   "display_name": "Python 3",
   "language": "python",
   "name": "python3"
  },
  "language_info": {
   "codemirror_mode": {
    "name": "ipython",
    "version": 3
   },
   "file_extension": ".py",
   "mimetype": "text/x-python",
   "name": "python",
   "nbconvert_exporter": "python",
   "pygments_lexer": "ipython3",
   "version": "3.8.8"
  }
 },
 "nbformat": 4,
 "nbformat_minor": 5
}