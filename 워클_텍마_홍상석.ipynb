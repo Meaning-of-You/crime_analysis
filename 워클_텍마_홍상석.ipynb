{
 "cells": [
  {
   "cell_type": "code",
   "execution_count": 1,
   "id": "30c2b385",
   "metadata": {},
   "outputs": [],
   "source": [
    "!pip install -U \"jpype1<1.1\""
   ]
  },
  {
   "cell_type": "code",
   "execution_count": 2,
   "id": "ff134ead",
   "metadata": {},
   "outputs": [],
   "source": [
    "!pip install konlpy\n",
    "!pip install wordcloud"
   ]
  },
  {
   "cell_type": "code",
   "execution_count": 48,
   "id": "d2a80aef",
   "metadata": {},
   "outputs": [
    {
     "ename": "ModuleNotFoundError",
     "evalue": "No module named 'wordcloud'",
     "output_type": "error",
     "traceback": [
      "\u001b[1;31m---------------------------------------------------------------------------\u001b[0m",
      "\u001b[1;31mModuleNotFoundError\u001b[0m                       Traceback (most recent call last)",
      "\u001b[1;32m<ipython-input-48-b2e35bada950>\u001b[0m in \u001b[0;36m<module>\u001b[1;34m\u001b[0m\n\u001b[0;32m      7\u001b[0m \u001b[1;32mfrom\u001b[0m \u001b[0mkonlpy\u001b[0m\u001b[1;33m.\u001b[0m\u001b[0mtag\u001b[0m \u001b[1;32mimport\u001b[0m \u001b[0mOkt\u001b[0m\u001b[1;33m\u001b[0m\u001b[1;33m\u001b[0m\u001b[0m\n\u001b[0;32m      8\u001b[0m \u001b[1;32mfrom\u001b[0m \u001b[0mcollections\u001b[0m \u001b[1;32mimport\u001b[0m \u001b[0mCounter\u001b[0m\u001b[1;33m\u001b[0m\u001b[1;33m\u001b[0m\u001b[0m\n\u001b[1;32m----> 9\u001b[1;33m \u001b[1;32mfrom\u001b[0m \u001b[0mwordcloud\u001b[0m \u001b[1;32mimport\u001b[0m \u001b[0mWordCloud\u001b[0m\u001b[1;33m\u001b[0m\u001b[1;33m\u001b[0m\u001b[0m\n\u001b[0m",
      "\u001b[1;31mModuleNotFoundError\u001b[0m: No module named 'wordcloud'"
     ]
    }
   ],
   "source": [
    "## 기본\n",
    "import numpy as np  # numpy 패키지 가져오기\n",
    "import pandas as pd # pandas 패키지 가져오기\n",
    "import matplotlib.pyplot as plt # 시각화 패키지 가져오기\n",
    "\n",
    "## 데이터 전처리\n",
    "from konlpy.tag import Okt\n",
    "from collections import Counter\n",
    "from wordcloud import WordCloud"
   ]
  },
  {
   "cell_type": "code",
   "execution_count": 30,
   "id": "73e607a5",
   "metadata": {},
   "outputs": [
    {
     "name": "stdout",
     "output_type": "stream",
     "text": [
      "Note: you may need to restart the kernel to use updated packages.\n"
     ]
    }
   ],
   "source": [
    "pip list"
   ]
  },
  {
   "cell_type": "code",
   "execution_count": 31,
   "id": "067469c3",
   "metadata": {},
   "outputs": [
    {
     "ename": "NameError",
     "evalue": "name 'mp' is not defined",
     "output_type": "error",
     "traceback": [
      "\u001b[1;31m---------------------------------------------------------------------------\u001b[0m",
      "\u001b[1;31mNameError\u001b[0m                                 Traceback (most recent call last)",
      "\u001b[1;32m<ipython-input-31-33f60fa68f0d>\u001b[0m in \u001b[0;36m<module>\u001b[1;34m\u001b[0m\n\u001b[1;32m----> 1\u001b[1;33m \u001b[0mfm\u001b[0m \u001b[1;33m=\u001b[0m \u001b[0mmp\u001b[0m\u001b[1;33m.\u001b[0m\u001b[0mfont_manager\u001b[0m\u001b[1;33m.\u001b[0m\u001b[0mFontManager\u001b[0m\u001b[1;33m(\u001b[0m\u001b[1;33m)\u001b[0m\u001b[1;33m\u001b[0m\u001b[1;33m\u001b[0m\u001b[0m\n\u001b[0m\u001b[0;32m      2\u001b[0m \u001b[0mplt\u001b[0m\u001b[1;33m.\u001b[0m\u001b[0mrcParams\u001b[0m\u001b[1;33m[\u001b[0m\u001b[1;34m\"font.family\"\u001b[0m\u001b[1;33m]\u001b[0m \u001b[1;33m=\u001b[0m \u001b[1;34m'Malgun Gothic'\u001b[0m\u001b[1;33m\u001b[0m\u001b[1;33m\u001b[0m\u001b[0m\n",
      "\u001b[1;31mNameError\u001b[0m: name 'mp' is not defined"
     ]
    }
   ],
   "source": [
    "fm = mp.font_manager.FontManager()\n",
    "plt.rcParams[\"font.family\"] = 'Malgun Gothic'"
   ]
  },
  {
   "cell_type": "code",
   "execution_count": 32,
   "id": "3d18c046",
   "metadata": {},
   "outputs": [],
   "source": [
    "pd.set_option('display.max_columns',100)"
   ]
  },
  {
   "cell_type": "code",
   "execution_count": 45,
   "id": "f78f01d5",
   "metadata": {},
   "outputs": [
    {
     "data": {
      "text/html": [
       "<div>\n",
       "<style scoped>\n",
       "    .dataframe tbody tr th:only-of-type {\n",
       "        vertical-align: middle;\n",
       "    }\n",
       "\n",
       "    .dataframe tbody tr th {\n",
       "        vertical-align: top;\n",
       "    }\n",
       "\n",
       "    .dataframe thead th {\n",
       "        text-align: right;\n",
       "    }\n",
       "</style>\n",
       "<table border=\"1\" class=\"dataframe\">\n",
       "  <thead>\n",
       "    <tr style=\"text-align: right;\">\n",
       "      <th></th>\n",
       "      <th>뉴스 식별자</th>\n",
       "      <th>일자</th>\n",
       "      <th>언론사</th>\n",
       "      <th>기고자</th>\n",
       "      <th>제목</th>\n",
       "      <th>통합 분류1</th>\n",
       "      <th>통합 분류2</th>\n",
       "      <th>통합 분류3</th>\n",
       "      <th>사건/사고 분류1</th>\n",
       "      <th>사건/사고 분류2</th>\n",
       "      <th>사건/사고 분류3</th>\n",
       "      <th>인물</th>\n",
       "      <th>위치</th>\n",
       "      <th>기관</th>\n",
       "      <th>키워드</th>\n",
       "      <th>특성추출(가중치순 상위 50개)</th>\n",
       "      <th>본문</th>\n",
       "      <th>URL</th>\n",
       "      <th>분석제외 여부</th>\n",
       "    </tr>\n",
       "  </thead>\n",
       "  <tbody>\n",
       "    <tr>\n",
       "      <th>0</th>\n",
       "      <td>1.100201e+06</td>\n",
       "      <td>20210709</td>\n",
       "      <td>국민일보</td>\n",
       "      <td>권남영</td>\n",
       "      <td>“어른 잘못도” 서당 폭행 선고에 언급된 ‘나의 아저씨’</td>\n",
       "      <td>사회&gt;사건_사고</td>\n",
       "      <td>문화&gt;방송_연예</td>\n",
       "      <td>문화&gt;출판</td>\n",
       "      <td>범죄&gt;범죄일반&gt;폭행</td>\n",
       "      <td>사회&gt;사회문제&gt;미성년범죄</td>\n",
       "      <td>NaN</td>\n",
       "      <td>이선균,정성호,아이유</td>\n",
       "      <td>창원지법,하동,경남</td>\n",
       "      <td>소년,검찰,tvN,B군,A군</td>\n",
       "      <td>어른,서당,폭행,선고,언급,아저씨,서당,경남,하동,엽기,폭행,선고,재판장,이례적,유...</td>\n",
       "      <td>창원지법,아이유,가해자,이선균,소년범,판결문,재판장,부장판사,소년부,가해자들,등장인...</td>\n",
       "      <td>경남 하동 서당에서 벌어진 ‘엽기 폭행’ 선고에서 재판장이 이례적으로 유명 드라마를...</td>\n",
       "      <td>http://news.kmib.co.kr/article/view.asp?arcid=...</td>\n",
       "      <td>NaN</td>\n",
       "    </tr>\n",
       "    <tr>\n",
       "      <th>1</th>\n",
       "      <td>1.100801e+06</td>\n",
       "      <td>20210708</td>\n",
       "      <td>조선일보</td>\n",
       "      <td>김준호 기자</td>\n",
       "      <td>“이선균 같은 어른은 적다” 서당 폭행 재판서 언급된 ‘나저씨’</td>\n",
       "      <td>사회&gt;사건_사고</td>\n",
       "      <td>문화&gt;출판</td>\n",
       "      <td>사회&gt;여성</td>\n",
       "      <td>범죄&gt;범죄일반&gt;폭행</td>\n",
       "      <td>사회&gt;사회문제&gt;미성년범죄</td>\n",
       "      <td>NaN</td>\n",
       "      <td>이선균,정,정성호,아이유</td>\n",
       "      <td>창원지법,청학동</td>\n",
       "      <td>창원지방법원,소년,형사1부,소년부,검찰,가정법원,진주지원,재판부,C군,tvN,여주인...</td>\n",
       "      <td>이선균,어른,서당,폭행,재판서,언급,나저씨,분위기,재판장,판사,드라마,아저씨,이야기...</td>\n",
       "      <td>소년부,피해자,소년범,재판부,아이유,가해자,재판장,소년법,이선균,진주지원,창원지방법...</td>\n",
       "      <td>엄숙한 분위기의 재판장에서 판사가 돌연 드라마 ‘나의 아저씨’ 이야기를 꺼냈다. “...</td>\n",
       "      <td>https://www.chosun.com/national/regional/yeong...</td>\n",
       "      <td>NaN</td>\n",
       "    </tr>\n",
       "    <tr>\n",
       "      <th>2</th>\n",
       "      <td>1.100611e+06</td>\n",
       "      <td>20210708</td>\n",
       "      <td>서울신문</td>\n",
       "      <td>이보희</td>\n",
       "      <td>“이선균 같은 어른 많지 않아” 서당 폭행 선고서 ‘나의 아저씨’ 언급</td>\n",
       "      <td>사회&gt;사건_사고</td>\n",
       "      <td>문화&gt;출판</td>\n",
       "      <td>문화&gt;방송_연예</td>\n",
       "      <td>범죄&gt;범죄일반&gt;폭행</td>\n",
       "      <td>사회&gt;사회문제&gt;미성년범죄</td>\n",
       "      <td>NaN</td>\n",
       "      <td>이선균,이지은,정성호,아이유</td>\n",
       "      <td>창원지법,청학동,하동,경남</td>\n",
       "      <td>소년,형사1부,소년부,검찰,가정법원,tvN,C군,A군</td>\n",
       "      <td>이선균,어른,선고서,서당,폭행,아저씨,언급,정성호,부장,판사,교화,기회,형사처벌,소...</td>\n",
       "      <td>소년부,아이유,이선균,창원지법,가해자,부장판사,정성호,소년범,형사처벌,하동,등장인물...</td>\n",
       "      <td>경남 하동 서당에서 벌어진 ‘엽기 폭행’ 선고에서 재판장이 이지은(아이유), 이선균...</td>\n",
       "      <td>http://www.seoul.co.kr/news/newsView.php?id=20...</td>\n",
       "      <td>NaN</td>\n",
       "    </tr>\n",
       "    <tr>\n",
       "      <th>3</th>\n",
       "      <td>2.100801e+06</td>\n",
       "      <td>20210708</td>\n",
       "      <td>아시아경제</td>\n",
       "      <td>최석진</td>\n",
       "      <td>법원, 청학동 서당 '엽기 폭행' 10대 2명 법정구속</td>\n",
       "      <td>사회&gt;사건_사고</td>\n",
       "      <td>사회&gt;여성</td>\n",
       "      <td>사회&gt;교육_시험</td>\n",
       "      <td>범죄&gt;범죄일반&gt;폭행</td>\n",
       "      <td>NaN</td>\n",
       "      <td>NaN</td>\n",
       "      <td>장은,정성호</td>\n",
       "      <td>창원지법,청학동,하동군</td>\n",
       "      <td>창원지방법원,소년부,검찰,형사1부(부장판사,진주지원,재판부,법원,검찰청,B군,A군</td>\n",
       "      <td>법원,청학동,서당,엽기,폭행,법정구속,법정,구속,청학동,서당,또래,학생,엽기,폭행,...</td>\n",
       "      <td>피해자,청학동,법정구속,a군,부정기형,재판부,10대,공소사실,진주지원,검찰청,소년법...</td>\n",
       "      <td>[아시아경제 최석진 법조전문기자] 청학동 서당에서 또래 학생에게 엽기 폭행을 저지른...</td>\n",
       "      <td>https://www.asiae.co.kr/article/20210708171656...</td>\n",
       "      <td>NaN</td>\n",
       "    </tr>\n",
       "    <tr>\n",
       "      <th>4</th>\n",
       "      <td>1.100701e+06</td>\n",
       "      <td>20210704</td>\n",
       "      <td>세계일보</td>\n",
       "      <td>강소영</td>\n",
       "      <td>“동거한 애인 보고 싶어 음악방송 때 움직였다” 신창원, 907일의 도주 뒷 이야기</td>\n",
       "      <td>문화&gt;방송_연예</td>\n",
       "      <td>사회&gt;사건_사고</td>\n",
       "      <td>문화&gt;학술_문화재</td>\n",
       "      <td>범죄&gt;범죄일반&gt;절도</td>\n",
       "      <td>NaN</td>\n",
       "      <td>NaN</td>\n",
       "      <td>신창원</td>\n",
       "      <td>서울,강동구,농원,천안,천호동,순천,전남</td>\n",
       "      <td>부산교도소,뉴시스,환기구 쇠창살</td>\n",
       "      <td>동거,애인,음악방송,신창원,907일,도주,이야기,도주,희대,탈옥수,신창원,뉴시스,희...</td>\n",
       "      <td>신창원,교도소,부산교도소,환기구,천호동,화장실,서울,강동구,음악방송,동거녀,순천,주...</td>\n",
       "      <td>희대의 탈옥수로 불리던 신창원. 뉴시스 \\n 희대의 탈옥수 신창원(사진)의 탈옥에 ...</td>\n",
       "      <td>http://www.segye.com/content/html/2021/07/04/2...</td>\n",
       "      <td>NaN</td>\n",
       "    </tr>\n",
       "    <tr>\n",
       "      <th>5</th>\n",
       "      <td>1.100611e+06</td>\n",
       "      <td>20210703</td>\n",
       "      <td>서울신문</td>\n",
       "      <td>김유민</td>\n",
       "      <td>907일간 도주 희대의 탈옥수 신창원 근황</td>\n",
       "      <td>지역&gt;강원</td>\n",
       "      <td>사회&gt;교육_시험</td>\n",
       "      <td>사회&gt;사건_사고</td>\n",
       "      <td>범죄&gt;범죄일반&gt;폭행</td>\n",
       "      <td>범죄&gt;범죄일반&gt;절도</td>\n",
       "      <td>범죄&gt;범죄일반&gt;살인</td>\n",
       "      <td>신창원</td>\n",
       "      <td>서울,천안,천호동,순천,전남</td>\n",
       "      <td>일화,소년,부산교도소,경찰서</td>\n",
       "      <td>907일,도주,희대,근황,탈옥수,신창원,소년범,상담,공부,본인,공개,부산교도소,재소...</td>\n",
       "      <td>신창원,교도소,부산교도소,선생님,천호동,3개월,환기구,가스관,막말,소년범,전남,수용...</td>\n",
       "      <td>1997년 1월 20일 무려 907일 만에 검거된 희대의 탈옥수 신창원의 뒷이야기가...</td>\n",
       "      <td>http://www.seoul.co.kr/news/newsView.php?id=20...</td>\n",
       "      <td>NaN</td>\n",
       "    </tr>\n",
       "    <tr>\n",
       "      <th>6</th>\n",
       "      <td>2.100801e+06</td>\n",
       "      <td>20210622</td>\n",
       "      <td>아시아경제</td>\n",
       "      <td>박현주</td>\n",
       "      <td>\"나 촉법이야 ㅋㅋ\" 성폭행 절도에도 당당한 '촉법소년'</td>\n",
       "      <td>사회&gt;여성</td>\n",
       "      <td>사회&gt;교육_시험</td>\n",
       "      <td>NaN</td>\n",
       "      <td>범죄&gt;성범죄&gt;성폭행</td>\n",
       "      <td>범죄&gt;성범죄&gt;음란물</td>\n",
       "      <td>범죄&gt;범죄일반&gt;절도</td>\n",
       "      <td>김,오윤성,여중생,B군</td>\n",
       "      <td>경북,상해</td>\n",
       "      <td>대검찰청,민청원,경찰행정학,교육부,순천향대,포항시,B군,A군,유엔 아동보호협약,인권...</td>\n",
       "      <td>촉법,ㅋㅋ,성폭행,절도,촉법소년,잔혹,범죄,법망,소년범,시민,분통,촉법소년법,방패,...</td>\n",
       "      <td>촉법소년,촉법,피해자,소년범,소년법,법무부,촉법소년법,전문가,성폭행,미성년자,잔혹,...</td>\n",
       "      <td>[아시아경제 박현주 기자] \"나 촉법인데 왜 소년원에 가야 하냐.\" \\n \\n잔혹한...</td>\n",
       "      <td>https://www.asiae.co.kr/article/20210618110702...</td>\n",
       "      <td>NaN</td>\n",
       "    </tr>\n",
       "    <tr>\n",
       "      <th>7</th>\n",
       "      <td>1.100701e+06</td>\n",
       "      <td>20210618</td>\n",
       "      <td>세계일보</td>\n",
       "      <td>김현주</td>\n",
       "      <td>친구 자위행위 강요한 뒤 촬영해 유포 협박 17세 여고생 항소심도 실형</td>\n",
       "      <td>사회&gt;사건_사고</td>\n",
       "      <td>사회&gt;여성</td>\n",
       "      <td>사회&gt;미디어</td>\n",
       "      <td>범죄&gt;범죄일반&gt;폭행</td>\n",
       "      <td>범죄&gt;범죄일반&gt;유괴/납치</td>\n",
       "      <td>NaN</td>\n",
       "      <td>이재희</td>\n",
       "      <td>NaN</td>\n",
       "      <td>A양,서울가정법원,서울,소년부,서울고법,재판부,형사10부</td>\n",
       "      <td>강요,친구,자위,행위,촬영,유포,협박,17세,여고,항소심,실형,친구,자위행위,강요,...</td>\n",
       "      <td>a양,피해자,항소심,c양,자위행위,1심,소년부,서울,서울고법,이재희,성폭력,일상생활...</td>\n",
       "      <td>같은 10대 친구에게 자위행위를 강요해 촬영하고 신고하면 영상을 유포하겠다고 협박한...</td>\n",
       "      <td>http://www.segye.com/content/html/2021/06/17/2...</td>\n",
       "      <td>NaN</td>\n",
       "    </tr>\n",
       "    <tr>\n",
       "      <th>8</th>\n",
       "      <td>1.500501e+06</td>\n",
       "      <td>20210614</td>\n",
       "      <td>대구일보</td>\n",
       "      <td>이혜림</td>\n",
       "      <td>김병욱, “강력범죄에도 형사처벌 못하는 촉법소년 연령 범위 낮추고 처벌 강화법 발의”</td>\n",
       "      <td>정치&gt;행정_자치</td>\n",
       "      <td>사회&gt;여성</td>\n",
       "      <td>NaN</td>\n",
       "      <td>범죄&gt;범죄일반&gt;폭행</td>\n",
       "      <td>범죄&gt;범죄일반&gt;살인</td>\n",
       "      <td>사회&gt;사회문제&gt;미성년범죄</td>\n",
       "      <td>김병욱,여중생</td>\n",
       "      <td>포항남,하도,부산,포항,인천</td>\n",
       "      <td>경찰청,리얼미터,국민의힘</td>\n",
       "      <td>김병욱,범죄,형사처벌,범위,촉법,소년,연령,발의,처벌,강화법,국민,김병욱,의원,포항...</td>\n",
       "      <td>촉법소년,촉법,리얼미터,개정안,소년법,포항,부산,인천,청소년들,김병욱,강화법,특정강...</td>\n",
       "      <td>국민의힘 김병욱 의원(포항남 울릉)이 촉법소년 나이 상한을 낮추는 ‘소년법’과 ‘형...</td>\n",
       "      <td>http://www.idaegu.com/newsView/idg202106140018</td>\n",
       "      <td>NaN</td>\n",
       "    </tr>\n",
       "    <tr>\n",
       "      <th>9</th>\n",
       "      <td>1.100611e+06</td>\n",
       "      <td>20210610</td>\n",
       "      <td>서울신문</td>\n",
       "      <td>하종훈</td>\n",
       "      <td>한 소녀 앞에 ‘엄마 죽인 그놈’이 나타났다</td>\n",
       "      <td>문화&gt;영화</td>\n",
       "      <td>문화&gt;방송_연예</td>\n",
       "      <td>문화&gt;출판</td>\n",
       "      <td>범죄&gt;범죄일반&gt;폭행</td>\n",
       "      <td>범죄&gt;범죄일반&gt;살인</td>\n",
       "      <td>사회&gt;사회문제&gt;미성년범죄</td>\n",
       "      <td>저우쑨</td>\n",
       "      <td>상하이국제영화제,중국,의정부,당하</td>\n",
       "      <td>NaN</td>\n",
       "      <td>소녀,엄마,영화,프리뷰,여름,의정부,경전철,노인,폭행,중학생,촉법,소년,범법행위,미...</td>\n",
       "      <td>자허,레이,미성년자,영화제,피해자,중국,감독상,여우주연상,촉법소년,친구들,의정부,경...</td>\n",
       "      <td>올해 초 의정부 경전철에서 노인을 폭행한 중학생들이 만 13세 ‘촉법소년’(범법행위...</td>\n",
       "      <td>http://www.seoul.co.kr/news/newsView.php?id=20...</td>\n",
       "      <td>NaN</td>\n",
       "    </tr>\n",
       "  </tbody>\n",
       "</table>\n",
       "</div>"
      ],
      "text/plain": [
       "         뉴스 식별자        일자    언론사     기고자  \\\n",
       "0  1.100201e+06  20210709   국민일보     권남영   \n",
       "1  1.100801e+06  20210708   조선일보  김준호 기자   \n",
       "2  1.100611e+06  20210708   서울신문     이보희   \n",
       "3  2.100801e+06  20210708  아시아경제     최석진   \n",
       "4  1.100701e+06  20210704   세계일보     강소영   \n",
       "5  1.100611e+06  20210703   서울신문     김유민   \n",
       "6  2.100801e+06  20210622  아시아경제     박현주   \n",
       "7  1.100701e+06  20210618   세계일보     김현주   \n",
       "8  1.500501e+06  20210614   대구일보     이혜림   \n",
       "9  1.100611e+06  20210610   서울신문     하종훈   \n",
       "\n",
       "                                                제목    통합 분류1     통합 분류2  \\\n",
       "0                  “어른 잘못도” 서당 폭행 선고에 언급된 ‘나의 아저씨’  사회>사건_사고   문화>방송_연예   \n",
       "1              “이선균 같은 어른은 적다” 서당 폭행 재판서 언급된 ‘나저씨’  사회>사건_사고      문화>출판   \n",
       "2          “이선균 같은 어른 많지 않아” 서당 폭행 선고서 ‘나의 아저씨’ 언급  사회>사건_사고      문화>출판   \n",
       "3                   법원, 청학동 서당 '엽기 폭행' 10대 2명 법정구속  사회>사건_사고      사회>여성   \n",
       "4   “동거한 애인 보고 싶어 음악방송 때 움직였다” 신창원, 907일의 도주 뒷 이야기  문화>방송_연예   사회>사건_사고   \n",
       "5                          907일간 도주 희대의 탈옥수 신창원 근황     지역>강원   사회>교육_시험   \n",
       "6                  \"나 촉법이야 ㅋㅋ\" 성폭행 절도에도 당당한 '촉법소년'     사회>여성   사회>교육_시험   \n",
       "7          친구 자위행위 강요한 뒤 촬영해 유포 협박 17세 여고생 항소심도 실형  사회>사건_사고      사회>여성   \n",
       "8  김병욱, “강력범죄에도 형사처벌 못하는 촉법소년 연령 범위 낮추고 처벌 강화법 발의”  정치>행정_자치      사회>여성   \n",
       "9                         한 소녀 앞에 ‘엄마 죽인 그놈’이 나타났다     문화>영화   문화>방송_연예   \n",
       "\n",
       "       통합 분류3   사건/사고 분류1       사건/사고 분류2       사건/사고 분류3               인물  \\\n",
       "0       문화>출판  범죄>범죄일반>폭행   사회>사회문제>미성년범죄             NaN      이선균,정성호,아이유   \n",
       "1       사회>여성  범죄>범죄일반>폭행   사회>사회문제>미성년범죄             NaN    이선균,정,정성호,아이유   \n",
       "2    문화>방송_연예  범죄>범죄일반>폭행   사회>사회문제>미성년범죄             NaN  이선균,이지은,정성호,아이유   \n",
       "3    사회>교육_시험  범죄>범죄일반>폭행             NaN             NaN           장은,정성호   \n",
       "4   문화>학술_문화재  범죄>범죄일반>절도             NaN             NaN              신창원   \n",
       "5    사회>사건_사고  범죄>범죄일반>폭행      범죄>범죄일반>절도      범죄>범죄일반>살인              신창원   \n",
       "6         NaN  범죄>성범죄>성폭행      범죄>성범죄>음란물      범죄>범죄일반>절도     김,오윤성,여중생,B군   \n",
       "7      사회>미디어  범죄>범죄일반>폭행   범죄>범죄일반>유괴/납치             NaN              이재희   \n",
       "8         NaN  범죄>범죄일반>폭행      범죄>범죄일반>살인   사회>사회문제>미성년범죄          김병욱,여중생   \n",
       "9       문화>출판  범죄>범죄일반>폭행      범죄>범죄일반>살인   사회>사회문제>미성년범죄              저우쑨   \n",
       "\n",
       "                       위치                                                 기관  \\\n",
       "0              창원지법,하동,경남                                    소년,검찰,tvN,B군,A군   \n",
       "1                창원지법,청학동  창원지방법원,소년,형사1부,소년부,검찰,가정법원,진주지원,재판부,C군,tvN,여주인...   \n",
       "2          창원지법,청학동,하동,경남                      소년,형사1부,소년부,검찰,가정법원,tvN,C군,A군   \n",
       "3            창원지법,청학동,하동군      창원지방법원,소년부,검찰,형사1부(부장판사,진주지원,재판부,법원,검찰청,B군,A군   \n",
       "4  서울,강동구,농원,천안,천호동,순천,전남                                  부산교도소,뉴시스,환기구 쇠창살   \n",
       "5         서울,천안,천호동,순천,전남                                    일화,소년,부산교도소,경찰서   \n",
       "6                   경북,상해  대검찰청,민청원,경찰행정학,교육부,순천향대,포항시,B군,A군,유엔 아동보호협약,인권...   \n",
       "7                     NaN                    A양,서울가정법원,서울,소년부,서울고법,재판부,형사10부   \n",
       "8         포항남,하도,부산,포항,인천                                      경찰청,리얼미터,국민의힘   \n",
       "9      상하이국제영화제,중국,의정부,당하                                                NaN   \n",
       "\n",
       "                                                 키워드  \\\n",
       "0  어른,서당,폭행,선고,언급,아저씨,서당,경남,하동,엽기,폭행,선고,재판장,이례적,유...   \n",
       "1  이선균,어른,서당,폭행,재판서,언급,나저씨,분위기,재판장,판사,드라마,아저씨,이야기...   \n",
       "2  이선균,어른,선고서,서당,폭행,아저씨,언급,정성호,부장,판사,교화,기회,형사처벌,소...   \n",
       "3  법원,청학동,서당,엽기,폭행,법정구속,법정,구속,청학동,서당,또래,학생,엽기,폭행,...   \n",
       "4  동거,애인,음악방송,신창원,907일,도주,이야기,도주,희대,탈옥수,신창원,뉴시스,희...   \n",
       "5  907일,도주,희대,근황,탈옥수,신창원,소년범,상담,공부,본인,공개,부산교도소,재소...   \n",
       "6  촉법,ㅋㅋ,성폭행,절도,촉법소년,잔혹,범죄,법망,소년범,시민,분통,촉법소년법,방패,...   \n",
       "7  강요,친구,자위,행위,촬영,유포,협박,17세,여고,항소심,실형,친구,자위행위,강요,...   \n",
       "8  김병욱,범죄,형사처벌,범위,촉법,소년,연령,발의,처벌,강화법,국민,김병욱,의원,포항...   \n",
       "9  소녀,엄마,영화,프리뷰,여름,의정부,경전철,노인,폭행,중학생,촉법,소년,범법행위,미...   \n",
       "\n",
       "                                   특성추출(가중치순 상위 50개)  \\\n",
       "0  창원지법,아이유,가해자,이선균,소년범,판결문,재판장,부장판사,소년부,가해자들,등장인...   \n",
       "1  소년부,피해자,소년범,재판부,아이유,가해자,재판장,소년법,이선균,진주지원,창원지방법...   \n",
       "2  소년부,아이유,이선균,창원지법,가해자,부장판사,정성호,소년범,형사처벌,하동,등장인물...   \n",
       "3  피해자,청학동,법정구속,a군,부정기형,재판부,10대,공소사실,진주지원,검찰청,소년법...   \n",
       "4  신창원,교도소,부산교도소,환기구,천호동,화장실,서울,강동구,음악방송,동거녀,순천,주...   \n",
       "5  신창원,교도소,부산교도소,선생님,천호동,3개월,환기구,가스관,막말,소년범,전남,수용...   \n",
       "6  촉법소년,촉법,피해자,소년범,소년법,법무부,촉법소년법,전문가,성폭행,미성년자,잔혹,...   \n",
       "7  a양,피해자,항소심,c양,자위행위,1심,소년부,서울,서울고법,이재희,성폭력,일상생활...   \n",
       "8  촉법소년,촉법,리얼미터,개정안,소년법,포항,부산,인천,청소년들,김병욱,강화법,특정강...   \n",
       "9  자허,레이,미성년자,영화제,피해자,중국,감독상,여우주연상,촉법소년,친구들,의정부,경...   \n",
       "\n",
       "                                                  본문  \\\n",
       "0  경남 하동 서당에서 벌어진 ‘엽기 폭행’ 선고에서 재판장이 이례적으로 유명 드라마를...   \n",
       "1  엄숙한 분위기의 재판장에서 판사가 돌연 드라마 ‘나의 아저씨’ 이야기를 꺼냈다. “...   \n",
       "2  경남 하동 서당에서 벌어진 ‘엽기 폭행’ 선고에서 재판장이 이지은(아이유), 이선균...   \n",
       "3  [아시아경제 최석진 법조전문기자] 청학동 서당에서 또래 학생에게 엽기 폭행을 저지른...   \n",
       "4  희대의 탈옥수로 불리던 신창원. 뉴시스 \\n 희대의 탈옥수 신창원(사진)의 탈옥에 ...   \n",
       "5  1997년 1월 20일 무려 907일 만에 검거된 희대의 탈옥수 신창원의 뒷이야기가...   \n",
       "6  [아시아경제 박현주 기자] \"나 촉법인데 왜 소년원에 가야 하냐.\" \\n \\n잔혹한...   \n",
       "7  같은 10대 친구에게 자위행위를 강요해 촬영하고 신고하면 영상을 유포하겠다고 협박한...   \n",
       "8  국민의힘 김병욱 의원(포항남 울릉)이 촉법소년 나이 상한을 낮추는 ‘소년법’과 ‘형...   \n",
       "9  올해 초 의정부 경전철에서 노인을 폭행한 중학생들이 만 13세 ‘촉법소년’(범법행위...   \n",
       "\n",
       "                                                 URL 분석제외 여부  \n",
       "0  http://news.kmib.co.kr/article/view.asp?arcid=...     NaN  \n",
       "1  https://www.chosun.com/national/regional/yeong...     NaN  \n",
       "2  http://www.seoul.co.kr/news/newsView.php?id=20...     NaN  \n",
       "3  https://www.asiae.co.kr/article/20210708171656...     NaN  \n",
       "4  http://www.segye.com/content/html/2021/07/04/2...     NaN  \n",
       "5  http://www.seoul.co.kr/news/newsView.php?id=20...     NaN  \n",
       "6  https://www.asiae.co.kr/article/20210618110702...     NaN  \n",
       "7  http://www.segye.com/content/html/2021/06/17/2...     NaN  \n",
       "8     http://www.idaegu.com/newsView/idg202106140018     NaN  \n",
       "9  http://www.seoul.co.kr/news/newsView.php?id=20...     NaN  "
      ]
     },
     "execution_count": 45,
     "metadata": {},
     "output_type": "execute_result"
    }
   ],
   "source": [
    "df = pd.read_csv('E:/VSC/Criminal_data/NewsResult_20110715-20210716.csv',  thousands = ',')\n",
    "df.head(10)"
   ]
  },
  {
   "cell_type": "code",
   "execution_count": 34,
   "id": "420cf2d1",
   "metadata": {},
   "outputs": [
    {
     "data": {
      "text/plain": [
       "(2083, 19)"
      ]
     },
     "execution_count": 34,
     "metadata": {},
     "output_type": "execute_result"
    }
   ],
   "source": [
    "df.shape"
   ]
  },
  {
   "cell_type": "code",
   "execution_count": 35,
   "id": "9642e2e9",
   "metadata": {},
   "outputs": [
    {
     "name": "stdout",
     "output_type": "stream",
     "text": [
      "<class 'pandas.core.frame.DataFrame'>\n",
      "RangeIndex: 2083 entries, 0 to 2082\n",
      "Data columns (total 19 columns):\n",
      " #   Column             Non-Null Count  Dtype  \n",
      "---  ------             --------------  -----  \n",
      " 0   뉴스 식별자             2083 non-null   float64\n",
      " 1   일자                 2083 non-null   int64  \n",
      " 2   언론사                2083 non-null   object \n",
      " 3   기고자                1720 non-null   object \n",
      " 4   제목                 2083 non-null   object \n",
      " 5   통합 분류1             2083 non-null   object \n",
      " 6   통합 분류2             1775 non-null   object \n",
      " 7   통합 분류3             1255 non-null   object \n",
      " 8   사건/사고 분류1          2083 non-null   object \n",
      " 9   사건/사고 분류2          1547 non-null   object \n",
      " 10  사건/사고 분류3          855 non-null    object \n",
      " 11  인물                 1627 non-null   object \n",
      " 12  위치                 1799 non-null   object \n",
      " 13  기관                 2070 non-null   object \n",
      " 14  키워드                2083 non-null   object \n",
      " 15  특성추출(가중치순 상위 50개)  2083 non-null   object \n",
      " 16  본문                 2083 non-null   object \n",
      " 17  URL                1738 non-null   object \n",
      " 18  분석제외 여부            81 non-null     object \n",
      "dtypes: float64(1), int64(1), object(17)\n",
      "memory usage: 309.3+ KB\n"
     ]
    }
   ],
   "source": [
    "df.info()"
   ]
  },
  {
   "cell_type": "code",
   "execution_count": 36,
   "id": "19d87467",
   "metadata": {},
   "outputs": [
    {
     "ename": "SystemError",
     "evalue": "java.lang.UnsatisfiedLinkError: Native Library C:\\Users\\HSS\\anaconda3\\Lib\\site-packages\\_jpype.cp38-win_amd64.pyd already loaded in another classloader",
     "output_type": "error",
     "traceback": [
      "\u001b[1;31m---------------------------------------------------------------------------\u001b[0m",
      "\u001b[1;31mSystemError\u001b[0m                               Traceback (most recent call last)",
      "\u001b[1;32m<ipython-input-36-26f36f7b3971>\u001b[0m in \u001b[0;36m<module>\u001b[1;34m\u001b[0m\n\u001b[0;32m      1\u001b[0m \u001b[1;32mfrom\u001b[0m \u001b[0mkonlpy\u001b[0m\u001b[1;33m.\u001b[0m\u001b[0mtag\u001b[0m \u001b[1;32mimport\u001b[0m \u001b[0mOkt\u001b[0m\u001b[1;33m\u001b[0m\u001b[1;33m\u001b[0m\u001b[0m\n\u001b[1;32m----> 2\u001b[1;33m \u001b[0mtwitter\u001b[0m \u001b[1;33m=\u001b[0m \u001b[0mOkt\u001b[0m\u001b[1;33m(\u001b[0m\u001b[1;33m)\u001b[0m\u001b[1;33m\u001b[0m\u001b[1;33m\u001b[0m\u001b[0m\n\u001b[0m",
      "\u001b[1;32m~\\anaconda3\\lib\\site-packages\\konlpy\\tag\\_okt.py\u001b[0m in \u001b[0;36m__init__\u001b[1;34m(self, jvmpath, max_heap_size)\u001b[0m\n\u001b[0;32m     89\u001b[0m     \u001b[1;32mdef\u001b[0m \u001b[0m__init__\u001b[0m\u001b[1;33m(\u001b[0m\u001b[0mself\u001b[0m\u001b[1;33m,\u001b[0m \u001b[0mjvmpath\u001b[0m\u001b[1;33m=\u001b[0m\u001b[1;32mNone\u001b[0m\u001b[1;33m,\u001b[0m \u001b[0mmax_heap_size\u001b[0m\u001b[1;33m=\u001b[0m\u001b[1;36m1024\u001b[0m\u001b[1;33m)\u001b[0m\u001b[1;33m:\u001b[0m\u001b[1;33m\u001b[0m\u001b[1;33m\u001b[0m\u001b[0m\n\u001b[0;32m     90\u001b[0m         \u001b[1;32mif\u001b[0m \u001b[1;32mnot\u001b[0m \u001b[0mjpype\u001b[0m\u001b[1;33m.\u001b[0m\u001b[0misJVMStarted\u001b[0m\u001b[1;33m(\u001b[0m\u001b[1;33m)\u001b[0m\u001b[1;33m:\u001b[0m\u001b[1;33m\u001b[0m\u001b[1;33m\u001b[0m\u001b[0m\n\u001b[1;32m---> 91\u001b[1;33m             \u001b[0mjvm\u001b[0m\u001b[1;33m.\u001b[0m\u001b[0minit_jvm\u001b[0m\u001b[1;33m(\u001b[0m\u001b[0mjvmpath\u001b[0m\u001b[1;33m,\u001b[0m \u001b[0mmax_heap_size\u001b[0m\u001b[1;33m)\u001b[0m\u001b[1;33m\u001b[0m\u001b[1;33m\u001b[0m\u001b[0m\n\u001b[0m\u001b[0;32m     92\u001b[0m \u001b[1;33m\u001b[0m\u001b[0m\n\u001b[0;32m     93\u001b[0m         \u001b[0moktJavaPackage\u001b[0m \u001b[1;33m=\u001b[0m \u001b[0mjpype\u001b[0m\u001b[1;33m.\u001b[0m\u001b[0mJPackage\u001b[0m\u001b[1;33m(\u001b[0m\u001b[1;34m'kr.lucypark.okt'\u001b[0m\u001b[1;33m)\u001b[0m\u001b[1;33m\u001b[0m\u001b[1;33m\u001b[0m\u001b[0m\n",
      "\u001b[1;32m~\\anaconda3\\lib\\site-packages\\konlpy\\jvm.py\u001b[0m in \u001b[0;36minit_jvm\u001b[1;34m(jvmpath, max_heap_size)\u001b[0m\n\u001b[0;32m     62\u001b[0m \u001b[1;33m\u001b[0m\u001b[0m\n\u001b[0;32m     63\u001b[0m     \u001b[1;32mif\u001b[0m \u001b[0mjvmpath\u001b[0m\u001b[1;33m:\u001b[0m\u001b[1;33m\u001b[0m\u001b[1;33m\u001b[0m\u001b[0m\n\u001b[1;32m---> 64\u001b[1;33m         jpype.startJVM(jvmpath, '-Djava.class.path=%s' % classpath,\n\u001b[0m\u001b[0;32m     65\u001b[0m                                 \u001b[1;34m'-Dfile.encoding=UTF8'\u001b[0m\u001b[1;33m,\u001b[0m\u001b[1;33m\u001b[0m\u001b[1;33m\u001b[0m\u001b[0m\n\u001b[0;32m     66\u001b[0m                                 \u001b[1;34m'-ea'\u001b[0m\u001b[1;33m,\u001b[0m \u001b[1;34m'-Xmx{}m'\u001b[0m\u001b[1;33m.\u001b[0m\u001b[0mformat\u001b[0m\u001b[1;33m(\u001b[0m\u001b[0mmax_heap_size\u001b[0m\u001b[1;33m)\u001b[0m\u001b[1;33m,\u001b[0m\u001b[1;33m\u001b[0m\u001b[1;33m\u001b[0m\u001b[0m\n",
      "\u001b[1;32m~\\anaconda3\\lib\\site-packages\\jpype\\_core.py\u001b[0m in \u001b[0;36mstartJVM\u001b[1;34m(*args, **kwargs)\u001b[0m\n\u001b[0;32m    224\u001b[0m \u001b[1;33m\u001b[0m\u001b[0m\n\u001b[0;32m    225\u001b[0m     \u001b[1;32mtry\u001b[0m\u001b[1;33m:\u001b[0m\u001b[1;33m\u001b[0m\u001b[1;33m\u001b[0m\u001b[0m\n\u001b[1;32m--> 226\u001b[1;33m         _jpype.startup(jvmpath, tuple(args),\n\u001b[0m\u001b[0;32m    227\u001b[0m                        ignoreUnrecognized, convertStrings, interrupt)\n\u001b[0;32m    228\u001b[0m         \u001b[0minitializeResources\u001b[0m\u001b[1;33m(\u001b[0m\u001b[1;33m)\u001b[0m\u001b[1;33m\u001b[0m\u001b[1;33m\u001b[0m\u001b[0m\n",
      "\u001b[1;31mSystemError\u001b[0m: java.lang.UnsatisfiedLinkError: Native Library C:\\Users\\HSS\\anaconda3\\Lib\\site-packages\\_jpype.cp38-win_amd64.pyd already loaded in another classloader"
     ]
    }
   ],
   "source": [
    "from konlpy.tag import Okt\n",
    "twitter = Okt()"
   ]
  },
  {
   "cell_type": "code",
   "execution_count": 37,
   "id": "c8fb3e95",
   "metadata": {},
   "outputs": [
    {
     "ename": "KeyError",
     "evalue": "'text'",
     "output_type": "error",
     "traceback": [
      "\u001b[1;31m---------------------------------------------------------------------------\u001b[0m",
      "\u001b[1;31mKeyError\u001b[0m                                  Traceback (most recent call last)",
      "\u001b[1;32m~\\anaconda3\\lib\\site-packages\\pandas\\core\\indexes\\base.py\u001b[0m in \u001b[0;36mget_loc\u001b[1;34m(self, key, method, tolerance)\u001b[0m\n\u001b[0;32m   3079\u001b[0m             \u001b[1;32mtry\u001b[0m\u001b[1;33m:\u001b[0m\u001b[1;33m\u001b[0m\u001b[1;33m\u001b[0m\u001b[0m\n\u001b[1;32m-> 3080\u001b[1;33m                 \u001b[1;32mreturn\u001b[0m \u001b[0mself\u001b[0m\u001b[1;33m.\u001b[0m\u001b[0m_engine\u001b[0m\u001b[1;33m.\u001b[0m\u001b[0mget_loc\u001b[0m\u001b[1;33m(\u001b[0m\u001b[0mcasted_key\u001b[0m\u001b[1;33m)\u001b[0m\u001b[1;33m\u001b[0m\u001b[1;33m\u001b[0m\u001b[0m\n\u001b[0m\u001b[0;32m   3081\u001b[0m             \u001b[1;32mexcept\u001b[0m \u001b[0mKeyError\u001b[0m \u001b[1;32mas\u001b[0m \u001b[0merr\u001b[0m\u001b[1;33m:\u001b[0m\u001b[1;33m\u001b[0m\u001b[1;33m\u001b[0m\u001b[0m\n",
      "\u001b[1;32mpandas\\_libs\\index.pyx\u001b[0m in \u001b[0;36mpandas._libs.index.IndexEngine.get_loc\u001b[1;34m()\u001b[0m\n",
      "\u001b[1;32mpandas\\_libs\\index.pyx\u001b[0m in \u001b[0;36mpandas._libs.index.IndexEngine.get_loc\u001b[1;34m()\u001b[0m\n",
      "\u001b[1;32mpandas\\_libs\\hashtable_class_helper.pxi\u001b[0m in \u001b[0;36mpandas._libs.hashtable.PyObjectHashTable.get_item\u001b[1;34m()\u001b[0m\n",
      "\u001b[1;32mpandas\\_libs\\hashtable_class_helper.pxi\u001b[0m in \u001b[0;36mpandas._libs.hashtable.PyObjectHashTable.get_item\u001b[1;34m()\u001b[0m\n",
      "\u001b[1;31mKeyError\u001b[0m: 'text'",
      "\nThe above exception was the direct cause of the following exception:\n",
      "\u001b[1;31mKeyError\u001b[0m                                  Traceback (most recent call last)",
      "\u001b[1;32m<ipython-input-37-a28b6bbd678b>\u001b[0m in \u001b[0;36m<module>\u001b[1;34m\u001b[0m\n\u001b[0;32m      1\u001b[0m \u001b[0mword_list\u001b[0m \u001b[1;33m=\u001b[0m \u001b[1;33m[\u001b[0m\u001b[1;33m]\u001b[0m\u001b[1;33m\u001b[0m\u001b[1;33m\u001b[0m\u001b[0m\n\u001b[1;32m----> 2\u001b[1;33m \u001b[0mword_list\u001b[0m \u001b[1;33m=\u001b[0m\u001b[0mdf\u001b[0m\u001b[1;33m[\u001b[0m\u001b[1;34m'text'\u001b[0m\u001b[1;33m]\u001b[0m\u001b[1;33m\u001b[0m\u001b[1;33m\u001b[0m\u001b[0m\n\u001b[0m",
      "\u001b[1;32m~\\anaconda3\\lib\\site-packages\\pandas\\core\\frame.py\u001b[0m in \u001b[0;36m__getitem__\u001b[1;34m(self, key)\u001b[0m\n\u001b[0;32m   3022\u001b[0m             \u001b[1;32mif\u001b[0m \u001b[0mself\u001b[0m\u001b[1;33m.\u001b[0m\u001b[0mcolumns\u001b[0m\u001b[1;33m.\u001b[0m\u001b[0mnlevels\u001b[0m \u001b[1;33m>\u001b[0m \u001b[1;36m1\u001b[0m\u001b[1;33m:\u001b[0m\u001b[1;33m\u001b[0m\u001b[1;33m\u001b[0m\u001b[0m\n\u001b[0;32m   3023\u001b[0m                 \u001b[1;32mreturn\u001b[0m \u001b[0mself\u001b[0m\u001b[1;33m.\u001b[0m\u001b[0m_getitem_multilevel\u001b[0m\u001b[1;33m(\u001b[0m\u001b[0mkey\u001b[0m\u001b[1;33m)\u001b[0m\u001b[1;33m\u001b[0m\u001b[1;33m\u001b[0m\u001b[0m\n\u001b[1;32m-> 3024\u001b[1;33m             \u001b[0mindexer\u001b[0m \u001b[1;33m=\u001b[0m \u001b[0mself\u001b[0m\u001b[1;33m.\u001b[0m\u001b[0mcolumns\u001b[0m\u001b[1;33m.\u001b[0m\u001b[0mget_loc\u001b[0m\u001b[1;33m(\u001b[0m\u001b[0mkey\u001b[0m\u001b[1;33m)\u001b[0m\u001b[1;33m\u001b[0m\u001b[1;33m\u001b[0m\u001b[0m\n\u001b[0m\u001b[0;32m   3025\u001b[0m             \u001b[1;32mif\u001b[0m \u001b[0mis_integer\u001b[0m\u001b[1;33m(\u001b[0m\u001b[0mindexer\u001b[0m\u001b[1;33m)\u001b[0m\u001b[1;33m:\u001b[0m\u001b[1;33m\u001b[0m\u001b[1;33m\u001b[0m\u001b[0m\n\u001b[0;32m   3026\u001b[0m                 \u001b[0mindexer\u001b[0m \u001b[1;33m=\u001b[0m \u001b[1;33m[\u001b[0m\u001b[0mindexer\u001b[0m\u001b[1;33m]\u001b[0m\u001b[1;33m\u001b[0m\u001b[1;33m\u001b[0m\u001b[0m\n",
      "\u001b[1;32m~\\anaconda3\\lib\\site-packages\\pandas\\core\\indexes\\base.py\u001b[0m in \u001b[0;36mget_loc\u001b[1;34m(self, key, method, tolerance)\u001b[0m\n\u001b[0;32m   3080\u001b[0m                 \u001b[1;32mreturn\u001b[0m \u001b[0mself\u001b[0m\u001b[1;33m.\u001b[0m\u001b[0m_engine\u001b[0m\u001b[1;33m.\u001b[0m\u001b[0mget_loc\u001b[0m\u001b[1;33m(\u001b[0m\u001b[0mcasted_key\u001b[0m\u001b[1;33m)\u001b[0m\u001b[1;33m\u001b[0m\u001b[1;33m\u001b[0m\u001b[0m\n\u001b[0;32m   3081\u001b[0m             \u001b[1;32mexcept\u001b[0m \u001b[0mKeyError\u001b[0m \u001b[1;32mas\u001b[0m \u001b[0merr\u001b[0m\u001b[1;33m:\u001b[0m\u001b[1;33m\u001b[0m\u001b[1;33m\u001b[0m\u001b[0m\n\u001b[1;32m-> 3082\u001b[1;33m                 \u001b[1;32mraise\u001b[0m \u001b[0mKeyError\u001b[0m\u001b[1;33m(\u001b[0m\u001b[0mkey\u001b[0m\u001b[1;33m)\u001b[0m \u001b[1;32mfrom\u001b[0m \u001b[0merr\u001b[0m\u001b[1;33m\u001b[0m\u001b[1;33m\u001b[0m\u001b[0m\n\u001b[0m\u001b[0;32m   3083\u001b[0m \u001b[1;33m\u001b[0m\u001b[0m\n\u001b[0;32m   3084\u001b[0m         \u001b[1;32mif\u001b[0m \u001b[0mtolerance\u001b[0m \u001b[1;32mis\u001b[0m \u001b[1;32mnot\u001b[0m \u001b[1;32mNone\u001b[0m\u001b[1;33m:\u001b[0m\u001b[1;33m\u001b[0m\u001b[1;33m\u001b[0m\u001b[0m\n",
      "\u001b[1;31mKeyError\u001b[0m: 'text'"
     ]
    }
   ],
   "source": [
    "word_list = []\n",
    "word_list =df['text']"
   ]
  },
  {
   "cell_type": "code",
   "execution_count": 38,
   "id": "a61e8768",
   "metadata": {},
   "outputs": [
    {
     "data": {
      "text/plain": [
       "[]"
      ]
     },
     "execution_count": 38,
     "metadata": {},
     "output_type": "execute_result"
    }
   ],
   "source": [
    "word_list"
   ]
  },
  {
   "cell_type": "code",
   "execution_count": 39,
   "id": "dd883b02",
   "metadata": {},
   "outputs": [
    {
     "ename": "NameError",
     "evalue": "name 'morph' is not defined",
     "output_type": "error",
     "traceback": [
      "\u001b[1;31m---------------------------------------------------------------------------\u001b[0m",
      "\u001b[1;31mNameError\u001b[0m                                 Traceback (most recent call last)",
      "\u001b[1;32m<ipython-input-39-ea90194cdbf2>\u001b[0m in \u001b[0;36m<module>\u001b[1;34m\u001b[0m\n\u001b[0;32m      5\u001b[0m     \u001b[0msentences_tag\u001b[0m\u001b[1;33m.\u001b[0m\u001b[0mappend\u001b[0m\u001b[1;33m(\u001b[0m\u001b[0mmorph\u001b[0m\u001b[1;33m)\u001b[0m\u001b[1;33m\u001b[0m\u001b[1;33m\u001b[0m\u001b[0m\n\u001b[0;32m      6\u001b[0m \u001b[1;33m\u001b[0m\u001b[0m\n\u001b[1;32m----> 7\u001b[1;33m \u001b[0mprint\u001b[0m\u001b[1;33m(\u001b[0m\u001b[0mmorph\u001b[0m\u001b[1;33m)\u001b[0m\u001b[1;33m\u001b[0m\u001b[1;33m\u001b[0m\u001b[0m\n\u001b[0m",
      "\u001b[1;31mNameError\u001b[0m: name 'morph' is not defined"
     ]
    }
   ],
   "source": [
    "sentences_tag = []\n",
    "\n",
    "for sentence in word_list:\n",
    "    morph = twitter.pos(sentence)\n",
    "    sentences_tag.append(morph)\n",
    "\n",
    "print(morph)"
   ]
  },
  {
   "cell_type": "code",
   "execution_count": 40,
   "id": "3b5cc182",
   "metadata": {},
   "outputs": [],
   "source": [
    "noun_list = []\n",
    "for sentence in sentences_tag:\n",
    "    for word, tag in sentence:\n",
    "        if tag in ['Noun']:\n",
    "            noun_list.append(word)"
   ]
  },
  {
   "cell_type": "code",
   "execution_count": 41,
   "id": "917032f1",
   "metadata": {},
   "outputs": [
    {
     "data": {
      "text/plain": [
       "[]"
      ]
     },
     "execution_count": 41,
     "metadata": {},
     "output_type": "execute_result"
    }
   ],
   "source": [
    "len(noun_list)\n",
    "\n",
    "noun_list = [n for n in noun_list if len(n) > 1]\n",
    "noun_list[:100]"
   ]
  },
  {
   "cell_type": "code",
   "execution_count": 42,
   "id": "126d53d3",
   "metadata": {},
   "outputs": [
    {
     "data": {
      "text/plain": [
       "[]"
      ]
     },
     "execution_count": 42,
     "metadata": {},
     "output_type": "execute_result"
    }
   ],
   "source": [
    "counts = Counter(noun_list)\n",
    "tags = counts.most_common(30)\n",
    "tags"
   ]
  },
  {
   "cell_type": "code",
   "execution_count": null,
   "id": "1b800fa1",
   "metadata": {},
   "outputs": [],
   "source": []
  },
  {
   "cell_type": "code",
   "execution_count": null,
   "id": "6e511d45",
   "metadata": {},
   "outputs": [],
   "source": []
  },
  {
   "cell_type": "code",
   "execution_count": null,
   "id": "53565285",
   "metadata": {},
   "outputs": [],
   "source": []
  },
  {
   "cell_type": "code",
   "execution_count": null,
   "id": "57fb2407",
   "metadata": {},
   "outputs": [],
   "source": []
  },
  {
   "cell_type": "code",
   "execution_count": null,
   "id": "fccf6975",
   "metadata": {},
   "outputs": [],
   "source": []
  },
  {
   "cell_type": "code",
   "execution_count": null,
   "id": "2b210233",
   "metadata": {},
   "outputs": [],
   "source": []
  },
  {
   "cell_type": "code",
   "execution_count": null,
   "id": "e2eaaf8f",
   "metadata": {},
   "outputs": [],
   "source": []
  },
  {
   "cell_type": "code",
   "execution_count": null,
   "id": "98d5dcd3",
   "metadata": {},
   "outputs": [],
   "source": []
  },
  {
   "cell_type": "code",
   "execution_count": null,
   "id": "a804f050",
   "metadata": {},
   "outputs": [],
   "source": []
  },
  {
   "cell_type": "code",
   "execution_count": null,
   "id": "6e08d9ad",
   "metadata": {},
   "outputs": [],
   "source": []
  },
  {
   "cell_type": "code",
   "execution_count": null,
   "id": "08745915",
   "metadata": {},
   "outputs": [],
   "source": []
  },
  {
   "cell_type": "code",
   "execution_count": null,
   "id": "bf69b257",
   "metadata": {},
   "outputs": [],
   "source": []
  },
  {
   "cell_type": "code",
   "execution_count": null,
   "id": "6a682870",
   "metadata": {},
   "outputs": [],
   "source": []
  },
  {
   "cell_type": "code",
   "execution_count": null,
   "id": "5d06f031",
   "metadata": {},
   "outputs": [],
   "source": []
  },
  {
   "cell_type": "code",
   "execution_count": null,
   "id": "6f7ca3bd",
   "metadata": {},
   "outputs": [],
   "source": []
  },
  {
   "cell_type": "code",
   "execution_count": null,
   "id": "bf687ca5",
   "metadata": {},
   "outputs": [],
   "source": []
  },
  {
   "cell_type": "code",
   "execution_count": null,
   "id": "7e90ab43",
   "metadata": {},
   "outputs": [],
   "source": []
  },
  {
   "cell_type": "code",
   "execution_count": null,
   "id": "b9d0c5a9",
   "metadata": {},
   "outputs": [],
   "source": []
  },
  {
   "cell_type": "code",
   "execution_count": null,
   "id": "acf0357f",
   "metadata": {},
   "outputs": [],
   "source": []
  },
  {
   "cell_type": "code",
   "execution_count": null,
   "id": "857b97d1",
   "metadata": {},
   "outputs": [],
   "source": []
  },
  {
   "cell_type": "code",
   "execution_count": null,
   "id": "0083572e",
   "metadata": {},
   "outputs": [],
   "source": []
  },
  {
   "cell_type": "code",
   "execution_count": null,
   "id": "0e4c928e",
   "metadata": {},
   "outputs": [],
   "source": []
  },
  {
   "cell_type": "code",
   "execution_count": null,
   "id": "bfd15941",
   "metadata": {},
   "outputs": [],
   "source": []
  },
  {
   "cell_type": "code",
   "execution_count": null,
   "id": "b0cf3a5d",
   "metadata": {},
   "outputs": [],
   "source": []
  },
  {
   "cell_type": "code",
   "execution_count": null,
   "id": "2b92530a",
   "metadata": {},
   "outputs": [],
   "source": []
  },
  {
   "cell_type": "code",
   "execution_count": null,
   "id": "eca6a62f",
   "metadata": {},
   "outputs": [],
   "source": []
  },
  {
   "cell_type": "code",
   "execution_count": null,
   "id": "e98355c3",
   "metadata": {},
   "outputs": [],
   "source": []
  },
  {
   "cell_type": "code",
   "execution_count": null,
   "id": "33a7a8a5",
   "metadata": {},
   "outputs": [],
   "source": []
  },
  {
   "cell_type": "code",
   "execution_count": null,
   "id": "11351f0b",
   "metadata": {},
   "outputs": [],
   "source": []
  },
  {
   "cell_type": "code",
   "execution_count": null,
   "id": "d842922f",
   "metadata": {},
   "outputs": [],
   "source": []
  }
 ],
 "metadata": {
  "kernelspec": {
   "display_name": "Python 3",
   "language": "python",
   "name": "python3"
  },
  "language_info": {
   "codemirror_mode": {
    "name": "ipython",
    "version": 3
   },
   "file_extension": ".py",
   "mimetype": "text/x-python",
   "name": "python",
   "nbconvert_exporter": "python",
   "pygments_lexer": "ipython3",
   "version": "3.8.8"
  }
 },
 "nbformat": 4,
 "nbformat_minor": 5
}
