{
 "cells": [
  {
   "cell_type": "markdown",
   "id": "4bdf5a4c",
   "metadata": {},
   "source": [
    "1. 인구 데이터   \n",
    "- 사이트: https://kosis.kr/search/search.do  \n",
    "- 통계표 이름: 인구총조사:연령 및 성별 인구 - 읍면동(2015), 시군구(2016 ~ ) \n",
    "- 일괄설정  \n",
    "    전체항목 -> 총인구, 총인구_남자, 총인구_여자   \n",
    "    행정구역별(읍면동) -> 전국   \n",
    "    연령별 -> 0세~19세   \n",
    "    년 -> 2015년 ~ 2019년  "
   ]
  },
  {
   "cell_type": "markdown",
   "id": "27fead6c",
   "metadata": {},
   "source": [
    "2. 소년범죄 데이터  \n",
    "- 사이트: https://www.crimestats.or.kr/portal/stat/easyStatPage.do\n",
    "- 통계표 이름: 「범죄분석」DB 범죄자 연령\n",
    "- 일괄설정  \n",
    "  항목 -> 소년  \n",
    "  분류 -> 전체  \n",
    "  검색기간 -> 2014년 ~ 2019년\n",
    "  "
   ]
  },
  {
   "cell_type": "code",
   "execution_count": null,
   "id": "2d7c4845",
   "metadata": {},
   "outputs": [],
   "source": []
  }
 ],
 "metadata": {
  "kernelspec": {
   "display_name": "Python 3",
   "language": "python",
   "name": "python3"
  },
  "language_info": {
   "codemirror_mode": {
    "name": "ipython",
    "version": 3
   },
   "file_extension": ".py",
   "mimetype": "text/x-python",
   "name": "python",
   "nbconvert_exporter": "python",
   "pygments_lexer": "ipython3",
   "version": "3.8.8"
  }
 },
 "nbformat": 4,
 "nbformat_minor": 5
}
