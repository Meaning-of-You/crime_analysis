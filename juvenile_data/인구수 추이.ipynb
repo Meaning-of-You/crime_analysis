{
 "cells": [
  {
   "cell_type": "code",
   "execution_count": 1,
   "id": "0fb46a8b",
   "metadata": {},
   "outputs": [],
   "source": [
    "import numpy as np\n",
    "import pandas as pd\n",
    "import matplotlib as mp\n",
    "import matplotlib.pyplot as plt\n",
    "import seaborn as sns\n",
    "import re"
   ]
  },
  {
   "cell_type": "code",
   "execution_count": 2,
   "id": "46b4d50e",
   "metadata": {},
   "outputs": [],
   "source": [
    "# 한글화\n",
    "fm = mp.font_manager.FontManager()\n",
    "plt.rcParams['font.family'] = 'Malgun Gothic'"
   ]
  },
  {
   "cell_type": "markdown",
   "id": "a492189b",
   "metadata": {},
   "source": [
    "# 인구수 추이"
   ]
  },
  {
   "cell_type": "code",
   "execution_count": 53,
   "id": "8825d628",
   "metadata": {},
   "outputs": [
    {
     "data": {
      "text/html": [
       "<div>\n",
       "<style scoped>\n",
       "    .dataframe tbody tr th:only-of-type {\n",
       "        vertical-align: middle;\n",
       "    }\n",
       "\n",
       "    .dataframe tbody tr th {\n",
       "        vertical-align: top;\n",
       "    }\n",
       "\n",
       "    .dataframe thead th {\n",
       "        text-align: right;\n",
       "    }\n",
       "</style>\n",
       "<table border=\"1\" class=\"dataframe\">\n",
       "  <thead>\n",
       "    <tr style=\"text-align: right;\">\n",
       "      <th></th>\n",
       "      <th>행정구역별(읍면동)</th>\n",
       "      <th>연령별</th>\n",
       "      <th>2015</th>\n",
       "      <th>2016</th>\n",
       "      <th>2017</th>\n",
       "      <th>2018</th>\n",
       "      <th>2019</th>\n",
       "    </tr>\n",
       "  </thead>\n",
       "  <tbody>\n",
       "    <tr>\n",
       "      <th>0</th>\n",
       "      <td>행정구역별(읍면동)</td>\n",
       "      <td>연령별</td>\n",
       "      <td>내국인(명)</td>\n",
       "      <td>내국인(명)</td>\n",
       "      <td>내국인(명)</td>\n",
       "      <td>내국인(명)</td>\n",
       "      <td>내국인(명)</td>\n",
       "    </tr>\n",
       "    <tr>\n",
       "      <th>1</th>\n",
       "      <td>전국</td>\n",
       "      <td>15~19세</td>\n",
       "      <td>3,170,545</td>\n",
       "      <td>3,056,728</td>\n",
       "      <td>2,891,577</td>\n",
       "      <td>2,735,274</td>\n",
       "      <td>2,595,613</td>\n",
       "    </tr>\n",
       "    <tr>\n",
       "      <th>2</th>\n",
       "      <td>NaN</td>\n",
       "      <td>15세미만</td>\n",
       "      <td>6,906,707</td>\n",
       "      <td>6,768,338</td>\n",
       "      <td>6,631,762</td>\n",
       "      <td>6,479,881</td>\n",
       "      <td>6,311,951</td>\n",
       "    </tr>\n",
       "    <tr>\n",
       "      <th>3</th>\n",
       "      <td>NaN</td>\n",
       "      <td>15~64세</td>\n",
       "      <td>36,229,874</td>\n",
       "      <td>36,312,340</td>\n",
       "      <td>36,196,132</td>\n",
       "      <td>36,103,955</td>\n",
       "      <td>35,942,771</td>\n",
       "    </tr>\n",
       "    <tr>\n",
       "      <th>4</th>\n",
       "      <td>NaN</td>\n",
       "      <td>65세이상</td>\n",
       "      <td>6,569,082</td>\n",
       "      <td>6,775,118</td>\n",
       "      <td>7,115,366</td>\n",
       "      <td>7,394,115</td>\n",
       "      <td>7,745,563</td>\n",
       "    </tr>\n",
       "  </tbody>\n",
       "</table>\n",
       "</div>"
      ],
      "text/plain": [
       "   행정구역별(읍면동)     연령별        2015        2016        2017        2018  \\\n",
       "0  행정구역별(읍면동)     연령별      내국인(명)      내국인(명)      내국인(명)      내국인(명)   \n",
       "1          전국  15~19세   3,170,545   3,056,728   2,891,577   2,735,274   \n",
       "2         NaN   15세미만   6,906,707   6,768,338   6,631,762   6,479,881   \n",
       "3         NaN  15~64세  36,229,874  36,312,340  36,196,132  36,103,955   \n",
       "4         NaN   65세이상   6,569,082   6,775,118   7,115,366   7,394,115   \n",
       "\n",
       "         2019  \n",
       "0      내국인(명)  \n",
       "1   2,595,613  \n",
       "2   6,311,951  \n",
       "3  35,942,771  \n",
       "4   7,745,563  "
      ]
     },
     "execution_count": 53,
     "metadata": {},
     "output_type": "execute_result"
    }
   ],
   "source": [
    "# 데이터 불러오기\n",
    "df_pop = pd.read_csv('pdsample/population(2015-2019).csv', encoding='cp949')\n",
    "df_pop.head()"
   ]
  },
  {
   "cell_type": "code",
   "execution_count": 54,
   "id": "d9758942",
   "metadata": {},
   "outputs": [
    {
     "data": {
      "text/html": [
       "<div>\n",
       "<style scoped>\n",
       "    .dataframe tbody tr th:only-of-type {\n",
       "        vertical-align: middle;\n",
       "    }\n",
       "\n",
       "    .dataframe tbody tr th {\n",
       "        vertical-align: top;\n",
       "    }\n",
       "\n",
       "    .dataframe thead th {\n",
       "        text-align: right;\n",
       "    }\n",
       "</style>\n",
       "<table border=\"1\" class=\"dataframe\">\n",
       "  <thead>\n",
       "    <tr style=\"text-align: right;\">\n",
       "      <th></th>\n",
       "      <th>연령별</th>\n",
       "      <th>2015</th>\n",
       "      <th>2016</th>\n",
       "      <th>2017</th>\n",
       "      <th>2018</th>\n",
       "      <th>2019</th>\n",
       "    </tr>\n",
       "  </thead>\n",
       "  <tbody>\n",
       "    <tr>\n",
       "      <th>0</th>\n",
       "      <td>연령별</td>\n",
       "      <td>내국인(명)</td>\n",
       "      <td>내국인(명)</td>\n",
       "      <td>내국인(명)</td>\n",
       "      <td>내국인(명)</td>\n",
       "      <td>내국인(명)</td>\n",
       "    </tr>\n",
       "    <tr>\n",
       "      <th>1</th>\n",
       "      <td>15~19세</td>\n",
       "      <td>3,170,545</td>\n",
       "      <td>3,056,728</td>\n",
       "      <td>2,891,577</td>\n",
       "      <td>2,735,274</td>\n",
       "      <td>2,595,613</td>\n",
       "    </tr>\n",
       "    <tr>\n",
       "      <th>2</th>\n",
       "      <td>15세미만</td>\n",
       "      <td>6,906,707</td>\n",
       "      <td>6,768,338</td>\n",
       "      <td>6,631,762</td>\n",
       "      <td>6,479,881</td>\n",
       "      <td>6,311,951</td>\n",
       "    </tr>\n",
       "    <tr>\n",
       "      <th>3</th>\n",
       "      <td>15~64세</td>\n",
       "      <td>36,229,874</td>\n",
       "      <td>36,312,340</td>\n",
       "      <td>36,196,132</td>\n",
       "      <td>36,103,955</td>\n",
       "      <td>35,942,771</td>\n",
       "    </tr>\n",
       "    <tr>\n",
       "      <th>4</th>\n",
       "      <td>65세이상</td>\n",
       "      <td>6,569,082</td>\n",
       "      <td>6,775,118</td>\n",
       "      <td>7,115,366</td>\n",
       "      <td>7,394,115</td>\n",
       "      <td>7,745,563</td>\n",
       "    </tr>\n",
       "  </tbody>\n",
       "</table>\n",
       "</div>"
      ],
      "text/plain": [
       "      연령별        2015        2016        2017        2018        2019\n",
       "0     연령별      내국인(명)      내국인(명)      내국인(명)      내국인(명)      내국인(명)\n",
       "1  15~19세   3,170,545   3,056,728   2,891,577   2,735,274   2,595,613\n",
       "2   15세미만   6,906,707   6,768,338   6,631,762   6,479,881   6,311,951\n",
       "3  15~64세  36,229,874  36,312,340  36,196,132  36,103,955  35,942,771\n",
       "4   65세이상   6,569,082   6,775,118   7,115,366   7,394,115   7,745,563"
      ]
     },
     "execution_count": 54,
     "metadata": {},
     "output_type": "execute_result"
    }
   ],
   "source": [
    "df_pop = df_pop.drop(['행정구역별(읍면동)'], axis='columns')\n",
    "df_pop.head()"
   ]
  },
  {
   "cell_type": "code",
   "execution_count": 55,
   "id": "9e5ca448",
   "metadata": {},
   "outputs": [
    {
     "data": {
      "text/html": [
       "<div>\n",
       "<style scoped>\n",
       "    .dataframe tbody tr th:only-of-type {\n",
       "        vertical-align: middle;\n",
       "    }\n",
       "\n",
       "    .dataframe tbody tr th {\n",
       "        vertical-align: top;\n",
       "    }\n",
       "\n",
       "    .dataframe thead th {\n",
       "        text-align: right;\n",
       "    }\n",
       "</style>\n",
       "<table border=\"1\" class=\"dataframe\">\n",
       "  <thead>\n",
       "    <tr style=\"text-align: right;\">\n",
       "      <th></th>\n",
       "      <th>연령별</th>\n",
       "      <th>2015</th>\n",
       "      <th>2016</th>\n",
       "      <th>2017</th>\n",
       "      <th>2018</th>\n",
       "      <th>2019</th>\n",
       "    </tr>\n",
       "  </thead>\n",
       "  <tbody>\n",
       "    <tr>\n",
       "      <th>1</th>\n",
       "      <td>15~19세</td>\n",
       "      <td>3,170,545</td>\n",
       "      <td>3,056,728</td>\n",
       "      <td>2,891,577</td>\n",
       "      <td>2,735,274</td>\n",
       "      <td>2,595,613</td>\n",
       "    </tr>\n",
       "    <tr>\n",
       "      <th>2</th>\n",
       "      <td>15세미만</td>\n",
       "      <td>6,906,707</td>\n",
       "      <td>6,768,338</td>\n",
       "      <td>6,631,762</td>\n",
       "      <td>6,479,881</td>\n",
       "      <td>6,311,951</td>\n",
       "    </tr>\n",
       "    <tr>\n",
       "      <th>3</th>\n",
       "      <td>15~64세</td>\n",
       "      <td>36,229,874</td>\n",
       "      <td>36,312,340</td>\n",
       "      <td>36,196,132</td>\n",
       "      <td>36,103,955</td>\n",
       "      <td>35,942,771</td>\n",
       "    </tr>\n",
       "    <tr>\n",
       "      <th>4</th>\n",
       "      <td>65세이상</td>\n",
       "      <td>6,569,082</td>\n",
       "      <td>6,775,118</td>\n",
       "      <td>7,115,366</td>\n",
       "      <td>7,394,115</td>\n",
       "      <td>7,745,563</td>\n",
       "    </tr>\n",
       "  </tbody>\n",
       "</table>\n",
       "</div>"
      ],
      "text/plain": [
       "      연령별        2015        2016        2017        2018        2019\n",
       "1  15~19세   3,170,545   3,056,728   2,891,577   2,735,274   2,595,613\n",
       "2   15세미만   6,906,707   6,768,338   6,631,762   6,479,881   6,311,951\n",
       "3  15~64세  36,229,874  36,312,340  36,196,132  36,103,955  35,942,771\n",
       "4   65세이상   6,569,082   6,775,118   7,115,366   7,394,115   7,745,563"
      ]
     },
     "execution_count": 55,
     "metadata": {},
     "output_type": "execute_result"
    }
   ],
   "source": [
    "df_pop = df_pop[df_pop['연령별']!='연령별'].copy()\n",
    "df_pop.head()"
   ]
  },
  {
   "cell_type": "code",
   "execution_count": 56,
   "id": "e2136f60",
   "metadata": {},
   "outputs": [],
   "source": [
    "year = ['2015','2016','2017','2018','2019']\n",
    "for i in year:\n",
    "    df_pop[i] = df_pop[i].str.replace(',','')"
   ]
  },
  {
   "cell_type": "code",
   "execution_count": 57,
   "id": "55998e8b",
   "metadata": {},
   "outputs": [
    {
     "name": "stdout",
     "output_type": "stream",
     "text": [
      "<class 'pandas.core.frame.DataFrame'>\n",
      "Int64Index: 4 entries, 1 to 4\n",
      "Data columns (total 6 columns):\n",
      " #   Column  Non-Null Count  Dtype \n",
      "---  ------  --------------  ----- \n",
      " 0   연령별     4 non-null      object\n",
      " 1   2015    4 non-null      int32 \n",
      " 2   2016    4 non-null      int32 \n",
      " 3   2017    4 non-null      int32 \n",
      " 4   2018    4 non-null      int32 \n",
      " 5   2019    4 non-null      int32 \n",
      "dtypes: int32(5), object(1)\n",
      "memory usage: 144.0+ bytes\n"
     ]
    }
   ],
   "source": [
    "year = ['2015','2016','2017','2018','2019']\n",
    "for i in year:\n",
    "    df_pop[i] = df_pop[i].astype(int)\n",
    "df_pop.info()"
   ]
  },
  {
   "cell_type": "code",
   "execution_count": 58,
   "id": "f97bae33",
   "metadata": {
    "scrolled": false
   },
   "outputs": [
    {
     "data": {
      "text/html": [
       "<div>\n",
       "<style scoped>\n",
       "    .dataframe tbody tr th:only-of-type {\n",
       "        vertical-align: middle;\n",
       "    }\n",
       "\n",
       "    .dataframe tbody tr th {\n",
       "        vertical-align: top;\n",
       "    }\n",
       "\n",
       "    .dataframe thead th {\n",
       "        text-align: right;\n",
       "    }\n",
       "</style>\n",
       "<table border=\"1\" class=\"dataframe\">\n",
       "  <thead>\n",
       "    <tr style=\"text-align: right;\">\n",
       "      <th></th>\n",
       "      <th>연령별</th>\n",
       "      <th>2015</th>\n",
       "      <th>2016</th>\n",
       "      <th>2017</th>\n",
       "      <th>2018</th>\n",
       "      <th>2019</th>\n",
       "    </tr>\n",
       "  </thead>\n",
       "  <tbody>\n",
       "    <tr>\n",
       "      <th>1</th>\n",
       "      <td>15~19세</td>\n",
       "      <td>3170545</td>\n",
       "      <td>3056728</td>\n",
       "      <td>2891577</td>\n",
       "      <td>2735274</td>\n",
       "      <td>2595613</td>\n",
       "    </tr>\n",
       "    <tr>\n",
       "      <th>2</th>\n",
       "      <td>15세미만</td>\n",
       "      <td>6906707</td>\n",
       "      <td>6768338</td>\n",
       "      <td>6631762</td>\n",
       "      <td>6479881</td>\n",
       "      <td>6311951</td>\n",
       "    </tr>\n",
       "    <tr>\n",
       "      <th>3</th>\n",
       "      <td>15~64세</td>\n",
       "      <td>36229874</td>\n",
       "      <td>36312340</td>\n",
       "      <td>36196132</td>\n",
       "      <td>36103955</td>\n",
       "      <td>35942771</td>\n",
       "    </tr>\n",
       "    <tr>\n",
       "      <th>4</th>\n",
       "      <td>65세이상</td>\n",
       "      <td>6569082</td>\n",
       "      <td>6775118</td>\n",
       "      <td>7115366</td>\n",
       "      <td>7394115</td>\n",
       "      <td>7745563</td>\n",
       "    </tr>\n",
       "  </tbody>\n",
       "</table>\n",
       "</div>"
      ],
      "text/plain": [
       "      연령별      2015      2016      2017      2018      2019\n",
       "1  15~19세   3170545   3056728   2891577   2735274   2595613\n",
       "2   15세미만   6906707   6768338   6631762   6479881   6311951\n",
       "3  15~64세  36229874  36312340  36196132  36103955  35942771\n",
       "4   65세이상   6569082   6775118   7115366   7394115   7745563"
      ]
     },
     "execution_count": 58,
     "metadata": {},
     "output_type": "execute_result"
    }
   ],
   "source": [
    "df_pop"
   ]
  },
  {
   "cell_type": "code",
   "execution_count": 59,
   "id": "70c226e6",
   "metadata": {},
   "outputs": [],
   "source": [
    "df_pop.loc[5,'연령별'] = ['19세 미만']\n",
    "df_pop.loc[6,'연령별'] = ['19세 이상']"
   ]
  },
  {
   "cell_type": "code",
   "execution_count": 60,
   "id": "27223376",
   "metadata": {},
   "outputs": [],
   "source": [
    "year = ['2015','2016','2017','2018','2019']\n",
    "for i in year:\n",
    "    df_pop.loc[5,i] = df_pop.loc[1,i] + df_pop.loc[2,i]"
   ]
  },
  {
   "cell_type": "code",
   "execution_count": 61,
   "id": "e2ca000d",
   "metadata": {},
   "outputs": [],
   "source": [
    "year = ['2015','2016','2017','2018','2019']\n",
    "for i in year:\n",
    "    df_pop.loc[6,i] = df_pop.loc[3,i] + df_pop.loc[4,i] - df_pop.loc[1,i]"
   ]
  },
  {
   "cell_type": "code",
   "execution_count": 62,
   "id": "00ee0f7a",
   "metadata": {
    "scrolled": true
   },
   "outputs": [
    {
     "data": {
      "text/html": [
       "<div>\n",
       "<style scoped>\n",
       "    .dataframe tbody tr th:only-of-type {\n",
       "        vertical-align: middle;\n",
       "    }\n",
       "\n",
       "    .dataframe tbody tr th {\n",
       "        vertical-align: top;\n",
       "    }\n",
       "\n",
       "    .dataframe thead th {\n",
       "        text-align: right;\n",
       "    }\n",
       "</style>\n",
       "<table border=\"1\" class=\"dataframe\">\n",
       "  <thead>\n",
       "    <tr style=\"text-align: right;\">\n",
       "      <th></th>\n",
       "      <th>연령별</th>\n",
       "      <th>2015</th>\n",
       "      <th>2016</th>\n",
       "      <th>2017</th>\n",
       "      <th>2018</th>\n",
       "      <th>2019</th>\n",
       "    </tr>\n",
       "  </thead>\n",
       "  <tbody>\n",
       "    <tr>\n",
       "      <th>1</th>\n",
       "      <td>15~19세</td>\n",
       "      <td>3170545.0</td>\n",
       "      <td>3056728.0</td>\n",
       "      <td>2891577.0</td>\n",
       "      <td>2735274.0</td>\n",
       "      <td>2595613.0</td>\n",
       "    </tr>\n",
       "    <tr>\n",
       "      <th>2</th>\n",
       "      <td>15세미만</td>\n",
       "      <td>6906707.0</td>\n",
       "      <td>6768338.0</td>\n",
       "      <td>6631762.0</td>\n",
       "      <td>6479881.0</td>\n",
       "      <td>6311951.0</td>\n",
       "    </tr>\n",
       "    <tr>\n",
       "      <th>3</th>\n",
       "      <td>15~64세</td>\n",
       "      <td>36229874.0</td>\n",
       "      <td>36312340.0</td>\n",
       "      <td>36196132.0</td>\n",
       "      <td>36103955.0</td>\n",
       "      <td>35942771.0</td>\n",
       "    </tr>\n",
       "    <tr>\n",
       "      <th>4</th>\n",
       "      <td>65세이상</td>\n",
       "      <td>6569082.0</td>\n",
       "      <td>6775118.0</td>\n",
       "      <td>7115366.0</td>\n",
       "      <td>7394115.0</td>\n",
       "      <td>7745563.0</td>\n",
       "    </tr>\n",
       "    <tr>\n",
       "      <th>5</th>\n",
       "      <td>19세 미만</td>\n",
       "      <td>10077252.0</td>\n",
       "      <td>9825066.0</td>\n",
       "      <td>9523339.0</td>\n",
       "      <td>9215155.0</td>\n",
       "      <td>8907564.0</td>\n",
       "    </tr>\n",
       "    <tr>\n",
       "      <th>6</th>\n",
       "      <td>19세 이상</td>\n",
       "      <td>39628411.0</td>\n",
       "      <td>40030730.0</td>\n",
       "      <td>40419921.0</td>\n",
       "      <td>40762796.0</td>\n",
       "      <td>41092721.0</td>\n",
       "    </tr>\n",
       "  </tbody>\n",
       "</table>\n",
       "</div>"
      ],
      "text/plain": [
       "      연령별        2015        2016        2017        2018        2019\n",
       "1  15~19세   3170545.0   3056728.0   2891577.0   2735274.0   2595613.0\n",
       "2   15세미만   6906707.0   6768338.0   6631762.0   6479881.0   6311951.0\n",
       "3  15~64세  36229874.0  36312340.0  36196132.0  36103955.0  35942771.0\n",
       "4   65세이상   6569082.0   6775118.0   7115366.0   7394115.0   7745563.0\n",
       "5  19세 미만  10077252.0   9825066.0   9523339.0   9215155.0   8907564.0\n",
       "6  19세 이상  39628411.0  40030730.0  40419921.0  40762796.0  41092721.0"
      ]
     },
     "execution_count": 62,
     "metadata": {},
     "output_type": "execute_result"
    }
   ],
   "source": [
    "df_pop"
   ]
  },
  {
   "cell_type": "code",
   "execution_count": 65,
   "id": "fa0dc04c",
   "metadata": {},
   "outputs": [
    {
     "data": {
      "text/html": [
       "<div>\n",
       "<style scoped>\n",
       "    .dataframe tbody tr th:only-of-type {\n",
       "        vertical-align: middle;\n",
       "    }\n",
       "\n",
       "    .dataframe tbody tr th {\n",
       "        vertical-align: top;\n",
       "    }\n",
       "\n",
       "    .dataframe thead th {\n",
       "        text-align: right;\n",
       "    }\n",
       "</style>\n",
       "<table border=\"1\" class=\"dataframe\">\n",
       "  <thead>\n",
       "    <tr style=\"text-align: right;\">\n",
       "      <th></th>\n",
       "      <th>연령별</th>\n",
       "      <th>2015</th>\n",
       "      <th>2016</th>\n",
       "      <th>2017</th>\n",
       "      <th>2018</th>\n",
       "      <th>2019</th>\n",
       "    </tr>\n",
       "  </thead>\n",
       "  <tbody>\n",
       "    <tr>\n",
       "      <th>1</th>\n",
       "      <td>15~19세</td>\n",
       "      <td>3170545.0</td>\n",
       "      <td>3056728.0</td>\n",
       "      <td>2891577.0</td>\n",
       "      <td>2735274.0</td>\n",
       "      <td>2595613.0</td>\n",
       "    </tr>\n",
       "    <tr>\n",
       "      <th>2</th>\n",
       "      <td>15세미만</td>\n",
       "      <td>6906707.0</td>\n",
       "      <td>6768338.0</td>\n",
       "      <td>6631762.0</td>\n",
       "      <td>6479881.0</td>\n",
       "      <td>6311951.0</td>\n",
       "    </tr>\n",
       "    <tr>\n",
       "      <th>3</th>\n",
       "      <td>15~64세</td>\n",
       "      <td>36229874.0</td>\n",
       "      <td>36312340.0</td>\n",
       "      <td>36196132.0</td>\n",
       "      <td>36103955.0</td>\n",
       "      <td>35942771.0</td>\n",
       "    </tr>\n",
       "    <tr>\n",
       "      <th>4</th>\n",
       "      <td>65세이상</td>\n",
       "      <td>6569082.0</td>\n",
       "      <td>6775118.0</td>\n",
       "      <td>7115366.0</td>\n",
       "      <td>7394115.0</td>\n",
       "      <td>7745563.0</td>\n",
       "    </tr>\n",
       "    <tr>\n",
       "      <th>5</th>\n",
       "      <td>19세 미만</td>\n",
       "      <td>10077252.0</td>\n",
       "      <td>9825066.0</td>\n",
       "      <td>9523339.0</td>\n",
       "      <td>9215155.0</td>\n",
       "      <td>8907564.0</td>\n",
       "    </tr>\n",
       "    <tr>\n",
       "      <th>6</th>\n",
       "      <td>19세 이상</td>\n",
       "      <td>39628411.0</td>\n",
       "      <td>40030730.0</td>\n",
       "      <td>40419921.0</td>\n",
       "      <td>40762796.0</td>\n",
       "      <td>41092721.0</td>\n",
       "    </tr>\n",
       "  </tbody>\n",
       "</table>\n",
       "</div>"
      ],
      "text/plain": [
       "      연령별        2015        2016        2017        2018        2019\n",
       "1  15~19세   3170545.0   3056728.0   2891577.0   2735274.0   2595613.0\n",
       "2   15세미만   6906707.0   6768338.0   6631762.0   6479881.0   6311951.0\n",
       "3  15~64세  36229874.0  36312340.0  36196132.0  36103955.0  35942771.0\n",
       "4   65세이상   6569082.0   6775118.0   7115366.0   7394115.0   7745563.0\n",
       "5  19세 미만  10077252.0   9825066.0   9523339.0   9215155.0   8907564.0\n",
       "6  19세 이상  39628411.0  40030730.0  40419921.0  40762796.0  41092721.0"
      ]
     },
     "execution_count": 65,
     "metadata": {},
     "output_type": "execute_result"
    }
   ],
   "source": [
    "df_pop"
   ]
  },
  {
   "cell_type": "code",
   "execution_count": 69,
   "id": "6b939f2e",
   "metadata": {
    "scrolled": true
   },
   "outputs": [
    {
     "data": {
      "text/html": [
       "<div>\n",
       "<style scoped>\n",
       "    .dataframe tbody tr th:only-of-type {\n",
       "        vertical-align: middle;\n",
       "    }\n",
       "\n",
       "    .dataframe tbody tr th {\n",
       "        vertical-align: top;\n",
       "    }\n",
       "\n",
       "    .dataframe thead th {\n",
       "        text-align: right;\n",
       "    }\n",
       "</style>\n",
       "<table border=\"1\" class=\"dataframe\">\n",
       "  <thead>\n",
       "    <tr style=\"text-align: right;\">\n",
       "      <th></th>\n",
       "      <th>연령별</th>\n",
       "      <th>2015</th>\n",
       "      <th>2016</th>\n",
       "      <th>2017</th>\n",
       "      <th>2018</th>\n",
       "      <th>2019</th>\n",
       "    </tr>\n",
       "  </thead>\n",
       "  <tbody>\n",
       "    <tr>\n",
       "      <th>5</th>\n",
       "      <td>19세 미만</td>\n",
       "      <td>10077252.0</td>\n",
       "      <td>9825066.0</td>\n",
       "      <td>9523339.0</td>\n",
       "      <td>9215155.0</td>\n",
       "      <td>8907564.0</td>\n",
       "    </tr>\n",
       "    <tr>\n",
       "      <th>6</th>\n",
       "      <td>19세 이상</td>\n",
       "      <td>39628411.0</td>\n",
       "      <td>40030730.0</td>\n",
       "      <td>40419921.0</td>\n",
       "      <td>40762796.0</td>\n",
       "      <td>41092721.0</td>\n",
       "    </tr>\n",
       "  </tbody>\n",
       "</table>\n",
       "</div>"
      ],
      "text/plain": [
       "      연령별        2015        2016        2017        2018        2019\n",
       "5  19세 미만  10077252.0   9825066.0   9523339.0   9215155.0   8907564.0\n",
       "6  19세 이상  39628411.0  40030730.0  40419921.0  40762796.0  41092721.0"
      ]
     },
     "execution_count": 69,
     "metadata": {},
     "output_type": "execute_result"
    }
   ],
   "source": [
    "df_pop_19 = df_pop[df_pop['연령별'].str.contains('19세 ')]\n",
    "df_pop_19.head()"
   ]
  },
  {
   "cell_type": "code",
   "execution_count": 70,
   "id": "baeb8043",
   "metadata": {
    "scrolled": true
   },
   "outputs": [
    {
     "data": {
      "text/html": [
       "<div>\n",
       "<style scoped>\n",
       "    .dataframe tbody tr th:only-of-type {\n",
       "        vertical-align: middle;\n",
       "    }\n",
       "\n",
       "    .dataframe tbody tr th {\n",
       "        vertical-align: top;\n",
       "    }\n",
       "\n",
       "    .dataframe thead th {\n",
       "        text-align: right;\n",
       "    }\n",
       "</style>\n",
       "<table border=\"1\" class=\"dataframe\">\n",
       "  <thead>\n",
       "    <tr style=\"text-align: right;\">\n",
       "      <th></th>\n",
       "      <th>연령별</th>\n",
       "      <th>variable</th>\n",
       "      <th>value</th>\n",
       "    </tr>\n",
       "  </thead>\n",
       "  <tbody>\n",
       "    <tr>\n",
       "      <th>0</th>\n",
       "      <td>19세 미만</td>\n",
       "      <td>2015</td>\n",
       "      <td>10077252.0</td>\n",
       "    </tr>\n",
       "    <tr>\n",
       "      <th>1</th>\n",
       "      <td>19세 이상</td>\n",
       "      <td>2015</td>\n",
       "      <td>39628411.0</td>\n",
       "    </tr>\n",
       "    <tr>\n",
       "      <th>2</th>\n",
       "      <td>19세 미만</td>\n",
       "      <td>2016</td>\n",
       "      <td>9825066.0</td>\n",
       "    </tr>\n",
       "    <tr>\n",
       "      <th>3</th>\n",
       "      <td>19세 이상</td>\n",
       "      <td>2016</td>\n",
       "      <td>40030730.0</td>\n",
       "    </tr>\n",
       "    <tr>\n",
       "      <th>4</th>\n",
       "      <td>19세 미만</td>\n",
       "      <td>2017</td>\n",
       "      <td>9523339.0</td>\n",
       "    </tr>\n",
       "    <tr>\n",
       "      <th>5</th>\n",
       "      <td>19세 이상</td>\n",
       "      <td>2017</td>\n",
       "      <td>40419921.0</td>\n",
       "    </tr>\n",
       "    <tr>\n",
       "      <th>6</th>\n",
       "      <td>19세 미만</td>\n",
       "      <td>2018</td>\n",
       "      <td>9215155.0</td>\n",
       "    </tr>\n",
       "    <tr>\n",
       "      <th>7</th>\n",
       "      <td>19세 이상</td>\n",
       "      <td>2018</td>\n",
       "      <td>40762796.0</td>\n",
       "    </tr>\n",
       "    <tr>\n",
       "      <th>8</th>\n",
       "      <td>19세 미만</td>\n",
       "      <td>2019</td>\n",
       "      <td>8907564.0</td>\n",
       "    </tr>\n",
       "    <tr>\n",
       "      <th>9</th>\n",
       "      <td>19세 이상</td>\n",
       "      <td>2019</td>\n",
       "      <td>41092721.0</td>\n",
       "    </tr>\n",
       "  </tbody>\n",
       "</table>\n",
       "</div>"
      ],
      "text/plain": [
       "      연령별 variable       value\n",
       "0  19세 미만     2015  10077252.0\n",
       "1  19세 이상     2015  39628411.0\n",
       "2  19세 미만     2016   9825066.0\n",
       "3  19세 이상     2016  40030730.0\n",
       "4  19세 미만     2017   9523339.0\n",
       "5  19세 이상     2017  40419921.0\n",
       "6  19세 미만     2018   9215155.0\n",
       "7  19세 이상     2018  40762796.0\n",
       "8  19세 미만     2019   8907564.0\n",
       "9  19세 이상     2019  41092721.0"
      ]
     },
     "execution_count": 70,
     "metadata": {},
     "output_type": "execute_result"
    }
   ],
   "source": [
    "df_pop_19_m = df_pop_19.melt(id_vars='연령별')\n",
    "df_pop_19_m"
   ]
  },
  {
   "cell_type": "code",
   "execution_count": 71,
   "id": "bb2ba1bd",
   "metadata": {},
   "outputs": [],
   "source": [
    "df_pop_19_m = df_pop_19_m.rename(columns={'variable':'연도', 'value':'인구수'})"
   ]
  },
  {
   "cell_type": "code",
   "execution_count": null,
   "id": "81b78787",
   "metadata": {},
   "outputs": [],
   "source": [
    "df_pop_19_m.loc[]"
   ]
  },
  {
   "cell_type": "code",
   "execution_count": 79,
   "id": "32323b87",
   "metadata": {},
   "outputs": [
    {
     "data": {
      "text/html": [
       "<div>\n",
       "<style scoped>\n",
       "    .dataframe tbody tr th:only-of-type {\n",
       "        vertical-align: middle;\n",
       "    }\n",
       "\n",
       "    .dataframe tbody tr th {\n",
       "        vertical-align: top;\n",
       "    }\n",
       "\n",
       "    .dataframe thead th {\n",
       "        text-align: right;\n",
       "    }\n",
       "</style>\n",
       "<table border=\"1\" class=\"dataframe\">\n",
       "  <thead>\n",
       "    <tr style=\"text-align: right;\">\n",
       "      <th></th>\n",
       "      <th>연령별</th>\n",
       "      <th>연도</th>\n",
       "      <th>인구수</th>\n",
       "    </tr>\n",
       "  </thead>\n",
       "  <tbody>\n",
       "    <tr>\n",
       "      <th>0</th>\n",
       "      <td>19세 미만</td>\n",
       "      <td>2015</td>\n",
       "      <td>10077252.0</td>\n",
       "    </tr>\n",
       "    <tr>\n",
       "      <th>2</th>\n",
       "      <td>19세 미만</td>\n",
       "      <td>2016</td>\n",
       "      <td>9825066.0</td>\n",
       "    </tr>\n",
       "    <tr>\n",
       "      <th>4</th>\n",
       "      <td>19세 미만</td>\n",
       "      <td>2017</td>\n",
       "      <td>9523339.0</td>\n",
       "    </tr>\n",
       "    <tr>\n",
       "      <th>6</th>\n",
       "      <td>19세 미만</td>\n",
       "      <td>2018</td>\n",
       "      <td>9215155.0</td>\n",
       "    </tr>\n",
       "    <tr>\n",
       "      <th>8</th>\n",
       "      <td>19세 미만</td>\n",
       "      <td>2019</td>\n",
       "      <td>8907564.0</td>\n",
       "    </tr>\n",
       "  </tbody>\n",
       "</table>\n",
       "</div>"
      ],
      "text/plain": [
       "      연령별    연도         인구수\n",
       "0  19세 미만  2015  10077252.0\n",
       "2  19세 미만  2016   9825066.0\n",
       "4  19세 미만  2017   9523339.0\n",
       "6  19세 미만  2018   9215155.0\n",
       "8  19세 미만  2019   8907564.0"
      ]
     },
     "execution_count": 79,
     "metadata": {},
     "output_type": "execute_result"
    }
   ],
   "source": [
    "df_pop_19_m[df_pop_19_m['연령별']=='19세 미만']"
   ]
  },
  {
   "cell_type": "code",
   "execution_count": 108,
   "id": "947e4caf",
   "metadata": {},
   "outputs": [
    {
     "data": {
      "text/plain": [
       "<AxesSubplot:xlabel='연도'>"
      ]
     },
     "execution_count": 108,
     "metadata": {},
     "output_type": "execute_result"
    },
    {
     "data": {
      "image/png": "[encoded data removed]",
      "text/plain": [
       "<Figure size 1080x288 with 1 Axes>"
      ]
     },
     "metadata": {
      "needs_background": "light"
     },
     "output_type": "display_data"
    },
    {
     "data": {
      "image/png": "[encoded data removed]",
      "text/plain": [
       "<Figure size 1080x288 with 1 Axes>"
      ]
     },
     "metadata": {
      "needs_background": "light"
     },
     "output_type": "display_data"
    }
   ],
   "source": [
    "df_pop_19_m[df_pop_19_m['연령별']=='19세 미만'].set_index(['연도']).plot(figsize=(15,4), color = 'red')\n",
    "df_pop_19_m[df_pop_19_m['연령별']=='19세 이상'].set_index(['연도']).plot(figsize=(15,4))"
   ]
  },
  {
   "cell_type": "code",
   "execution_count": 111,
   "id": "9717132a",
   "metadata": {},
   "outputs": [
    {
     "data": {
      "image/png": "[encoded data removed]",
      "text/plain": [
       "<Figure size 1080x288 with 1 Axes>"
      ]
     },
     "metadata": {
      "needs_background": "light"
     },
     "output_type": "display_data"
    }
   ],
   "source": [
    "df_under = df_pop_19_m[df_pop_19_m['연령별']=='19세 미만'].set_index(['연도']).plot(color='red')\n",
    "df_top = df_pop_19_m[df_pop_19_m['연령별']=='19세 이상'].set_index(['연도']).plot(ax=df_under, figsize=(15,4))"
   ]
  },
  {
   "cell_type": "markdown",
   "id": "9ef95aa9",
   "metadata": {},
   "source": [
    "**19세 미만** 인구는 감소하고 있고 **19세 이상** 인구는 증가하고 있음"
   ]
  },
  {
   "cell_type": "markdown",
   "id": "f6913bb3",
   "metadata": {},
   "source": [
    "# 소년 중 범죄자 수"
   ]
  },
  {
   "cell_type": "code",
   "execution_count": null,
   "id": "0aede509",
   "metadata": {},
   "outputs": [],
   "source": []
  }
 ],
 "metadata": {
  "kernelspec": {
   "display_name": "Python 3",
   "language": "python",
   "name": "python3"
  },
  "language_info": {
   "codemirror_mode": {
    "name": "ipython",
    "version": 3
   },
   "file_extension": ".py",
   "mimetype": "text/x-python",
   "name": "python",
   "nbconvert_exporter": "python",
   "pygments_lexer": "ipython3",
   "version": "3.8.8"
  }
 },
 "nbformat": 4,
 "nbformat_minor": 5
}
