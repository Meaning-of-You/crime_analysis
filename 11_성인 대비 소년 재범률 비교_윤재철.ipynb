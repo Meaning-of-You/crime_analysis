{
 "cells": [
  {
   "cell_type": "code",
   "execution_count": 14,
   "source": [
    "import pandas as pd\r\n",
    "import matplotlib as mp\r\n",
    "import matplotlib.pyplot as plt\r\n",
    "import seaborn as sns"
   ],
   "outputs": [],
   "metadata": {}
  },
  {
   "cell_type": "markdown",
   "source": [
    "- 기준년도 이전의 전과정보를 기준으로 기준년도에 발생한 범죄의 범죄자 수?\r\n",
    "- 전과없음 : 초범\r\n",
    "- 전과있음 : 재범"
   ],
   "metadata": {}
  },
  {
   "cell_type": "code",
   "execution_count": 2,
   "source": [
    "# 라이브러리 import\r\n",
    "import pandas as pd\r\n",
    "\r\n",
    "import matplotlib as mp\r\n",
    "import matplotlib.pyplot as plt\r\n",
    "import seaborn as sns"
   ],
   "outputs": [],
   "metadata": {}
  },
  {
   "cell_type": "code",
   "execution_count": 7,
   "source": [
    "# 데이터 불러오기\r\n",
    "df = pd.read_csv('./Data/11_성인 대비 소년 재범률 비교.csv', encoding='cp949') \r\n",
    "df.fillna(0, inplace=True)\r\n",
    "df.head()"
   ],
   "outputs": [
    {
     "output_type": "execute_result",
     "data": {
      "text/plain": [
       "   전과별(1)  전과별(2)    2019 2019.1\n",
       "0  전과별(1)  전과별(2)      성인     소년\n",
       "1  전과별(1)  전과별(2)       계      계\n",
       "2    전과있음      소계  695998  21457\n",
       "3    전과있음      1범  151044   6681\n",
       "4    전과있음      2범  104976   3360"
      ],
      "text/html": [
       "<div>\n",
       "<style scoped>\n",
       "    .dataframe tbody tr th:only-of-type {\n",
       "        vertical-align: middle;\n",
       "    }\n",
       "\n",
       "    .dataframe tbody tr th {\n",
       "        vertical-align: top;\n",
       "    }\n",
       "\n",
       "    .dataframe thead th {\n",
       "        text-align: right;\n",
       "    }\n",
       "</style>\n",
       "<table border=\"1\" class=\"dataframe\">\n",
       "  <thead>\n",
       "    <tr style=\"text-align: right;\">\n",
       "      <th></th>\n",
       "      <th>전과별(1)</th>\n",
       "      <th>전과별(2)</th>\n",
       "      <th>2019</th>\n",
       "      <th>2019.1</th>\n",
       "    </tr>\n",
       "  </thead>\n",
       "  <tbody>\n",
       "    <tr>\n",
       "      <th>0</th>\n",
       "      <td>전과별(1)</td>\n",
       "      <td>전과별(2)</td>\n",
       "      <td>성인</td>\n",
       "      <td>소년</td>\n",
       "    </tr>\n",
       "    <tr>\n",
       "      <th>1</th>\n",
       "      <td>전과별(1)</td>\n",
       "      <td>전과별(2)</td>\n",
       "      <td>계</td>\n",
       "      <td>계</td>\n",
       "    </tr>\n",
       "    <tr>\n",
       "      <th>2</th>\n",
       "      <td>전과있음</td>\n",
       "      <td>소계</td>\n",
       "      <td>695998</td>\n",
       "      <td>21457</td>\n",
       "    </tr>\n",
       "    <tr>\n",
       "      <th>3</th>\n",
       "      <td>전과있음</td>\n",
       "      <td>1범</td>\n",
       "      <td>151044</td>\n",
       "      <td>6681</td>\n",
       "    </tr>\n",
       "    <tr>\n",
       "      <th>4</th>\n",
       "      <td>전과있음</td>\n",
       "      <td>2범</td>\n",
       "      <td>104976</td>\n",
       "      <td>3360</td>\n",
       "    </tr>\n",
       "  </tbody>\n",
       "</table>\n",
       "</div>"
      ]
     },
     "metadata": {},
     "execution_count": 7
    }
   ],
   "metadata": {}
  },
  {
   "cell_type": "code",
   "execution_count": 8,
   "source": [
    "# 컬럼, 및 계 항목 정리\r\n",
    "df = df.drop(columns=['전과별(1)'])\r\n",
    "df = df[3:]\r\n",
    "df"
   ],
   "outputs": [
    {
     "output_type": "execute_result",
     "data": {
      "text/plain": [
       "   전과별(2)    2019 2019.1\n",
       "3      1범  151044   6681\n",
       "4      2범  104976   3360\n",
       "5      3범   78114   2517\n",
       "6      4범   58702   1597\n",
       "7      5범   47336   1228\n",
       "8      6범   36425    988\n",
       "9      7범   29726    724\n",
       "10     8범   23252    604\n",
       "11   9범이상  166423   3758"
      ],
      "text/html": [
       "<div>\n",
       "<style scoped>\n",
       "    .dataframe tbody tr th:only-of-type {\n",
       "        vertical-align: middle;\n",
       "    }\n",
       "\n",
       "    .dataframe tbody tr th {\n",
       "        vertical-align: top;\n",
       "    }\n",
       "\n",
       "    .dataframe thead th {\n",
       "        text-align: right;\n",
       "    }\n",
       "</style>\n",
       "<table border=\"1\" class=\"dataframe\">\n",
       "  <thead>\n",
       "    <tr style=\"text-align: right;\">\n",
       "      <th></th>\n",
       "      <th>전과별(2)</th>\n",
       "      <th>2019</th>\n",
       "      <th>2019.1</th>\n",
       "    </tr>\n",
       "  </thead>\n",
       "  <tbody>\n",
       "    <tr>\n",
       "      <th>3</th>\n",
       "      <td>1범</td>\n",
       "      <td>151044</td>\n",
       "      <td>6681</td>\n",
       "    </tr>\n",
       "    <tr>\n",
       "      <th>4</th>\n",
       "      <td>2범</td>\n",
       "      <td>104976</td>\n",
       "      <td>3360</td>\n",
       "    </tr>\n",
       "    <tr>\n",
       "      <th>5</th>\n",
       "      <td>3범</td>\n",
       "      <td>78114</td>\n",
       "      <td>2517</td>\n",
       "    </tr>\n",
       "    <tr>\n",
       "      <th>6</th>\n",
       "      <td>4범</td>\n",
       "      <td>58702</td>\n",
       "      <td>1597</td>\n",
       "    </tr>\n",
       "    <tr>\n",
       "      <th>7</th>\n",
       "      <td>5범</td>\n",
       "      <td>47336</td>\n",
       "      <td>1228</td>\n",
       "    </tr>\n",
       "    <tr>\n",
       "      <th>8</th>\n",
       "      <td>6범</td>\n",
       "      <td>36425</td>\n",
       "      <td>988</td>\n",
       "    </tr>\n",
       "    <tr>\n",
       "      <th>9</th>\n",
       "      <td>7범</td>\n",
       "      <td>29726</td>\n",
       "      <td>724</td>\n",
       "    </tr>\n",
       "    <tr>\n",
       "      <th>10</th>\n",
       "      <td>8범</td>\n",
       "      <td>23252</td>\n",
       "      <td>604</td>\n",
       "    </tr>\n",
       "    <tr>\n",
       "      <th>11</th>\n",
       "      <td>9범이상</td>\n",
       "      <td>166423</td>\n",
       "      <td>3758</td>\n",
       "    </tr>\n",
       "  </tbody>\n",
       "</table>\n",
       "</div>"
      ]
     },
     "metadata": {},
     "execution_count": 8
    }
   ],
   "metadata": {}
  },
  {
   "cell_type": "markdown",
   "source": [
    "# 범죄자수 비교"
   ],
   "metadata": {}
  },
  {
   "cell_type": "code",
   "execution_count": 32,
   "source": [
    "df.columns = ['전과', '성인', '소년']\r\n",
    "df['성인'] = df['성인'].str.replace(',', '').astype(int)\r\n",
    "df['소년'] = df['소년'].str.replace(',', '').astype(int)\r\n",
    "\r\n",
    "df"
   ],
   "outputs": [
    {
     "output_type": "execute_result",
     "data": {
      "text/plain": [
       "      전과      성인    소년\n",
       "3     1범  151044  6681\n",
       "4     2범  104976  3360\n",
       "5     3범   78114  2517\n",
       "6     4범   58702  1597\n",
       "7     5범   47336  1228\n",
       "8     6범   36425   988\n",
       "9     7범   29726   724\n",
       "10    8범   23252   604\n",
       "11  9범이상  166423  3758"
      ],
      "text/html": [
       "<div>\n",
       "<style scoped>\n",
       "    .dataframe tbody tr th:only-of-type {\n",
       "        vertical-align: middle;\n",
       "    }\n",
       "\n",
       "    .dataframe tbody tr th {\n",
       "        vertical-align: top;\n",
       "    }\n",
       "\n",
       "    .dataframe thead th {\n",
       "        text-align: right;\n",
       "    }\n",
       "</style>\n",
       "<table border=\"1\" class=\"dataframe\">\n",
       "  <thead>\n",
       "    <tr style=\"text-align: right;\">\n",
       "      <th></th>\n",
       "      <th>전과</th>\n",
       "      <th>성인</th>\n",
       "      <th>소년</th>\n",
       "    </tr>\n",
       "  </thead>\n",
       "  <tbody>\n",
       "    <tr>\n",
       "      <th>3</th>\n",
       "      <td>1범</td>\n",
       "      <td>151044</td>\n",
       "      <td>6681</td>\n",
       "    </tr>\n",
       "    <tr>\n",
       "      <th>4</th>\n",
       "      <td>2범</td>\n",
       "      <td>104976</td>\n",
       "      <td>3360</td>\n",
       "    </tr>\n",
       "    <tr>\n",
       "      <th>5</th>\n",
       "      <td>3범</td>\n",
       "      <td>78114</td>\n",
       "      <td>2517</td>\n",
       "    </tr>\n",
       "    <tr>\n",
       "      <th>6</th>\n",
       "      <td>4범</td>\n",
       "      <td>58702</td>\n",
       "      <td>1597</td>\n",
       "    </tr>\n",
       "    <tr>\n",
       "      <th>7</th>\n",
       "      <td>5범</td>\n",
       "      <td>47336</td>\n",
       "      <td>1228</td>\n",
       "    </tr>\n",
       "    <tr>\n",
       "      <th>8</th>\n",
       "      <td>6범</td>\n",
       "      <td>36425</td>\n",
       "      <td>988</td>\n",
       "    </tr>\n",
       "    <tr>\n",
       "      <th>9</th>\n",
       "      <td>7범</td>\n",
       "      <td>29726</td>\n",
       "      <td>724</td>\n",
       "    </tr>\n",
       "    <tr>\n",
       "      <th>10</th>\n",
       "      <td>8범</td>\n",
       "      <td>23252</td>\n",
       "      <td>604</td>\n",
       "    </tr>\n",
       "    <tr>\n",
       "      <th>11</th>\n",
       "      <td>9범이상</td>\n",
       "      <td>166423</td>\n",
       "      <td>3758</td>\n",
       "    </tr>\n",
       "  </tbody>\n",
       "</table>\n",
       "</div>"
      ]
     },
     "metadata": {},
     "execution_count": 32
    }
   ],
   "metadata": {}
  },
  {
   "cell_type": "code",
   "execution_count": 26,
   "source": [
    "df_graph = df[1:].melt('전과')"
   ],
   "outputs": [],
   "metadata": {}
  },
  {
   "cell_type": "code",
   "execution_count": 33,
   "source": [
    "df_graph.columns = ['전과', '구분', '범죄자수']\r\n",
    "df_graph"
   ],
   "outputs": [
    {
     "output_type": "execute_result",
     "data": {
      "text/plain": [
       "      전과  구분    범죄자수\n",
       "0     2범  성인  104976\n",
       "1     3범  성인   78114\n",
       "2     4범  성인   58702\n",
       "3     5범  성인   47336\n",
       "4     6범  성인   36425\n",
       "5     7범  성인   29726\n",
       "6     8범  성인   23252\n",
       "7   9범이상  성인  166423\n",
       "8     2범  소년    3360\n",
       "9     3범  소년    2517\n",
       "10    4범  소년    1597\n",
       "11    5범  소년    1228\n",
       "12    6범  소년     988\n",
       "13    7범  소년     724\n",
       "14    8범  소년     604\n",
       "15  9범이상  소년    3758"
      ],
      "text/html": [
       "<div>\n",
       "<style scoped>\n",
       "    .dataframe tbody tr th:only-of-type {\n",
       "        vertical-align: middle;\n",
       "    }\n",
       "\n",
       "    .dataframe tbody tr th {\n",
       "        vertical-align: top;\n",
       "    }\n",
       "\n",
       "    .dataframe thead th {\n",
       "        text-align: right;\n",
       "    }\n",
       "</style>\n",
       "<table border=\"1\" class=\"dataframe\">\n",
       "  <thead>\n",
       "    <tr style=\"text-align: right;\">\n",
       "      <th></th>\n",
       "      <th>전과</th>\n",
       "      <th>구분</th>\n",
       "      <th>범죄자수</th>\n",
       "    </tr>\n",
       "  </thead>\n",
       "  <tbody>\n",
       "    <tr>\n",
       "      <th>0</th>\n",
       "      <td>2범</td>\n",
       "      <td>성인</td>\n",
       "      <td>104976</td>\n",
       "    </tr>\n",
       "    <tr>\n",
       "      <th>1</th>\n",
       "      <td>3범</td>\n",
       "      <td>성인</td>\n",
       "      <td>78114</td>\n",
       "    </tr>\n",
       "    <tr>\n",
       "      <th>2</th>\n",
       "      <td>4범</td>\n",
       "      <td>성인</td>\n",
       "      <td>58702</td>\n",
       "    </tr>\n",
       "    <tr>\n",
       "      <th>3</th>\n",
       "      <td>5범</td>\n",
       "      <td>성인</td>\n",
       "      <td>47336</td>\n",
       "    </tr>\n",
       "    <tr>\n",
       "      <th>4</th>\n",
       "      <td>6범</td>\n",
       "      <td>성인</td>\n",
       "      <td>36425</td>\n",
       "    </tr>\n",
       "    <tr>\n",
       "      <th>5</th>\n",
       "      <td>7범</td>\n",
       "      <td>성인</td>\n",
       "      <td>29726</td>\n",
       "    </tr>\n",
       "    <tr>\n",
       "      <th>6</th>\n",
       "      <td>8범</td>\n",
       "      <td>성인</td>\n",
       "      <td>23252</td>\n",
       "    </tr>\n",
       "    <tr>\n",
       "      <th>7</th>\n",
       "      <td>9범이상</td>\n",
       "      <td>성인</td>\n",
       "      <td>166423</td>\n",
       "    </tr>\n",
       "    <tr>\n",
       "      <th>8</th>\n",
       "      <td>2범</td>\n",
       "      <td>소년</td>\n",
       "      <td>3360</td>\n",
       "    </tr>\n",
       "    <tr>\n",
       "      <th>9</th>\n",
       "      <td>3범</td>\n",
       "      <td>소년</td>\n",
       "      <td>2517</td>\n",
       "    </tr>\n",
       "    <tr>\n",
       "      <th>10</th>\n",
       "      <td>4범</td>\n",
       "      <td>소년</td>\n",
       "      <td>1597</td>\n",
       "    </tr>\n",
       "    <tr>\n",
       "      <th>11</th>\n",
       "      <td>5범</td>\n",
       "      <td>소년</td>\n",
       "      <td>1228</td>\n",
       "    </tr>\n",
       "    <tr>\n",
       "      <th>12</th>\n",
       "      <td>6범</td>\n",
       "      <td>소년</td>\n",
       "      <td>988</td>\n",
       "    </tr>\n",
       "    <tr>\n",
       "      <th>13</th>\n",
       "      <td>7범</td>\n",
       "      <td>소년</td>\n",
       "      <td>724</td>\n",
       "    </tr>\n",
       "    <tr>\n",
       "      <th>14</th>\n",
       "      <td>8범</td>\n",
       "      <td>소년</td>\n",
       "      <td>604</td>\n",
       "    </tr>\n",
       "    <tr>\n",
       "      <th>15</th>\n",
       "      <td>9범이상</td>\n",
       "      <td>소년</td>\n",
       "      <td>3758</td>\n",
       "    </tr>\n",
       "  </tbody>\n",
       "</table>\n",
       "</div>"
      ]
     },
     "metadata": {},
     "execution_count": 33
    }
   ],
   "metadata": {}
  },
  {
   "cell_type": "code",
   "execution_count": 34,
   "source": [
    "df_graph.info()"
   ],
   "outputs": [
    {
     "output_type": "stream",
     "name": "stdout",
     "text": [
      "<class 'pandas.core.frame.DataFrame'>\n",
      "RangeIndex: 16 entries, 0 to 15\n",
      "Data columns (total 3 columns):\n",
      " #   Column  Non-Null Count  Dtype \n",
      "---  ------  --------------  ----- \n",
      " 0   전과      16 non-null     object\n",
      " 1   구분      16 non-null     object\n",
      " 2   범죄자수    16 non-null     int32 \n",
      "dtypes: int32(1), object(2)\n",
      "memory usage: 448.0+ bytes\n"
     ]
    }
   ],
   "metadata": {}
  },
  {
   "cell_type": "code",
   "execution_count": 35,
   "source": [
    "# 그래프 그리기\r\n",
    "\r\n",
    "fm = mp.font_manager.FontManager()\r\n",
    "#한글 지원하는 폰트명으로 재할당\r\n",
    "plt.rcParams['font.family'] = 'Malgun Gothic'\r\n",
    "#plt.rc('font', family='Malgun Gothic')"
   ],
   "outputs": [],
   "metadata": {}
  },
  {
   "cell_type": "code",
   "execution_count": 36,
   "source": [
    "plt.figure(figsize=(24,6))\r\n",
    "plt.xticks(rotation=45)\r\n",
    "sns.barplot(data=df_graph, x='전과',y ='범죄자수', hue='구분')"
   ],
   "outputs": [
    {
     "output_type": "execute_result",
     "data": {
      "text/plain": [
       "<AxesSubplot:xlabel='전과', ylabel='범죄자수'>"
      ]
     },
     "metadata": {},
     "execution_count": 36
    },
    {
     "output_type": "display_data",
     "data": {
      "text/plain": [
       "<Figure size 1728x432 with 1 Axes>"
      ],
      "image/png": "[encoded data removed]"
     },
     "metadata": {
      "needs_background": "light"
     }
    }
   ],
   "metadata": {}
  },
  {
   "cell_type": "markdown",
   "source": [
    "# 재범률 비교"
   ],
   "metadata": {}
  },
  {
   "cell_type": "code",
   "execution_count": 37,
   "source": [
    "count_old = df['성인'].sum()\r\n",
    "count_young = df['소년'].sum()\r\n",
    "\r\n",
    "print(count_old, count_young)"
   ],
   "outputs": [
    {
     "output_type": "stream",
     "name": "stdout",
     "text": [
      "695998 21457\n"
     ]
    }
   ],
   "metadata": {}
  },
  {
   "cell_type": "code",
   "execution_count": 62,
   "source": [
    "s_old = df['성인'] / count_old * 100\r\n",
    "s_young = df['소년'] / count_young * 100\r\n",
    "\r\n",
    "df_grapg2 = df[['전과']].copy()\r\n",
    "df_grapg2['성인'] = s_old\r\n",
    "df_grapg2['소년'] = s_young\r\n",
    "\r\n",
    "df_grapg2.info()\r\n"
   ],
   "outputs": [
    {
     "output_type": "stream",
     "name": "stdout",
     "text": [
      "<class 'pandas.core.frame.DataFrame'>\n",
      "RangeIndex: 9 entries, 3 to 11\n",
      "Data columns (total 3 columns):\n",
      " #   Column  Non-Null Count  Dtype  \n",
      "---  ------  --------------  -----  \n",
      " 0   전과      9 non-null      object \n",
      " 1   성인      9 non-null      float64\n",
      " 2   소년      9 non-null      float64\n",
      "dtypes: float64(2), object(1)\n",
      "memory usage: 348.0+ bytes\n"
     ]
    }
   ],
   "metadata": {}
  },
  {
   "cell_type": "code",
   "execution_count": 63,
   "source": [
    "df_graph2 = df_grapg2.melt('전과')\r\n",
    "df_graph2.columns = ['전과', '구분', '범죄자수']\r\n",
    "df_graph2"
   ],
   "outputs": [
    {
     "output_type": "execute_result",
     "data": {
      "text/plain": [
       "      전과  구분       범죄자수\n",
       "0     1범  성인  21.701786\n",
       "1     2범  성인  15.082802\n",
       "2     3범  성인  11.223308\n",
       "3     4범  성인   8.434220\n",
       "4     5범  성인   6.801169\n",
       "5     6범  성인   5.233492\n",
       "6     7범  성인   4.270989\n",
       "7     8범  성인   3.340814\n",
       "8   9범이상  성인  23.911419\n",
       "9     1범  소년  31.136692\n",
       "10    2범  소년  15.659225\n",
       "11    3범  소년  11.730438\n",
       "12    4범  소년   7.442793\n",
       "13    5범  소년   5.723074\n",
       "14    6범  소년   4.604558\n",
       "15    7범  소년   3.374190\n",
       "16    8범  소년   2.814932\n",
       "17  9범이상  소년  17.514098"
      ],
      "text/html": [
       "<div>\n",
       "<style scoped>\n",
       "    .dataframe tbody tr th:only-of-type {\n",
       "        vertical-align: middle;\n",
       "    }\n",
       "\n",
       "    .dataframe tbody tr th {\n",
       "        vertical-align: top;\n",
       "    }\n",
       "\n",
       "    .dataframe thead th {\n",
       "        text-align: right;\n",
       "    }\n",
       "</style>\n",
       "<table border=\"1\" class=\"dataframe\">\n",
       "  <thead>\n",
       "    <tr style=\"text-align: right;\">\n",
       "      <th></th>\n",
       "      <th>전과</th>\n",
       "      <th>구분</th>\n",
       "      <th>범죄자수</th>\n",
       "    </tr>\n",
       "  </thead>\n",
       "  <tbody>\n",
       "    <tr>\n",
       "      <th>0</th>\n",
       "      <td>1범</td>\n",
       "      <td>성인</td>\n",
       "      <td>21.701786</td>\n",
       "    </tr>\n",
       "    <tr>\n",
       "      <th>1</th>\n",
       "      <td>2범</td>\n",
       "      <td>성인</td>\n",
       "      <td>15.082802</td>\n",
       "    </tr>\n",
       "    <tr>\n",
       "      <th>2</th>\n",
       "      <td>3범</td>\n",
       "      <td>성인</td>\n",
       "      <td>11.223308</td>\n",
       "    </tr>\n",
       "    <tr>\n",
       "      <th>3</th>\n",
       "      <td>4범</td>\n",
       "      <td>성인</td>\n",
       "      <td>8.434220</td>\n",
       "    </tr>\n",
       "    <tr>\n",
       "      <th>4</th>\n",
       "      <td>5범</td>\n",
       "      <td>성인</td>\n",
       "      <td>6.801169</td>\n",
       "    </tr>\n",
       "    <tr>\n",
       "      <th>5</th>\n",
       "      <td>6범</td>\n",
       "      <td>성인</td>\n",
       "      <td>5.233492</td>\n",
       "    </tr>\n",
       "    <tr>\n",
       "      <th>6</th>\n",
       "      <td>7범</td>\n",
       "      <td>성인</td>\n",
       "      <td>4.270989</td>\n",
       "    </tr>\n",
       "    <tr>\n",
       "      <th>7</th>\n",
       "      <td>8범</td>\n",
       "      <td>성인</td>\n",
       "      <td>3.340814</td>\n",
       "    </tr>\n",
       "    <tr>\n",
       "      <th>8</th>\n",
       "      <td>9범이상</td>\n",
       "      <td>성인</td>\n",
       "      <td>23.911419</td>\n",
       "    </tr>\n",
       "    <tr>\n",
       "      <th>9</th>\n",
       "      <td>1범</td>\n",
       "      <td>소년</td>\n",
       "      <td>31.136692</td>\n",
       "    </tr>\n",
       "    <tr>\n",
       "      <th>10</th>\n",
       "      <td>2범</td>\n",
       "      <td>소년</td>\n",
       "      <td>15.659225</td>\n",
       "    </tr>\n",
       "    <tr>\n",
       "      <th>11</th>\n",
       "      <td>3범</td>\n",
       "      <td>소년</td>\n",
       "      <td>11.730438</td>\n",
       "    </tr>\n",
       "    <tr>\n",
       "      <th>12</th>\n",
       "      <td>4범</td>\n",
       "      <td>소년</td>\n",
       "      <td>7.442793</td>\n",
       "    </tr>\n",
       "    <tr>\n",
       "      <th>13</th>\n",
       "      <td>5범</td>\n",
       "      <td>소년</td>\n",
       "      <td>5.723074</td>\n",
       "    </tr>\n",
       "    <tr>\n",
       "      <th>14</th>\n",
       "      <td>6범</td>\n",
       "      <td>소년</td>\n",
       "      <td>4.604558</td>\n",
       "    </tr>\n",
       "    <tr>\n",
       "      <th>15</th>\n",
       "      <td>7범</td>\n",
       "      <td>소년</td>\n",
       "      <td>3.374190</td>\n",
       "    </tr>\n",
       "    <tr>\n",
       "      <th>16</th>\n",
       "      <td>8범</td>\n",
       "      <td>소년</td>\n",
       "      <td>2.814932</td>\n",
       "    </tr>\n",
       "    <tr>\n",
       "      <th>17</th>\n",
       "      <td>9범이상</td>\n",
       "      <td>소년</td>\n",
       "      <td>17.514098</td>\n",
       "    </tr>\n",
       "  </tbody>\n",
       "</table>\n",
       "</div>"
      ]
     },
     "metadata": {},
     "execution_count": 63
    }
   ],
   "metadata": {}
  },
  {
   "cell_type": "code",
   "execution_count": 64,
   "source": [
    "plt.figure(figsize=(24,6))\r\n",
    "plt.xticks(rotation=45)\r\n",
    "sns.barplot(data=df_graph2, x='전과',y ='범죄자수', hue='구분')"
   ],
   "outputs": [
    {
     "output_type": "execute_result",
     "data": {
      "text/plain": [
       "<AxesSubplot:xlabel='전과', ylabel='범죄자수'>"
      ]
     },
     "metadata": {},
     "execution_count": 64
    },
    {
     "output_type": "display_data",
     "data": {
      "text/plain": [
       "<Figure size 1728x432 with 1 Axes>"
      ],
      "image/png": "[encoded data removed]"
     },
     "metadata": {
      "needs_background": "light"
     }
    }
   ],
   "metadata": {}
  },
  {
   "cell_type": "code",
   "execution_count": null,
   "source": [
    "# 비율로 보았을 때 소년범죄는 초범 비율이 높고 재범 비율은 성인에 비해 낮아보인다.\r\n",
    "# 분석이 잘못된걸까?"
   ],
   "outputs": [],
   "metadata": {}
  },
  {
   "cell_type": "code",
   "execution_count": 5,
   "source": [
    "# 데이터 불러오기\r\n",
    "df = pd.read_csv('./Data/11_성인 대비 소년 재범률 비교_2.csv', encoding='cp949') \r\n",
    "df.fillna(0, inplace=True)\r\n",
    "df.head()"
   ],
   "outputs": [
    {
     "output_type": "execute_result",
     "data": {
      "text/plain": [
       "   전과별(1)  전과별(2)   2006   2007    2008    2009   2010    2011    2012   2013  \\\n",
       "0  전과별(1)  전과별(2)     소년     소년      소년      소년     소년      소년      소년     소년   \n",
       "1  전과별(1)  전과별(2)      계      계       계       계      계       계       계      계   \n",
       "2      합계      소계  69012  87798  134340  112685  89580  102162  107452  91573   \n",
       "3    전과있음      소계  19975  25522   35399   36571  31521   37238   40200  38039   \n",
       "4    전과있음      1범   9185  11531   15470   15095  12086   13635   14402  12385   \n",
       "\n",
       "    2014   2015   2016   2017   2018   2019  \n",
       "0     소년     소년     소년     소년     소년     소년  \n",
       "1      계      계      계      계      계      계  \n",
       "2  77567  71034  76000  72754  66135  66243  \n",
       "3  29652  27055  26260  24040  22308  21457  \n",
       "4   9853   8636   8444   8039   7164   6681  "
      ],
      "text/html": [
       "<div>\n",
       "<style scoped>\n",
       "    .dataframe tbody tr th:only-of-type {\n",
       "        vertical-align: middle;\n",
       "    }\n",
       "\n",
       "    .dataframe tbody tr th {\n",
       "        vertical-align: top;\n",
       "    }\n",
       "\n",
       "    .dataframe thead th {\n",
       "        text-align: right;\n",
       "    }\n",
       "</style>\n",
       "<table border=\"1\" class=\"dataframe\">\n",
       "  <thead>\n",
       "    <tr style=\"text-align: right;\">\n",
       "      <th></th>\n",
       "      <th>전과별(1)</th>\n",
       "      <th>전과별(2)</th>\n",
       "      <th>2006</th>\n",
       "      <th>2007</th>\n",
       "      <th>2008</th>\n",
       "      <th>2009</th>\n",
       "      <th>2010</th>\n",
       "      <th>2011</th>\n",
       "      <th>2012</th>\n",
       "      <th>2013</th>\n",
       "      <th>2014</th>\n",
       "      <th>2015</th>\n",
       "      <th>2016</th>\n",
       "      <th>2017</th>\n",
       "      <th>2018</th>\n",
       "      <th>2019</th>\n",
       "    </tr>\n",
       "  </thead>\n",
       "  <tbody>\n",
       "    <tr>\n",
       "      <th>0</th>\n",
       "      <td>전과별(1)</td>\n",
       "      <td>전과별(2)</td>\n",
       "      <td>소년</td>\n",
       "      <td>소년</td>\n",
       "      <td>소년</td>\n",
       "      <td>소년</td>\n",
       "      <td>소년</td>\n",
       "      <td>소년</td>\n",
       "      <td>소년</td>\n",
       "      <td>소년</td>\n",
       "      <td>소년</td>\n",
       "      <td>소년</td>\n",
       "      <td>소년</td>\n",
       "      <td>소년</td>\n",
       "      <td>소년</td>\n",
       "      <td>소년</td>\n",
       "    </tr>\n",
       "    <tr>\n",
       "      <th>1</th>\n",
       "      <td>전과별(1)</td>\n",
       "      <td>전과별(2)</td>\n",
       "      <td>계</td>\n",
       "      <td>계</td>\n",
       "      <td>계</td>\n",
       "      <td>계</td>\n",
       "      <td>계</td>\n",
       "      <td>계</td>\n",
       "      <td>계</td>\n",
       "      <td>계</td>\n",
       "      <td>계</td>\n",
       "      <td>계</td>\n",
       "      <td>계</td>\n",
       "      <td>계</td>\n",
       "      <td>계</td>\n",
       "      <td>계</td>\n",
       "    </tr>\n",
       "    <tr>\n",
       "      <th>2</th>\n",
       "      <td>합계</td>\n",
       "      <td>소계</td>\n",
       "      <td>69012</td>\n",
       "      <td>87798</td>\n",
       "      <td>134340</td>\n",
       "      <td>112685</td>\n",
       "      <td>89580</td>\n",
       "      <td>102162</td>\n",
       "      <td>107452</td>\n",
       "      <td>91573</td>\n",
       "      <td>77567</td>\n",
       "      <td>71034</td>\n",
       "      <td>76000</td>\n",
       "      <td>72754</td>\n",
       "      <td>66135</td>\n",
       "      <td>66243</td>\n",
       "    </tr>\n",
       "    <tr>\n",
       "      <th>3</th>\n",
       "      <td>전과있음</td>\n",
       "      <td>소계</td>\n",
       "      <td>19975</td>\n",
       "      <td>25522</td>\n",
       "      <td>35399</td>\n",
       "      <td>36571</td>\n",
       "      <td>31521</td>\n",
       "      <td>37238</td>\n",
       "      <td>40200</td>\n",
       "      <td>38039</td>\n",
       "      <td>29652</td>\n",
       "      <td>27055</td>\n",
       "      <td>26260</td>\n",
       "      <td>24040</td>\n",
       "      <td>22308</td>\n",
       "      <td>21457</td>\n",
       "    </tr>\n",
       "    <tr>\n",
       "      <th>4</th>\n",
       "      <td>전과있음</td>\n",
       "      <td>1범</td>\n",
       "      <td>9185</td>\n",
       "      <td>11531</td>\n",
       "      <td>15470</td>\n",
       "      <td>15095</td>\n",
       "      <td>12086</td>\n",
       "      <td>13635</td>\n",
       "      <td>14402</td>\n",
       "      <td>12385</td>\n",
       "      <td>9853</td>\n",
       "      <td>8636</td>\n",
       "      <td>8444</td>\n",
       "      <td>8039</td>\n",
       "      <td>7164</td>\n",
       "      <td>6681</td>\n",
       "    </tr>\n",
       "  </tbody>\n",
       "</table>\n",
       "</div>"
      ]
     },
     "metadata": {},
     "execution_count": 5
    }
   ],
   "metadata": {}
  },
  {
   "cell_type": "code",
   "execution_count": 50,
   "source": [
    "# 재범합계와 초범합계만 추출\r\n",
    "df_result = pd.concat([df[2:3], df[3:4]]) # , df[13:14] : 초범\r\n",
    "\r\n",
    "# 컬럼 정리\r\n",
    "df_result = df_result.drop(columns=['전과별(1)', '전과별(2)'])\r\n",
    "\r\n",
    "# 숫자형으로 변경\r\n",
    "df_result = df_result.astype(int)\r\n",
    "\r\n",
    "# 분류컬럼 추가\r\n",
    "# df_result['전과분류'] = ['합계', '재범']\r\n",
    "\r\n",
    "df_result.info()"
   ],
   "outputs": [
    {
     "output_type": "stream",
     "name": "stdout",
     "text": [
      "<class 'pandas.core.frame.DataFrame'>\n",
      "RangeIndex: 2 entries, 2 to 3\n",
      "Data columns (total 14 columns):\n",
      " #   Column  Non-Null Count  Dtype\n",
      "---  ------  --------------  -----\n",
      " 0   2006    2 non-null      int32\n",
      " 1   2007    2 non-null      int32\n",
      " 2   2008    2 non-null      int32\n",
      " 3   2009    2 non-null      int32\n",
      " 4   2010    2 non-null      int32\n",
      " 5   2011    2 non-null      int32\n",
      " 6   2012    2 non-null      int32\n",
      " 7   2013    2 non-null      int32\n",
      " 8   2014    2 non-null      int32\n",
      " 9   2015    2 non-null      int32\n",
      " 10  2016    2 non-null      int32\n",
      " 11  2017    2 non-null      int32\n",
      " 12  2018    2 non-null      int32\n",
      " 13  2019    2 non-null      int32\n",
      "dtypes: int32(14)\n",
      "memory usage: 244.0 bytes\n"
     ]
    }
   ],
   "metadata": {}
  },
  {
   "cell_type": "code",
   "execution_count": 60,
   "source": [
    "df_graph = pd.DataFrame(df_result.iloc[1] / df_result.iloc[0] * 100)\r\n",
    "# df_graph.columns = ['년도', '재범자 비율']\r\n",
    "df_graph.info()"
   ],
   "outputs": [
    {
     "output_type": "stream",
     "name": "stdout",
     "text": [
      "<class 'pandas.core.frame.DataFrame'>\n",
      "Index: 14 entries, 2006 to 2019\n",
      "Data columns (total 1 columns):\n",
      " #   Column  Non-Null Count  Dtype  \n",
      "---  ------  --------------  -----  \n",
      " 0   0       14 non-null     float64\n",
      "dtypes: float64(1)\n",
      "memory usage: 780.0+ bytes\n"
     ]
    }
   ],
   "metadata": {}
  },
  {
   "cell_type": "code",
   "execution_count": 62,
   "source": [
    "plt.figure(figsize=(15,4))\r\n",
    "sns.pointplot(data=df_graph, x=df_graph.index, y=0)\r\n",
    "\r\n",
    "plt.legend(loc='center right', bbox_to_anchor=(1.17, 0.5), ncol=1)"
   ],
   "outputs": [
    {
     "output_type": "stream",
     "name": "stderr",
     "text": [
      "No handles with labels found to put in legend.\n"
     ]
    },
    {
     "output_type": "execute_result",
     "data": {
      "text/plain": [
       "<matplotlib.legend.Legend at 0x1ca3fef0100>"
      ]
     },
     "metadata": {},
     "execution_count": 62
    },
    {
     "output_type": "display_data",
     "data": {
      "text/plain": [
       "<Figure size 1080x288 with 1 Axes>"
      ],
      "image/png": "[encoded data removed]"
     },
     "metadata": {
      "needs_background": "light"
     }
    }
   ],
   "metadata": {}
  }
 ],
 "metadata": {
  "orig_nbformat": 4,
  "language_info": {
   "name": "python"
  }
 },
 "nbformat": 4,
 "nbformat_minor": 2
}